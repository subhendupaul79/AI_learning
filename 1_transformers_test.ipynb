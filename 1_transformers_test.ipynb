{
  "cells": [
    {
      "cell_type": "markdown",
      "metadata": {
        "id": "view-in-github",
        "colab_type": "text"
      },
      "source": [
        "<a href=\"https://colab.research.google.com/github/subhendupaul79/AI_learning/blob/main/1_transformers_test.ipynb\" target=\"_parent\"><img src=\"https://colab.research.google.com/assets/colab-badge.svg\" alt=\"Open In Colab\"/></a>"
      ]
    },
    {
      "cell_type": "markdown",
      "source": [
        "nstalling Transformers\n",
        "Transformers is available on PyPI and you can install it with pip. Open a terminal or command prompt, create a new virtual environment, and then run the following command:"
      ],
      "metadata": {
        "id": "wCodRDYMSGts"
      }
    },
    {
      "cell_type": "code",
      "source": [
        "pip install transformers"
      ],
      "metadata": {
        "id": "DLD2vQP_M2RD",
        "outputId": "8befb6b5-ba7c-4dd5-f020-2768f8574231",
        "colab": {
          "base_uri": "https://localhost:8080/"
        }
      },
      "execution_count": null,
      "outputs": [
        {
          "output_type": "stream",
          "name": "stdout",
          "text": [
            "Requirement already satisfied: transformers in /usr/local/lib/python3.11/dist-packages (4.47.1)\n",
            "Requirement already satisfied: filelock in /usr/local/lib/python3.11/dist-packages (from transformers) (3.16.1)\n",
            "Requirement already satisfied: huggingface-hub<1.0,>=0.24.0 in /usr/local/lib/python3.11/dist-packages (from transformers) (0.27.1)\n",
            "Requirement already satisfied: numpy>=1.17 in /usr/local/lib/python3.11/dist-packages (from transformers) (1.26.4)\n",
            "Requirement already satisfied: packaging>=20.0 in /usr/local/lib/python3.11/dist-packages (from transformers) (24.2)\n",
            "Requirement already satisfied: pyyaml>=5.1 in /usr/local/lib/python3.11/dist-packages (from transformers) (6.0.2)\n",
            "Requirement already satisfied: regex!=2019.12.17 in /usr/local/lib/python3.11/dist-packages (from transformers) (2024.11.6)\n",
            "Requirement already satisfied: requests in /usr/local/lib/python3.11/dist-packages (from transformers) (2.32.3)\n",
            "Requirement already satisfied: tokenizers<0.22,>=0.21 in /usr/local/lib/python3.11/dist-packages (from transformers) (0.21.0)\n",
            "Requirement already satisfied: safetensors>=0.4.1 in /usr/local/lib/python3.11/dist-packages (from transformers) (0.5.2)\n",
            "Requirement already satisfied: tqdm>=4.27 in /usr/local/lib/python3.11/dist-packages (from transformers) (4.67.1)\n",
            "Requirement already satisfied: fsspec>=2023.5.0 in /usr/local/lib/python3.11/dist-packages (from huggingface-hub<1.0,>=0.24.0->transformers) (2024.10.0)\n",
            "Requirement already satisfied: typing-extensions>=3.7.4.3 in /usr/local/lib/python3.11/dist-packages (from huggingface-hub<1.0,>=0.24.0->transformers) (4.12.2)\n",
            "Requirement already satisfied: charset-normalizer<4,>=2 in /usr/local/lib/python3.11/dist-packages (from requests->transformers) (3.4.1)\n",
            "Requirement already satisfied: idna<4,>=2.5 in /usr/local/lib/python3.11/dist-packages (from requests->transformers) (3.10)\n",
            "Requirement already satisfied: urllib3<3,>=1.21.1 in /usr/local/lib/python3.11/dist-packages (from requests->transformers) (2.3.0)\n",
            "Requirement already satisfied: certifi>=2017.4.17 in /usr/local/lib/python3.11/dist-packages (from requests->transformers) (2024.12.14)\n"
          ]
        }
      ]
    },
    {
      "cell_type": "code",
      "source": [
        "pip install torch"
      ],
      "metadata": {
        "id": "UK-7rA1TM7Cb",
        "outputId": "d24a8438-5b3e-4d99-c59a-c4cbd16c91d0",
        "colab": {
          "base_uri": "https://localhost:8080/"
        }
      },
      "execution_count": null,
      "outputs": [
        {
          "output_type": "stream",
          "name": "stdout",
          "text": [
            "Requirement already satisfied: torch in /usr/local/lib/python3.11/dist-packages (2.5.1+cu121)\n",
            "Requirement already satisfied: filelock in /usr/local/lib/python3.11/dist-packages (from torch) (3.16.1)\n",
            "Requirement already satisfied: typing-extensions>=4.8.0 in /usr/local/lib/python3.11/dist-packages (from torch) (4.12.2)\n",
            "Requirement already satisfied: networkx in /usr/local/lib/python3.11/dist-packages (from torch) (3.4.2)\n",
            "Requirement already satisfied: jinja2 in /usr/local/lib/python3.11/dist-packages (from torch) (3.1.5)\n",
            "Requirement already satisfied: fsspec in /usr/local/lib/python3.11/dist-packages (from torch) (2024.10.0)\n",
            "Requirement already satisfied: nvidia-cuda-nvrtc-cu12==12.1.105 in /usr/local/lib/python3.11/dist-packages (from torch) (12.1.105)\n",
            "Requirement already satisfied: nvidia-cuda-runtime-cu12==12.1.105 in /usr/local/lib/python3.11/dist-packages (from torch) (12.1.105)\n",
            "Requirement already satisfied: nvidia-cuda-cupti-cu12==12.1.105 in /usr/local/lib/python3.11/dist-packages (from torch) (12.1.105)\n",
            "Requirement already satisfied: nvidia-cudnn-cu12==9.1.0.70 in /usr/local/lib/python3.11/dist-packages (from torch) (9.1.0.70)\n",
            "Requirement already satisfied: nvidia-cublas-cu12==12.1.3.1 in /usr/local/lib/python3.11/dist-packages (from torch) (12.1.3.1)\n",
            "Requirement already satisfied: nvidia-cufft-cu12==11.0.2.54 in /usr/local/lib/python3.11/dist-packages (from torch) (11.0.2.54)\n",
            "Requirement already satisfied: nvidia-curand-cu12==10.3.2.106 in /usr/local/lib/python3.11/dist-packages (from torch) (10.3.2.106)\n",
            "Requirement already satisfied: nvidia-cusolver-cu12==11.4.5.107 in /usr/local/lib/python3.11/dist-packages (from torch) (11.4.5.107)\n",
            "Requirement already satisfied: nvidia-cusparse-cu12==12.1.0.106 in /usr/local/lib/python3.11/dist-packages (from torch) (12.1.0.106)\n",
            "Requirement already satisfied: nvidia-nccl-cu12==2.21.5 in /usr/local/lib/python3.11/dist-packages (from torch) (2.21.5)\n",
            "Requirement already satisfied: nvidia-nvtx-cu12==12.1.105 in /usr/local/lib/python3.11/dist-packages (from torch) (12.1.105)\n",
            "Requirement already satisfied: triton==3.1.0 in /usr/local/lib/python3.11/dist-packages (from torch) (3.1.0)\n",
            "Requirement already satisfied: sympy==1.13.1 in /usr/local/lib/python3.11/dist-packages (from torch) (1.13.1)\n",
            "Requirement already satisfied: nvidia-nvjitlink-cu12 in /usr/local/lib/python3.11/dist-packages (from nvidia-cusolver-cu12==11.4.5.107->torch) (12.6.85)\n",
            "Requirement already satisfied: mpmath<1.4,>=1.1.0 in /usr/local/lib/python3.11/dist-packages (from sympy==1.13.1->torch) (1.3.0)\n",
            "Requirement already satisfied: MarkupSafe>=2.0 in /usr/local/lib/python3.11/dist-packages (from jinja2->torch) (3.0.2)\n"
          ]
        }
      ]
    },
    {
      "cell_type": "code",
      "source": [
        "import transformers\n",
        "import torch"
      ],
      "metadata": {
        "id": "_GEIL_SkM-bB"
      },
      "execution_count": 2,
      "outputs": []
    },
    {
      "cell_type": "markdown",
      "source": [
        "**Running Pipelines**\n",
        "\n",
        "Pipelines are the simplest way to use models out of the box in Transformers. In particular, the pipeline() function offers you a high-level abstraction over models in the Hugging Face Model Hub.\n",
        "\n",
        "To see how this works, suppose you want to use a sentiment classification model. Sentiment classification models take in text as input and output a score that indicates the likelihood that the text has negative, neutral, or positive sentiment. One popular sentiment classification model available in the hub is the cardiffnlp/twitter-roberta-base-sentiment-latest model."
      ],
      "metadata": {
        "id": "3ebuK_dlSTVy"
      }
    },
    {
      "cell_type": "code",
      "source": [
        "from transformers import pipeline\n",
        "\n",
        "model_name = \"cardiffnlp/twitter-roberta-base-sentiment-latest\"\n",
        "sentiment_classifier = pipeline(model=model_name)"
      ],
      "metadata": {
        "id": "QubuNVMCNEI8",
        "outputId": "e67f1da4-3e6e-408e-c4f7-135b1e67f957",
        "colab": {
          "base_uri": "https://localhost:8080/",
          "height": 371,
          "referenced_widgets": [
            "ac2f4c02a281496796a2dbe6f9996bc4",
            "b31ebc441adb4e4ba2805e35081f02a7",
            "b457b357445144a283b44daa7a334e87",
            "558f480495864894a41b751074290a64",
            "daf2b9fe8ee9429f96a5f346295701bd",
            "6b1abe3b868f484492be5841de1b6a16",
            "b9d63708cf6c4294829d6e04115afdd2",
            "7f568cc9ac8a46f490df2ced656664d6",
            "76c4229834e34abea1ae489e2661041f",
            "3e0a08408b4e4a5d9b70b34d4fdfeaa4",
            "656416f819d849fa90a537177009ddbb",
            "b796a8343abb4f0bbbd265424712b299",
            "66d874e3a8114d35a3f0b9d80153da2d",
            "ea21bbc0477f45b2adba5574d445ad00",
            "10a3ee559397486ba76873c27f057a05",
            "d7f265d19198487f86b77a08284a2231",
            "4beedc12bdde424987d72aa9bf039e75",
            "de43ce04156745568553216e45745638",
            "8a8e6f3c5491452d9707a5fb972e005e",
            "8ae014a75b894a27b55fd5b354d55615",
            "fd8cea3d0a014de8b18ef43635e80a2e",
            "96abcec252014346a935ec137b6def8f",
            "a3830a0f3fb94d75a0e92c601e6a0a33",
            "806e7558db6a4f269933470019bc3be4",
            "1feffa6f586541518cdda954a474ac68",
            "39e55b2abec849709bee8284e877e11e",
            "6f33c17c50b142c2bcf5b8978a9bb988",
            "18229a9a7da84cbebd52bd7e04b941a2",
            "9fda9b1cc32f452aa5d74f517d9b2b54",
            "4fdd7d69757e4205b35cbad3626d4917",
            "2899e524cea2404eba5992122d0232eb",
            "153dc3373e154e62a30ee2200739a013",
            "21f651b7c1f84b42937d37bd1b9d8663",
            "3e690defa9ac468cbb25c043fffb8d2a",
            "99f1ef6ec9334c6fb43d4241ec939416",
            "39b30606a79c448292897821a4ae8280",
            "d8a339450b92490983df2bffa80f7de7",
            "ddcd1ea561cb4cdb9af1ab415c1aa34b",
            "5c9d73b85eae45719c1c3fcc441b1c00",
            "4fd7118dee6448f8a905fd411e11e133",
            "8cdc9672f1db40979bda7989e54d79ab",
            "41876d69c7c64850a9bce69a37871131",
            "1568688aaf9f46b9bb8ad34d5d5bafeb",
            "66e4fe94df2f4f4a965c65ee0450c794",
            "0b28f34f006e4285a1990c89e7c5b728",
            "ce463e184ea8483185e44b54cb38cfb7",
            "2072298bafb741ca8e9dce42d16e0bc5",
            "80973abd79b346fb88d7734b74dc6d55",
            "b2e76c0d565747bd879c72f1aac42869",
            "356e02e33da141779d243be05e36ee23",
            "dc8d8a7007b244d78a0834a5cfb34a93",
            "a573b976626a470daa9b11d1dd6f0697",
            "7a24f4bba90f4ff3b60ff80e8010249b",
            "e16ad717083941bab44003a5d77a9716",
            "1f7788b3450846578882c737b52d8c06"
          ]
        }
      },
      "execution_count": 3,
      "outputs": [
        {
          "output_type": "stream",
          "name": "stderr",
          "text": [
            "/usr/local/lib/python3.11/dist-packages/huggingface_hub/utils/_auth.py:94: UserWarning: \n",
            "The secret `HF_TOKEN` does not exist in your Colab secrets.\n",
            "To authenticate with the Hugging Face Hub, create a token in your settings tab (https://huggingface.co/settings/tokens), set it as secret in your Google Colab and restart your session.\n",
            "You will be able to reuse this secret in all of your notebooks.\n",
            "Please note that authentication is recommended but still optional to access public models or datasets.\n",
            "  warnings.warn(\n"
          ]
        },
        {
          "output_type": "display_data",
          "data": {
            "text/plain": [
              "config.json:   0%|          | 0.00/929 [00:00<?, ?B/s]"
            ],
            "application/vnd.jupyter.widget-view+json": {
              "version_major": 2,
              "version_minor": 0,
              "model_id": "ac2f4c02a281496796a2dbe6f9996bc4"
            }
          },
          "metadata": {}
        },
        {
          "output_type": "display_data",
          "data": {
            "text/plain": [
              "pytorch_model.bin:   0%|          | 0.00/501M [00:00<?, ?B/s]"
            ],
            "application/vnd.jupyter.widget-view+json": {
              "version_major": 2,
              "version_minor": 0,
              "model_id": "b796a8343abb4f0bbbd265424712b299"
            }
          },
          "metadata": {}
        },
        {
          "output_type": "stream",
          "name": "stderr",
          "text": [
            "Some weights of the model checkpoint at cardiffnlp/twitter-roberta-base-sentiment-latest were not used when initializing RobertaForSequenceClassification: ['roberta.pooler.dense.bias', 'roberta.pooler.dense.weight']\n",
            "- This IS expected if you are initializing RobertaForSequenceClassification from the checkpoint of a model trained on another task or with another architecture (e.g. initializing a BertForSequenceClassification model from a BertForPreTraining model).\n",
            "- This IS NOT expected if you are initializing RobertaForSequenceClassification from the checkpoint of a model that you expect to be exactly identical (initializing a BertForSequenceClassification model from a BertForSequenceClassification model).\n"
          ]
        },
        {
          "output_type": "display_data",
          "data": {
            "text/plain": [
              "vocab.json:   0%|          | 0.00/899k [00:00<?, ?B/s]"
            ],
            "application/vnd.jupyter.widget-view+json": {
              "version_major": 2,
              "version_minor": 0,
              "model_id": "a3830a0f3fb94d75a0e92c601e6a0a33"
            }
          },
          "metadata": {}
        },
        {
          "output_type": "display_data",
          "data": {
            "text/plain": [
              "merges.txt:   0%|          | 0.00/456k [00:00<?, ?B/s]"
            ],
            "application/vnd.jupyter.widget-view+json": {
              "version_major": 2,
              "version_minor": 0,
              "model_id": "3e690defa9ac468cbb25c043fffb8d2a"
            }
          },
          "metadata": {}
        },
        {
          "output_type": "display_data",
          "data": {
            "text/plain": [
              "special_tokens_map.json:   0%|          | 0.00/239 [00:00<?, ?B/s]"
            ],
            "application/vnd.jupyter.widget-view+json": {
              "version_major": 2,
              "version_minor": 0,
              "model_id": "0b28f34f006e4285a1990c89e7c5b728"
            }
          },
          "metadata": {}
        },
        {
          "output_type": "stream",
          "name": "stderr",
          "text": [
            "Device set to use cpu\n"
          ]
        }
      ]
    },
    {
      "cell_type": "code",
      "source": [
        "text_input = \"I'm really excited about using Hugging Face to run AI models!\"\n",
        "sentiment_classifier(text_input)"
      ],
      "metadata": {
        "id": "N2cL5PeSNahl",
        "outputId": "85180dd7-4840-4244-d3cd-5504cf211796",
        "colab": {
          "base_uri": "https://localhost:8080/"
        }
      },
      "execution_count": null,
      "outputs": [
        {
          "output_type": "execute_result",
          "data": {
            "text/plain": [
              "[{'label': 'positive', 'score': 0.9863850474357605}]"
            ]
          },
          "metadata": {},
          "execution_count": 5
        }
      ]
    },
    {
      "cell_type": "code",
      "source": [
        "text_input = \"I have been grilled today!\"\n",
        "sentiment_classifier(text_input)"
      ],
      "metadata": {
        "id": "gbUZUiNUNdBV",
        "outputId": "07115617-9cb8-4acb-c8fb-28f272c43fc8",
        "colab": {
          "base_uri": "https://localhost:8080/"
        }
      },
      "execution_count": 5,
      "outputs": [
        {
          "output_type": "execute_result",
          "data": {
            "text/plain": [
              "[{'label': 'neutral', 'score': 0.4520348608493805}]"
            ]
          },
          "metadata": {},
          "execution_count": 5
        }
      ]
    },
    {
      "cell_type": "code",
      "source": [
        "text_input = \"Its lot of fun today!\"\n",
        "sentiment_classifier(text_input)"
      ],
      "metadata": {
        "id": "DJe0mNj2Q3Fg",
        "outputId": "611ffe77-5b18-457b-9c77-d204b572c77c",
        "colab": {
          "base_uri": "https://localhost:8080/"
        }
      },
      "execution_count": 6,
      "outputs": [
        {
          "output_type": "execute_result",
          "data": {
            "text/plain": [
              "[{'label': 'positive', 'score': 0.9875667095184326}]"
            ]
          },
          "metadata": {},
          "execution_count": 6
        }
      ]
    },
    {
      "cell_type": "markdown",
      "source": [
        "The model scores range from 0 to 1. In the first example, sentiment_classifier predicts that the text has positive sentiment with high confidence. In the second and third examples, sentiment_classifier predicts the texts are negative and neutral, respectively.\n",
        "\n",
        "If you want to classify multiple texts in one function call, you can pass a list into sentiment_classifier:\n",
        "\n"
      ],
      "metadata": {
        "id": "k7SlbtBESbzA"
      }
    },
    {
      "cell_type": "code",
      "source": [
        "text_inputs = [\n",
        "\"What a great time to be alive!\",\n",
        "\"How are you doing today?\",\n",
        "\"I'm in a horrible mood.\",\n",
        "]\n",
        "\n",
        "sentiment_classifier(text_inputs)"
      ],
      "metadata": {
        "id": "WNc8Ij2FRAME",
        "outputId": "9f41adc7-b857-41c8-e244-f08832782f41",
        "colab": {
          "base_uri": "https://localhost:8080/"
        }
      },
      "execution_count": 7,
      "outputs": [
        {
          "output_type": "execute_result",
          "data": {
            "text/plain": [
              "[{'label': 'positive', 'score': 0.9838392734527588},\n",
              " {'label': 'neutral', 'score': 0.7096881866455078},\n",
              " {'label': 'negative', 'score': 0.923816442489624}]"
            ]
          },
          "metadata": {},
          "execution_count": 7
        }
      ]
    },
    {
      "cell_type": "markdown",
      "source": [
        "While every model in the hub has a slightly different interface, pipeline() is flexible enough to handle all of them. For example, a step up in complexity from sentiment classification is zero-shot text classification. Instead of classifying text as positive, neutral, or negative, zero-shot text classification models can classify text into arbitrary categories.\n",
        "\n",
        "Here’s how you could instantiate a zero-shot text classifier with pipeline()"
      ],
      "metadata": {
        "id": "NenYHXcQRftI"
      }
    },
    {
      "cell_type": "code",
      "source": [
        "model_name = \"MoritzLaurer/deberta-v3-large-zeroshot-v2.0\"\n",
        "zs_text_classifier = pipeline(model=model_name)"
      ],
      "metadata": {
        "id": "QHuL5Gt3RdxU",
        "outputId": "41a0ee02-75e1-4728-ba83-6134ab54dbc9",
        "colab": {
          "base_uri": "https://localhost:8080/",
          "height": 258,
          "referenced_widgets": [
            "d433f8fe85c44b44bd62fbd5f967788a",
            "7ffd3778d30549e9bfb6bbc77c6ba30f",
            "93303ccdd06f4101b07baf92f6f85945",
            "c3fb2f98724d4ab6bdd98521307b6089",
            "dec6800458e1462b9fa85072fce32d79",
            "e3513c26f87c438c9df0a2ebbc1424b7",
            "579268df9b08495984058a856e57d440",
            "7d458274d2df4f9e9a69321040abd0d2",
            "a412c79c3b6c4abe8773b93730597aba",
            "399190eb709948caad0cd775ffa2e315",
            "7660bca7d0fe4d0b89efc2946fe50ce9",
            "a6e37b47682f4b42a941dd022dfc9ed8",
            "d881a0fbf8534c338a23494da55b864d",
            "45572f060a1d46f7940bc57bdde80786",
            "b06bc2478d69402fa30962241bed28d4",
            "43acb77f2c4142c7a3680046aed28a58",
            "24b98e0e953946169965eb6d816f8364",
            "d0058dea976b4712a99a05dde6fb5c5e",
            "343dd357805d46cf940d95b4b5ea53da",
            "77784074bfc74772b39c1aa5258eebc2",
            "27a2d1cb9a7a43baa116a8af0eab00c8",
            "c11418bceebe46bda1504b5628df8e49",
            "c0a877ffab1840c6a5757742e8b316b8",
            "bc16ed1c08c746e29ec5606047d466dd",
            "8b4020a77e0a42eda6a46fd9ade026d2",
            "cb1efaa7a2da4d04b78e4eb9bc8d9b72",
            "cb669358ff4a49c0b35df9a4299ce877",
            "0d5ace7e574b466b8d04a31eb7b134f2",
            "d8f58204f65244ccba5013adcb90114d",
            "75ee3b8d6945424493075e1af59dc330",
            "62adad745f9b4e5ca15d93f65bfc0cbe",
            "4e97f9be8b8d4696944ba993806f06ee",
            "815ad066cff742d086cfc644a6d96e4f",
            "cc0a7b3983e34380b664a5c60e61a5e4",
            "91c4f0b31ae84e8c9e68e8c4cf16f911",
            "0e35b93dd5764c68aec2244c5b368f96",
            "d4b3a01c6c8a4b33a8e4e82b24c9f3fe",
            "420ec988a2bb4ee59e546794731624af",
            "ecd69692495d42e7ba260ac623b0bab8",
            "e2f8a540bc624acaa00aeb12a8de0d30",
            "a485690f69f94a338aa1cc56c93aaaf2",
            "569ac5d8dc6b4445a1ccc7e3622db92d",
            "a3acfe8f0c5340e586166c7fb47f9bb2",
            "61811208bc5746dc93d91119f5f0943b",
            "4bc63135425c4257b26b55a56b17e474",
            "6a3bfbdd371a47f484d511a728ba73bd",
            "94bc577478ca4d218547dd050916d079",
            "c0d4b6760c574e7f9df88bbbd80d1cdb",
            "e52188a95d0a46af8c939713d28c4b07",
            "df46d3ab89b14d849d079b73ecb92bed",
            "45b132e4c5aa4b72b1cf958cf09b25d0",
            "3335337daf494bb48aa6e751bd69a5d3",
            "9e7f0ef8939b41569f127f17c8fcb0fd",
            "edf36eb4bb8943b3a12f74d2f3a9e79c",
            "ad4d71cc5d6a4d878066e19070f945cd",
            "4d156c0b03f746409dc3eb7730725b6f",
            "07004135a7854aeb8324c42d2ab9d534",
            "3d136e9f3ace423f8224467e082fcadc",
            "98c16528e0fd45199eabb2c35312e223",
            "ac9322f929194d62bc20dc1c6b445b57",
            "d79a6f63ea6c4c90a1c80c06311a4be6",
            "59fc23d8c12e4bc981dfdba58facfb74",
            "04cbeb3dbb24445ab4c3aa6b3e78beb4",
            "285025f107a643ab9ae505bb003d3b33",
            "a3b9fd88789d447890e98dd0e5ecf312",
            "88c6e36453d345b6b95b6948acb1bc97",
            "074e3d0447ae4b8f839930a213c242fd",
            "0b127ab9aa0a484bbd2e7b85e36fe088",
            "9b2971ec78b24d9ca36cc4dd93c1dd13",
            "337c12ae8f734d09a0fda70bf80f23fb",
            "b33ccf218f7e48d684dda6f7dd8b9f0b",
            "0b62f8c361934d1c9bdad5ccf63fe4ba",
            "bc932a5ddb414725b7155c571d89736b",
            "649c11e858c04a1bbc74b7d20ec7c609",
            "1cbe88ff404041d6be2d875f7d792f89",
            "107f34fb9084438ebb9265e7ae022bc6",
            "15f3e9ab1dfc49628334165f317e1a2a"
          ]
        }
      },
      "execution_count": 8,
      "outputs": [
        {
          "output_type": "display_data",
          "data": {
            "text/plain": [
              "config.json:   0%|          | 0.00/1.02k [00:00<?, ?B/s]"
            ],
            "application/vnd.jupyter.widget-view+json": {
              "version_major": 2,
              "version_minor": 0,
              "model_id": "d433f8fe85c44b44bd62fbd5f967788a"
            }
          },
          "metadata": {}
        },
        {
          "output_type": "display_data",
          "data": {
            "text/plain": [
              "model.safetensors:   0%|          | 0.00/870M [00:00<?, ?B/s]"
            ],
            "application/vnd.jupyter.widget-view+json": {
              "version_major": 2,
              "version_minor": 0,
              "model_id": "a6e37b47682f4b42a941dd022dfc9ed8"
            }
          },
          "metadata": {}
        },
        {
          "output_type": "display_data",
          "data": {
            "text/plain": [
              "tokenizer_config.json:   0%|          | 0.00/1.26k [00:00<?, ?B/s]"
            ],
            "application/vnd.jupyter.widget-view+json": {
              "version_major": 2,
              "version_minor": 0,
              "model_id": "c0a877ffab1840c6a5757742e8b316b8"
            }
          },
          "metadata": {}
        },
        {
          "output_type": "display_data",
          "data": {
            "text/plain": [
              "spm.model:   0%|          | 0.00/2.46M [00:00<?, ?B/s]"
            ],
            "application/vnd.jupyter.widget-view+json": {
              "version_major": 2,
              "version_minor": 0,
              "model_id": "cc0a7b3983e34380b664a5c60e61a5e4"
            }
          },
          "metadata": {}
        },
        {
          "output_type": "display_data",
          "data": {
            "text/plain": [
              "tokenizer.json:   0%|          | 0.00/8.66M [00:00<?, ?B/s]"
            ],
            "application/vnd.jupyter.widget-view+json": {
              "version_major": 2,
              "version_minor": 0,
              "model_id": "4bc63135425c4257b26b55a56b17e474"
            }
          },
          "metadata": {}
        },
        {
          "output_type": "display_data",
          "data": {
            "text/plain": [
              "added_tokens.json:   0%|          | 0.00/23.0 [00:00<?, ?B/s]"
            ],
            "application/vnd.jupyter.widget-view+json": {
              "version_major": 2,
              "version_minor": 0,
              "model_id": "4d156c0b03f746409dc3eb7730725b6f"
            }
          },
          "metadata": {}
        },
        {
          "output_type": "display_data",
          "data": {
            "text/plain": [
              "special_tokens_map.json:   0%|          | 0.00/970 [00:00<?, ?B/s]"
            ],
            "application/vnd.jupyter.widget-view+json": {
              "version_major": 2,
              "version_minor": 0,
              "model_id": "074e3d0447ae4b8f839930a213c242fd"
            }
          },
          "metadata": {}
        },
        {
          "output_type": "stream",
          "name": "stderr",
          "text": [
            "Device set to use cpu\n"
          ]
        }
      ]
    },
    {
      "cell_type": "code",
      "source": [
        "candidate_labels = [\n",
        "\"Billing Issues\",\n",
        "\"Technical Support\",\n",
        "\"Account Information\",\n",
        "\"General Inquiry\",\n",
        "]\n",
        "\n",
        "hypothesis_template = \"This text is about {}\""
      ],
      "metadata": {
        "id": "AslUYi1_SdRk"
      },
      "execution_count": 10,
      "outputs": []
    },
    {
      "cell_type": "code",
      "source": [
        "customer_text = \"My account was charged twice for a single order.\"\n",
        "zs_text_classifier( customer_text,\n",
        "                    candidate_labels,\n",
        "                    hypothesis_template = hypothesis_template,\n",
        "                    multi_label=True\n",
        "                  )"
      ],
      "metadata": {
        "id": "h88TC3PASyU9",
        "outputId": "d92ed74f-1842-4d39-bb04-8296fff1f382",
        "colab": {
          "base_uri": "https://localhost:8080/"
        }
      },
      "execution_count": 11,
      "outputs": [
        {
          "output_type": "execute_result",
          "data": {
            "text/plain": [
              "{'sequence': 'My account was charged twice for a single order.',\n",
              " 'labels': ['Billing Issues',\n",
              "  'General Inquiry',\n",
              "  'Account Information',\n",
              "  'Technical Support'],\n",
              " 'scores': [0.9884458780288696,\n",
              "  0.01255008764564991,\n",
              "  0.008041918277740479,\n",
              "  0.0002198851143475622]}"
            ]
          },
          "metadata": {},
          "execution_count": 11
        }
      ]
    },
    {
      "cell_type": "code",
      "source": [
        "customer_text = \"I dont know what is happening... the sound is very low in the phone\"\n",
        "zs_text_classifier( customer_text,\n",
        "                    candidate_labels,\n",
        "                    hypothesis_template = hypothesis_template,\n",
        "                    multi_label=True\n",
        "                  )"
      ],
      "metadata": {
        "id": "Zl3zTadSTX7H",
        "outputId": "1bcd7b21-8585-4999-e436-6b3ba85d736e",
        "colab": {
          "base_uri": "https://localhost:8080/"
        }
      },
      "execution_count": 12,
      "outputs": [
        {
          "output_type": "execute_result",
          "data": {
            "text/plain": [
              "{'sequence': 'I dont know what is happening... the sound is very low in the phone',\n",
              " 'labels': ['Technical Support',\n",
              "  'General Inquiry',\n",
              "  'Account Information',\n",
              "  'Billing Issues'],\n",
              " 'scores': [0.09799374639987946,\n",
              "  0.024624081328511238,\n",
              "  0.0001900850620586425,\n",
              "  0.00011490406905068085]}"
            ]
          },
          "metadata": {},
          "execution_count": 12
        }
      ]
    },
    {
      "cell_type": "markdown",
      "source": [
        "To further demonstrate the power of pipelines, you’ll use pipeline() to classify an image. Image classification is a sub-task of computer vision where a model predicts the likelihood that an image belongs to a specified class. Similar to NLP, image classifiers in the Model Hub can be pretrained on a specific set of labels or they can be trained for zero-shot classification.\n",
        "\n",
        "In order to use image classifiers from Transformers, you must install Python’s image processing library, Pillow:"
      ],
      "metadata": {
        "id": "31Roc87zT2bI"
      }
    },
    {
      "cell_type": "code",
      "source": [
        "pip install Pillow"
      ],
      "metadata": {
        "id": "YrJgFzEaT30a",
        "outputId": "0be9b546-49cd-4e89-e44a-e65618687bc0",
        "colab": {
          "base_uri": "https://localhost:8080/"
        }
      },
      "execution_count": 13,
      "outputs": [
        {
          "output_type": "stream",
          "name": "stdout",
          "text": [
            "Requirement already satisfied: Pillow in /usr/local/lib/python3.11/dist-packages (11.1.0)\n"
          ]
        }
      ]
    },
    {
      "cell_type": "code",
      "source": [
        "image_classifier = pipeline(task=\"image-classification\")"
      ],
      "metadata": {
        "id": "EmXl52owUACY",
        "outputId": "314f580c-bb69-4192-8f8c-dca69c70c03a",
        "colab": {
          "base_uri": "https://localhost:8080/",
          "height": 202,
          "referenced_widgets": [
            "58af2ca1acc045f89fbb82de8c9a11e0",
            "26922fd09f464b29aa839f6f384d1ad1",
            "ded4ab5a740d4ed5b4ef348f75aa938b",
            "f3d33188ac15401497e3c6e769b09d6f",
            "7860e677a96d4e77a7d867558e3b303f",
            "9904d073a0ae47f5b4320b2e1817d260",
            "09ff3e298cf142afa30c076e845a15f0",
            "bbe673fb1dd443298d295e0ac086748a",
            "ef90e6e6e804410f971ea5177fc30dd7",
            "369226f3f2984817bf4cc475c0555796",
            "108c21fde0644893b3390c58de9b4a91",
            "0e1f2c99b5ef434ba5a11a94ad8d048e",
            "17a8ab92459a4a76be5deb192c38d4ce",
            "9b1db66562a944538be798782ffc1c02",
            "b5a3cf28a16342438047f908e2efd7a2",
            "898d553eb7ee434da5418f30971a3090",
            "a1dc5c1aa6f74a7ca86afd8ba489e4a1",
            "a6eccfa802824edf910ab89ee206d014",
            "c02ad80e0bd444c5a98a377ebf09369f",
            "4d705e387839416ba94e6785584601dc",
            "2f555e91d8aa430c9dde3d0feebc0755",
            "068bb25fa0914f9790e97248a810b0bd",
            "5925c2c4bf564544bda1f2d01716f945",
            "db9695977ab94ec5811ad6c81a77b85e",
            "02099a9496e5423aa289fa9f4c8403a2",
            "231da15f58104179af77cedf3da1b5f7",
            "8a7773f261c04c40978817c2afc66d5b",
            "d75a497ebed54d9d9cdba02ab828d2e5",
            "12d78c03ac7d47d6800f05d9113c2016",
            "90d0a7c4bf934a9babebdb1139ab702d",
            "5efc9dc8cf5043b19807ef4fce17209a",
            "21d7b800a46f4adfb0dae3c67c078300",
            "c1cb730f20d74b638df03e6e0a2dafe2"
          ]
        }
      },
      "execution_count": 14,
      "outputs": [
        {
          "output_type": "stream",
          "name": "stderr",
          "text": [
            "No model was supplied, defaulted to google/vit-base-patch16-224 and revision 3f49326 (https://huggingface.co/google/vit-base-patch16-224).\n",
            "Using a pipeline without specifying a model name and revision in production is not recommended.\n"
          ]
        },
        {
          "output_type": "display_data",
          "data": {
            "text/plain": [
              "config.json:   0%|          | 0.00/69.7k [00:00<?, ?B/s]"
            ],
            "application/vnd.jupyter.widget-view+json": {
              "version_major": 2,
              "version_minor": 0,
              "model_id": "58af2ca1acc045f89fbb82de8c9a11e0"
            }
          },
          "metadata": {}
        },
        {
          "output_type": "display_data",
          "data": {
            "text/plain": [
              "model.safetensors:   0%|          | 0.00/346M [00:00<?, ?B/s]"
            ],
            "application/vnd.jupyter.widget-view+json": {
              "version_major": 2,
              "version_minor": 0,
              "model_id": "0e1f2c99b5ef434ba5a11a94ad8d048e"
            }
          },
          "metadata": {}
        },
        {
          "output_type": "display_data",
          "data": {
            "text/plain": [
              "preprocessor_config.json:   0%|          | 0.00/160 [00:00<?, ?B/s]"
            ],
            "application/vnd.jupyter.widget-view+json": {
              "version_major": 2,
              "version_minor": 0,
              "model_id": "5925c2c4bf564544bda1f2d01716f945"
            }
          },
          "metadata": {}
        },
        {
          "output_type": "stream",
          "name": "stderr",
          "text": [
            "Fast image processor class <class 'transformers.models.vit.image_processing_vit_fast.ViTImageProcessorFast'> is available for this model. Using slow image processor class. To use the fast image processor class set `use_fast=True`.\n",
            "Device set to use cpu\n"
          ]
        }
      ]
    },
    {
      "cell_type": "markdown",
      "source": [
        "Notice here that you don’t pass the model argument into pipeline(). Instead, you specify the task as image-classification, and pipeline() returns the google/vit-base-patch16-224 model by default. This model is pretrained on a fixed set of labels, so you can specify the labels as you do with zero-shot classification."
      ],
      "metadata": {
        "id": "-w5ac3b2UMdF"
      }
    },
    {
      "cell_type": "code",
      "source": [
        "predictions = image_classifier([\"/content/aicheck1.jpg\"])"
      ],
      "metadata": {
        "id": "QgbSxrx9UORG"
      },
      "execution_count": 15,
      "outputs": []
    },
    {
      "cell_type": "code",
      "source": [
        "len(predictions[0])"
      ],
      "metadata": {
        "id": "ENpCHRz_U1kJ",
        "outputId": "712774e4-b82e-40bb-c99b-dd0710e03a6d",
        "colab": {
          "base_uri": "https://localhost:8080/"
        }
      },
      "execution_count": 16,
      "outputs": [
        {
          "output_type": "execute_result",
          "data": {
            "text/plain": [
              "5"
            ]
          },
          "metadata": {},
          "execution_count": 16
        }
      ]
    },
    {
      "cell_type": "code",
      "source": [
        "predictions[0][0]"
      ],
      "metadata": {
        "id": "1ggoH_vNU6gD",
        "outputId": "18ef4ddc-38ae-4dc7-87b0-d6fd3ad2d283",
        "colab": {
          "base_uri": "https://localhost:8080/"
        }
      },
      "execution_count": 17,
      "outputs": [
        {
          "output_type": "execute_result",
          "data": {
            "text/plain": [
              "{'label': 'golden retriever', 'score': 0.4045911729335785}"
            ]
          },
          "metadata": {},
          "execution_count": 17
        }
      ]
    },
    {
      "cell_type": "code",
      "source": [
        "predictions[0][1]"
      ],
      "metadata": {
        "id": "XKBLiLQvVAHK",
        "outputId": "0fc8e463-f309-442c-8416-098885c8102a",
        "colab": {
          "base_uri": "https://localhost:8080/"
        }
      },
      "execution_count": 18,
      "outputs": [
        {
          "output_type": "execute_result",
          "data": {
            "text/plain": [
              "{'label': 'bath towel', 'score': 0.1267627775669098}"
            ]
          },
          "metadata": {},
          "execution_count": 18
        }
      ]
    },
    {
      "cell_type": "code",
      "source": [
        "predictions[0][2]"
      ],
      "metadata": {
        "id": "fWPSmWJgVDUV",
        "outputId": "9af6d9a0-0340-4ecd-8048-fc6951e12260",
        "colab": {
          "base_uri": "https://localhost:8080/"
        }
      },
      "execution_count": 19,
      "outputs": [
        {
          "output_type": "execute_result",
          "data": {
            "text/plain": [
              "{'label': 'tabby, tabby cat', 'score': 0.09975767135620117}"
            ]
          },
          "metadata": {},
          "execution_count": 19
        }
      ]
    },
    {
      "cell_type": "code",
      "source": [
        "predictions[0][3]"
      ],
      "metadata": {
        "id": "htWcOT9tVZR0",
        "outputId": "ae0b3e8b-78ac-450c-992d-602bbcbbc9e9",
        "colab": {
          "base_uri": "https://localhost:8080/"
        }
      },
      "execution_count": 20,
      "outputs": [
        {
          "output_type": "execute_result",
          "data": {
            "text/plain": [
              "{'label': 'Egyptian cat', 'score': 0.044161804020404816}"
            ]
          },
          "metadata": {},
          "execution_count": 20
        }
      ]
    },
    {
      "cell_type": "markdown",
      "source": [
        "**Looking Under the Hood With Auto Classes**\n",
        "\n",
        "As you’ve seen so far, pipelines make it easy to use models out of the box. However, you may want to further customize models through techniques like fine-tuning. Fine-tuning is a technique that adapts a pretrained model to a specific task with potentially different but related data. For example, you could take an existing image classifier in the Model Hub and further train it to classify images that are proprietary to your company.\n",
        "\n",
        "For customization tasks like fine-tuning, Transformers allows you to access the lower-level components that make up pipelines via auto classes. This section won’t go over fine-tuning or other customizations specifically, but you’ll get a deeper understanding of how pipelines work under the hood by looking at their auto classes.\n",
        "\n",
        "Suppose you want more granular access and understanding of the cardiffnlp/twitter-roberta-base-sentiment-latest sentiment classifier pipeline you saw in the previous section. The first component of this pipeline, and almost every NLP pipeline, is the tokenizer.\n",
        "\n",
        "Tokens can be words, subwords, or even characters, depending on the design of the tokenizer. A tokenizer is a component that processes input text and converts it into a format that the model can understand. It does this by breaking the text into tokens and associating those tokens with an ID.\n",
        "\n",
        "![image.png](data:image/png;base64,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)\n",
        "\n",
        "You can access tokenizers using the AutoTokenizer class. To see how this works, take a look at this example:"
      ],
      "metadata": {
        "id": "_HjZ67hhV7h0"
      }
    },
    {
      "cell_type": "code",
      "source": [
        "from transformers import AutoTokenizer\n",
        "\n",
        "model_name = \"cardiffnlp/twitter-roberta-base-sentiment-latest\"\n",
        "tokenizer = AutoTokenizer.from_pretrained(model_name)\n",
        "\n",
        "input_text = \"I really want to go to an island. Do you want to go?\"\n",
        "encoded_input = tokenizer(input_text)\n",
        "encoded_input[\"input_ids\"]"
      ],
      "metadata": {
        "id": "cMnC4hVYWgDf",
        "outputId": "954e730d-3d2b-4451-dc35-d9195f7097f2",
        "colab": {
          "base_uri": "https://localhost:8080/"
        }
      },
      "execution_count": 21,
      "outputs": [
        {
          "output_type": "execute_result",
          "data": {
            "text/plain": [
              "[0, 100, 269, 236, 7, 213, 7, 41, 2946, 4, 1832, 47, 236, 7, 213, 116, 2]"
            ]
          },
          "metadata": {},
          "execution_count": 21
        }
      ]
    },
    {
      "cell_type": "code",
      "source": [
        "tokenizer.convert_ids_to_tokens(7)"
      ],
      "metadata": {
        "id": "_OtHD9BoWvKn",
        "outputId": "dcd29071-fc5e-4629-db77-015be8f3ae91",
        "colab": {
          "base_uri": "https://localhost:8080/",
          "height": 35
        }
      },
      "execution_count": 22,
      "outputs": [
        {
          "output_type": "execute_result",
          "data": {
            "text/plain": [
              "'Ġto'"
            ],
            "application/vnd.google.colaboratory.intrinsic+json": {
              "type": "string"
            }
          },
          "metadata": {},
          "execution_count": 22
        }
      ]
    },
    {
      "cell_type": "code",
      "source": [
        "tokenizer.convert_ids_to_tokens(encoded_input[\"input_ids\"])"
      ],
      "metadata": {
        "id": "_5MQaKJ-XIAw",
        "outputId": "580b0c60-cf4c-4952-b324-542be1432919",
        "colab": {
          "base_uri": "https://localhost:8080/"
        }
      },
      "execution_count": 23,
      "outputs": [
        {
          "output_type": "execute_result",
          "data": {
            "text/plain": [
              "['<s>',\n",
              " 'I',\n",
              " 'Ġreally',\n",
              " 'Ġwant',\n",
              " 'Ġto',\n",
              " 'Ġgo',\n",
              " 'Ġto',\n",
              " 'Ġan',\n",
              " 'Ġisland',\n",
              " '.',\n",
              " 'ĠDo',\n",
              " 'Ġyou',\n",
              " 'Ġwant',\n",
              " 'Ġto',\n",
              " 'Ġgo',\n",
              " '?',\n",
              " '</s>']"
            ]
          },
          "metadata": {},
          "execution_count": 23
        }
      ]
    },
    {
      "cell_type": "markdown",
      "source": [
        "You can see how many tokens are in the tokenizer’s vocabulary by looking at the vocab_size attribute:"
      ],
      "metadata": {
        "id": "GNJLJitZXxhZ"
      }
    },
    {
      "cell_type": "code",
      "source": [
        "tokenizer.vocab_size"
      ],
      "metadata": {
        "id": "Sem6mNzuXt0n",
        "outputId": "44b78782-3dae-479c-a0e7-8801ced42449",
        "colab": {
          "base_uri": "https://localhost:8080/"
        }
      },
      "execution_count": 25,
      "outputs": [
        {
          "output_type": "execute_result",
          "data": {
            "text/plain": [
              "50265"
            ]
          },
          "metadata": {},
          "execution_count": 25
        }
      ]
    },
    {
      "cell_type": "code",
      "source": [
        "new_tokens = [\n",
        "    \"whaleshark\",\n",
        "    \"unicorn\",\n",
        "]\n",
        "\n"
      ],
      "metadata": {
        "id": "1OOH85UrX--O"
      },
      "execution_count": 31,
      "outputs": []
    },
    {
      "cell_type": "code",
      "source": [
        "tokenizer.convert_tokens_to_ids(new_tokens)"
      ],
      "metadata": {
        "id": "qOlBSSPtYeuS",
        "outputId": "b9e77078-88d8-4bdb-a0cf-e90ea7cd97d0",
        "colab": {
          "base_uri": "https://localhost:8080/"
        }
      },
      "execution_count": 32,
      "outputs": [
        {
          "output_type": "execute_result",
          "data": {
            "text/plain": [
              "[50265, 50266]"
            ]
          },
          "metadata": {},
          "execution_count": 32
        }
      ]
    },
    {
      "cell_type": "code",
      "source": [],
      "metadata": {
        "id": "uVo997SgYmBa"
      },
      "execution_count": null,
      "outputs": []
    },
    {
      "cell_type": "code",
      "source": [
        "tokenizer.add_tokens(new_tokens)"
      ],
      "metadata": {
        "id": "tsraUpdtYRTy",
        "outputId": "2644ac0d-181c-410d-8772-d97ab81fb8ed",
        "colab": {
          "base_uri": "https://localhost:8080/"
        }
      },
      "execution_count": 29,
      "outputs": [
        {
          "output_type": "execute_result",
          "data": {
            "text/plain": [
              "0"
            ]
          },
          "metadata": {},
          "execution_count": 29
        }
      ]
    },
    {
      "cell_type": "code",
      "source": [
        "import torch\n",
        "from transformers import (\n",
        "    AutoTokenizer,\n",
        "    AutoModelForSequenceClassification\n",
        ")\n",
        "\n",
        "model_name = \"cardiffnlp/twitter-roberta-base-sentiment-latest\"\n",
        "\n",
        "tokenizer = AutoTokenizer.from_pretrained(model_name)\n",
        "model = AutoModelForSequenceClassification.from_pretrained(model_name)\n",
        "model\n"
      ],
      "metadata": {
        "id": "OG5Z6iLsYFRu",
        "outputId": "6c171dd7-1dae-4492-e6e5-c6b82f80d78f",
        "colab": {
          "base_uri": "https://localhost:8080/"
        }
      },
      "execution_count": 33,
      "outputs": [
        {
          "output_type": "stream",
          "name": "stderr",
          "text": [
            "Some weights of the model checkpoint at cardiffnlp/twitter-roberta-base-sentiment-latest were not used when initializing RobertaForSequenceClassification: ['roberta.pooler.dense.bias', 'roberta.pooler.dense.weight']\n",
            "- This IS expected if you are initializing RobertaForSequenceClassification from the checkpoint of a model trained on another task or with another architecture (e.g. initializing a BertForSequenceClassification model from a BertForPreTraining model).\n",
            "- This IS NOT expected if you are initializing RobertaForSequenceClassification from the checkpoint of a model that you expect to be exactly identical (initializing a BertForSequenceClassification model from a BertForSequenceClassification model).\n"
          ]
        },
        {
          "output_type": "execute_result",
          "data": {
            "text/plain": [
              "RobertaForSequenceClassification(\n",
              "  (roberta): RobertaModel(\n",
              "    (embeddings): RobertaEmbeddings(\n",
              "      (word_embeddings): Embedding(50265, 768, padding_idx=1)\n",
              "      (position_embeddings): Embedding(514, 768, padding_idx=1)\n",
              "      (token_type_embeddings): Embedding(1, 768)\n",
              "      (LayerNorm): LayerNorm((768,), eps=1e-05, elementwise_affine=True)\n",
              "      (dropout): Dropout(p=0.1, inplace=False)\n",
              "    )\n",
              "    (encoder): RobertaEncoder(\n",
              "      (layer): ModuleList(\n",
              "        (0-11): 12 x RobertaLayer(\n",
              "          (attention): RobertaAttention(\n",
              "            (self): RobertaSdpaSelfAttention(\n",
              "              (query): Linear(in_features=768, out_features=768, bias=True)\n",
              "              (key): Linear(in_features=768, out_features=768, bias=True)\n",
              "              (value): Linear(in_features=768, out_features=768, bias=True)\n",
              "              (dropout): Dropout(p=0.1, inplace=False)\n",
              "            )\n",
              "            (output): RobertaSelfOutput(\n",
              "              (dense): Linear(in_features=768, out_features=768, bias=True)\n",
              "              (LayerNorm): LayerNorm((768,), eps=1e-05, elementwise_affine=True)\n",
              "              (dropout): Dropout(p=0.1, inplace=False)\n",
              "            )\n",
              "          )\n",
              "          (intermediate): RobertaIntermediate(\n",
              "            (dense): Linear(in_features=768, out_features=3072, bias=True)\n",
              "            (intermediate_act_fn): GELUActivation()\n",
              "          )\n",
              "          (output): RobertaOutput(\n",
              "            (dense): Linear(in_features=3072, out_features=768, bias=True)\n",
              "            (LayerNorm): LayerNorm((768,), eps=1e-05, elementwise_affine=True)\n",
              "            (dropout): Dropout(p=0.1, inplace=False)\n",
              "          )\n",
              "        )\n",
              "      )\n",
              "    )\n",
              "  )\n",
              "  (classifier): RobertaClassificationHead(\n",
              "    (dense): Linear(in_features=768, out_features=768, bias=True)\n",
              "    (dropout): Dropout(p=0.1, inplace=False)\n",
              "    (out_proj): Linear(in_features=768, out_features=3, bias=True)\n",
              "  )\n",
              ")"
            ]
          },
          "metadata": {},
          "execution_count": 33
        }
      ]
    },
    {
      "cell_type": "code",
      "source": [
        "model.roberta.embeddings"
      ],
      "metadata": {
        "id": "1TrnAhbrY9Hm",
        "outputId": "a3ab448d-6310-4dfe-d71f-7f9ddb7f4c81",
        "colab": {
          "base_uri": "https://localhost:8080/"
        }
      },
      "execution_count": 34,
      "outputs": [
        {
          "output_type": "execute_result",
          "data": {
            "text/plain": [
              "RobertaEmbeddings(\n",
              "  (word_embeddings): Embedding(50265, 768, padding_idx=1)\n",
              "  (position_embeddings): Embedding(514, 768, padding_idx=1)\n",
              "  (token_type_embeddings): Embedding(1, 768)\n",
              "  (LayerNorm): LayerNorm((768,), eps=1e-05, elementwise_affine=True)\n",
              "  (dropout): Dropout(p=0.1, inplace=False)\n",
              ")"
            ]
          },
          "metadata": {},
          "execution_count": 34
        }
      ]
    },
    {
      "cell_type": "markdown",
      "source": [
        "It’s out of the scope of this tutorial to look at all of the intricacies of the Roberta model, but pay close attention to the word_embeddings layer here. You may have noticed that the first input to Embedding() in the word_embeddings layer is 50265—the exact size of the tokenizer’s vocabulary.\n",
        "\n",
        "This is because the first embedding layer maps each token in the vocabulary to a PyTorch tensor of size 768. In other words, Embedding(50265, 768) maps all 50,265 tokens in the vocabulary to a PyTorch tensor with 768 elements. To get a better understanding of how this works, you can convert input text to embeddings directly using the embeddings layer:"
      ],
      "metadata": {
        "id": "L0Ol48zSZpJf"
      }
    },
    {
      "cell_type": "code",
      "source": [
        "text = \"I love using the Transformers library!\"\n",
        "encoded_input = tokenizer(text, return_tensors=\"pt\")\n",
        "\n",
        "embedding_tensor = model.roberta.embeddings(encoded_input[\"input_ids\"])\n",
        "embedding_tensor.shape"
      ],
      "metadata": {
        "id": "tnx2gvo6ZqnE",
        "outputId": "115fa4e2-2f8e-49f5-ff4d-b978c5ae8a12",
        "colab": {
          "base_uri": "https://localhost:8080/"
        }
      },
      "execution_count": 35,
      "outputs": [
        {
          "output_type": "execute_result",
          "data": {
            "text/plain": [
              "torch.Size([1, 9, 768])"
            ]
          },
          "metadata": {},
          "execution_count": 35
        }
      ]
    },
    {
      "cell_type": "code",
      "source": [
        "embedding_tensor"
      ],
      "metadata": {
        "id": "NaGFl9ydZ0kL",
        "outputId": "79c00984-2ea6-4b17-e7bd-5a4a4c07cbfb",
        "colab": {
          "base_uri": "https://localhost:8080/"
        }
      },
      "execution_count": 36,
      "outputs": [
        {
          "output_type": "execute_result",
          "data": {
            "text/plain": [
              "tensor([[[ 0.0633, -0.0212,  0.0193,  ..., -0.0826, -0.0200, -0.0056],\n",
              "         [ 0.1453,  0.3706, -0.0322,  ...,  0.0359, -0.0750,  0.0376],\n",
              "         [ 0.2900, -0.0814,  0.0955,  ...,  0.3262, -0.0559,  0.0819],\n",
              "         ...,\n",
              "         [ 0.1059, -0.5638, -0.2397,  ..., -0.2077, -0.0784, -0.0951],\n",
              "         [ 0.1675, -0.3334,  0.0130,  ..., -0.4127,  0.0121,  0.0215],\n",
              "         [ 0.1316, -0.0281, -0.0168,  ...,  0.1175,  0.0908, -0.0614]]],\n",
              "       grad_fn=<NativeLayerNormBackward0>)"
            ]
          },
          "metadata": {},
          "execution_count": 36
        }
      ]
    },
    {
      "cell_type": "markdown",
      "source": [
        "Use ![image.png](data:image/png;base64,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)"
      ],
      "metadata": {
        "id": "4e2QgsPoaNB_"
      }
    },
    {
      "cell_type": "markdown",
      "source": [
        "n this block, you define text and convert each token to its corresponding ID using tokenizer(). You then pass the token IDs into Roberta’s embeddings layer and store the results as embedding_tensor. Notice how the size of embedding_tensor is [1, 9, 768]. This is because you passed one text input into the embedding layer that had nine tokens in it, and each token was converted to a tensor with 768 elements.\n",
        "\n",
        "When you look at the embedding_tensor string representation, the first row is the embedding for the <s> token, the second row is for the I token, the third for the love token, and so on. If you wanted to fine-tune the Roberta model with new tokens, you’d first add the new tokens to the tokenizer as you did previously, and then you’d have to update and train the embeddings layer with a 768-element tensor for each new token.\n",
        "\n",
        "In the full model, the embedding tensor is passed through multiple layers where it’s reshaped, manipulated, and eventually converted to a predicted score for each sentiment class.\n",
        "\n",
        "You can piece together these auto classes to create the entire pipeline:"
      ],
      "metadata": {
        "id": "75CmnD0DbBmJ"
      }
    },
    {
      "cell_type": "code",
      "source": [
        "import torch\n",
        "from transformers import (\n",
        "    AutoTokenizer,\n",
        "    AutoModelForSequenceClassification,\n",
        "    AutoConfig\n",
        ")\n",
        "\n",
        "model_name = \"cardiffnlp/twitter-roberta-base-sentiment-latest\"\n",
        "\n",
        "config = AutoConfig.from_pretrained(model_name)\n",
        "tokenizer = AutoTokenizer.from_pretrained(model_name)\n",
        "model = AutoModelForSequenceClassification.from_pretrained(model_name)\n",
        "\n",
        "text = \"I love using the Transformers library!\"\n",
        "encoded_input = tokenizer(text, return_tensors=\"pt\")\n",
        "\n",
        "with torch.no_grad():\n",
        "    output = model(**encoded_input)\n",
        "\n",
        "scores = output.logits[0]\n",
        "probabilities = torch.softmax(scores, dim=0)\n",
        "\n",
        "for i, probability in enumerate(probabilities):\n",
        "    label = config.id2label[i]\n",
        "    print(f\"{i+1}) {label}: {probability}\")"
      ],
      "metadata": {
        "id": "M4blXj77aUel",
        "outputId": "0b968e28-821b-4c56-f754-cb246bd1a8d6",
        "colab": {
          "base_uri": "https://localhost:8080/"
        }
      },
      "execution_count": 37,
      "outputs": [
        {
          "output_type": "stream",
          "name": "stderr",
          "text": [
            "Some weights of the model checkpoint at cardiffnlp/twitter-roberta-base-sentiment-latest were not used when initializing RobertaForSequenceClassification: ['roberta.pooler.dense.bias', 'roberta.pooler.dense.weight']\n",
            "- This IS expected if you are initializing RobertaForSequenceClassification from the checkpoint of a model trained on another task or with another architecture (e.g. initializing a BertForSequenceClassification model from a BertForPreTraining model).\n",
            "- This IS NOT expected if you are initializing RobertaForSequenceClassification from the checkpoint of a model that you expect to be exactly identical (initializing a BertForSequenceClassification model from a BertForSequenceClassification model).\n"
          ]
        },
        {
          "output_type": "stream",
          "name": "stdout",
          "text": [
            "1) negative: 0.0026470276061445475\n",
            "2) neutral: 0.010737841948866844\n",
            "3) positive: 0.9866151213645935\n"
          ]
        }
      ]
    },
    {
      "cell_type": "markdown",
      "source": [
        "Here, you first import torch along with the auto classes you saw previously. Additionally, you import AutoConfig, which has configuration and metadata for the model. You then store the pipeline name in model_name and instantiate the configuration object, tokenizer, and model object.\n",
        "\n",
        "Next, you define text and tokenize it with tokenizer(). You then pass the tokenized input, encoded_input, to the model object and store the results as output. You use the torch.no_grad() context manager to speed up model inference by disabling gradient calculations.\n",
        "\n",
        "After that, you convert the raw model output to scores and then transform the scores to sum to 1 using torch.softmax(). Lastly, you loop through each element in probabilities and output the value along with the associated label, which comes from config.id2label. The results tell you that the model assigns a predicted probability of about 0.9866 to the positive class for the input text.\n",
        "\n",
        "You can verify that this code gives the same results as the cardiffnlp/twitter-roberta-base-sentiment-latest pipeline you used in the earlier example:"
      ],
      "metadata": {
        "id": "RfdeOo4_dhTX"
      }
    },
    {
      "cell_type": "code",
      "source": [
        "from transformers import pipeline\n",
        "\n",
        "model_name = \"cardiffnlp/twitter-roberta-base-sentiment-latest\"\n",
        "text = \"I love using the Transformers library!\"\n",
        "\n",
        "full_pipeline = pipeline(model=model_name)\n",
        "full_pipeline(text)"
      ],
      "metadata": {
        "id": "O7j43x5HdgEd",
        "outputId": "c63c305f-17e9-4543-f48f-e1db3e71afbf",
        "colab": {
          "base_uri": "https://localhost:8080/"
        }
      },
      "execution_count": 38,
      "outputs": [
        {
          "output_type": "stream",
          "name": "stderr",
          "text": [
            "Some weights of the model checkpoint at cardiffnlp/twitter-roberta-base-sentiment-latest were not used when initializing RobertaForSequenceClassification: ['roberta.pooler.dense.bias', 'roberta.pooler.dense.weight']\n",
            "- This IS expected if you are initializing RobertaForSequenceClassification from the checkpoint of a model trained on another task or with another architecture (e.g. initializing a BertForSequenceClassification model from a BertForPreTraining model).\n",
            "- This IS NOT expected if you are initializing RobertaForSequenceClassification from the checkpoint of a model that you expect to be exactly identical (initializing a BertForSequenceClassification model from a BertForSequenceClassification model).\n",
            "Device set to use cpu\n"
          ]
        },
        {
          "output_type": "execute_result",
          "data": {
            "text/plain": [
              "[{'label': 'positive', 'score': 0.9866151213645935}]"
            ]
          },
          "metadata": {},
          "execution_count": 38
        }
      ]
    }
  ],
  "metadata": {
    "colab": {
      "name": "Welcome to Colaboratory",
      "provenance": [],
      "include_colab_link": true
    },
    "kernelspec": {
      "display_name": "Python 3",
      "name": "python3"
    },
    "widgets": {
      "application/vnd.jupyter.widget-state+json": {
        "ac2f4c02a281496796a2dbe6f9996bc4": {
          "model_module": "@jupyter-widgets/controls",
          "model_name": "HBoxModel",
          "model_module_version": "1.5.0",
          "state": {
            "_dom_classes": [],
            "_model_module": "@jupyter-widgets/controls",
            "_model_module_version": "1.5.0",
            "_model_name": "HBoxModel",
            "_view_count": null,
            "_view_module": "@jupyter-widgets/controls",
            "_view_module_version": "1.5.0",
            "_view_name": "HBoxView",
            "box_style": "",
            "children": [
              "IPY_MODEL_b31ebc441adb4e4ba2805e35081f02a7",
              "IPY_MODEL_b457b357445144a283b44daa7a334e87",
              "IPY_MODEL_558f480495864894a41b751074290a64"
            ],
            "layout": "IPY_MODEL_daf2b9fe8ee9429f96a5f346295701bd"
          }
        },
        "b31ebc441adb4e4ba2805e35081f02a7": {
          "model_module": "@jupyter-widgets/controls",
          "model_name": "HTMLModel",
          "model_module_version": "1.5.0",
          "state": {
            "_dom_classes": [],
            "_model_module": "@jupyter-widgets/controls",
            "_model_module_version": "1.5.0",
            "_model_name": "HTMLModel",
            "_view_count": null,
            "_view_module": "@jupyter-widgets/controls",
            "_view_module_version": "1.5.0",
            "_view_name": "HTMLView",
            "description": "",
            "description_tooltip": null,
            "layout": "IPY_MODEL_6b1abe3b868f484492be5841de1b6a16",
            "placeholder": "​",
            "style": "IPY_MODEL_b9d63708cf6c4294829d6e04115afdd2",
            "value": "config.json: 100%"
          }
        },
        "b457b357445144a283b44daa7a334e87": {
          "model_module": "@jupyter-widgets/controls",
          "model_name": "FloatProgressModel",
          "model_module_version": "1.5.0",
          "state": {
            "_dom_classes": [],
            "_model_module": "@jupyter-widgets/controls",
            "_model_module_version": "1.5.0",
            "_model_name": "FloatProgressModel",
            "_view_count": null,
            "_view_module": "@jupyter-widgets/controls",
            "_view_module_version": "1.5.0",
            "_view_name": "ProgressView",
            "bar_style": "success",
            "description": "",
            "description_tooltip": null,
            "layout": "IPY_MODEL_7f568cc9ac8a46f490df2ced656664d6",
            "max": 929,
            "min": 0,
            "orientation": "horizontal",
            "style": "IPY_MODEL_76c4229834e34abea1ae489e2661041f",
            "value": 929
          }
        },
        "558f480495864894a41b751074290a64": {
          "model_module": "@jupyter-widgets/controls",
          "model_name": "HTMLModel",
          "model_module_version": "1.5.0",
          "state": {
            "_dom_classes": [],
            "_model_module": "@jupyter-widgets/controls",
            "_model_module_version": "1.5.0",
            "_model_name": "HTMLModel",
            "_view_count": null,
            "_view_module": "@jupyter-widgets/controls",
            "_view_module_version": "1.5.0",
            "_view_name": "HTMLView",
            "description": "",
            "description_tooltip": null,
            "layout": "IPY_MODEL_3e0a08408b4e4a5d9b70b34d4fdfeaa4",
            "placeholder": "​",
            "style": "IPY_MODEL_656416f819d849fa90a537177009ddbb",
            "value": " 929/929 [00:00&lt;00:00, 36.4kB/s]"
          }
        },
        "daf2b9fe8ee9429f96a5f346295701bd": {
          "model_module": "@jupyter-widgets/base",
          "model_name": "LayoutModel",
          "model_module_version": "1.2.0",
          "state": {
            "_model_module": "@jupyter-widgets/base",
            "_model_module_version": "1.2.0",
            "_model_name": "LayoutModel",
            "_view_count": null,
            "_view_module": "@jupyter-widgets/base",
            "_view_module_version": "1.2.0",
            "_view_name": "LayoutView",
            "align_content": null,
            "align_items": null,
            "align_self": null,
            "border": null,
            "bottom": null,
            "display": null,
            "flex": null,
            "flex_flow": null,
            "grid_area": null,
            "grid_auto_columns": null,
            "grid_auto_flow": null,
            "grid_auto_rows": null,
            "grid_column": null,
            "grid_gap": null,
            "grid_row": null,
            "grid_template_areas": null,
            "grid_template_columns": null,
            "grid_template_rows": null,
            "height": null,
            "justify_content": null,
            "justify_items": null,
            "left": null,
            "margin": null,
            "max_height": null,
            "max_width": null,
            "min_height": null,
            "min_width": null,
            "object_fit": null,
            "object_position": null,
            "order": null,
            "overflow": null,
            "overflow_x": null,
            "overflow_y": null,
            "padding": null,
            "right": null,
            "top": null,
            "visibility": null,
            "width": null
          }
        },
        "6b1abe3b868f484492be5841de1b6a16": {
          "model_module": "@jupyter-widgets/base",
          "model_name": "LayoutModel",
          "model_module_version": "1.2.0",
          "state": {
            "_model_module": "@jupyter-widgets/base",
            "_model_module_version": "1.2.0",
            "_model_name": "LayoutModel",
            "_view_count": null,
            "_view_module": "@jupyter-widgets/base",
            "_view_module_version": "1.2.0",
            "_view_name": "LayoutView",
            "align_content": null,
            "align_items": null,
            "align_self": null,
            "border": null,
            "bottom": null,
            "display": null,
            "flex": null,
            "flex_flow": null,
            "grid_area": null,
            "grid_auto_columns": null,
            "grid_auto_flow": null,
            "grid_auto_rows": null,
            "grid_column": null,
            "grid_gap": null,
            "grid_row": null,
            "grid_template_areas": null,
            "grid_template_columns": null,
            "grid_template_rows": null,
            "height": null,
            "justify_content": null,
            "justify_items": null,
            "left": null,
            "margin": null,
            "max_height": null,
            "max_width": null,
            "min_height": null,
            "min_width": null,
            "object_fit": null,
            "object_position": null,
            "order": null,
            "overflow": null,
            "overflow_x": null,
            "overflow_y": null,
            "padding": null,
            "right": null,
            "top": null,
            "visibility": null,
            "width": null
          }
        },
        "b9d63708cf6c4294829d6e04115afdd2": {
          "model_module": "@jupyter-widgets/controls",
          "model_name": "DescriptionStyleModel",
          "model_module_version": "1.5.0",
          "state": {
            "_model_module": "@jupyter-widgets/controls",
            "_model_module_version": "1.5.0",
            "_model_name": "DescriptionStyleModel",
            "_view_count": null,
            "_view_module": "@jupyter-widgets/base",
            "_view_module_version": "1.2.0",
            "_view_name": "StyleView",
            "description_width": ""
          }
        },
        "7f568cc9ac8a46f490df2ced656664d6": {
          "model_module": "@jupyter-widgets/base",
          "model_name": "LayoutModel",
          "model_module_version": "1.2.0",
          "state": {
            "_model_module": "@jupyter-widgets/base",
            "_model_module_version": "1.2.0",
            "_model_name": "LayoutModel",
            "_view_count": null,
            "_view_module": "@jupyter-widgets/base",
            "_view_module_version": "1.2.0",
            "_view_name": "LayoutView",
            "align_content": null,
            "align_items": null,
            "align_self": null,
            "border": null,
            "bottom": null,
            "display": null,
            "flex": null,
            "flex_flow": null,
            "grid_area": null,
            "grid_auto_columns": null,
            "grid_auto_flow": null,
            "grid_auto_rows": null,
            "grid_column": null,
            "grid_gap": null,
            "grid_row": null,
            "grid_template_areas": null,
            "grid_template_columns": null,
            "grid_template_rows": null,
            "height": null,
            "justify_content": null,
            "justify_items": null,
            "left": null,
            "margin": null,
            "max_height": null,
            "max_width": null,
            "min_height": null,
            "min_width": null,
            "object_fit": null,
            "object_position": null,
            "order": null,
            "overflow": null,
            "overflow_x": null,
            "overflow_y": null,
            "padding": null,
            "right": null,
            "top": null,
            "visibility": null,
            "width": null
          }
        },
        "76c4229834e34abea1ae489e2661041f": {
          "model_module": "@jupyter-widgets/controls",
          "model_name": "ProgressStyleModel",
          "model_module_version": "1.5.0",
          "state": {
            "_model_module": "@jupyter-widgets/controls",
            "_model_module_version": "1.5.0",
            "_model_name": "ProgressStyleModel",
            "_view_count": null,
            "_view_module": "@jupyter-widgets/base",
            "_view_module_version": "1.2.0",
            "_view_name": "StyleView",
            "bar_color": null,
            "description_width": ""
          }
        },
        "3e0a08408b4e4a5d9b70b34d4fdfeaa4": {
          "model_module": "@jupyter-widgets/base",
          "model_name": "LayoutModel",
          "model_module_version": "1.2.0",
          "state": {
            "_model_module": "@jupyter-widgets/base",
            "_model_module_version": "1.2.0",
            "_model_name": "LayoutModel",
            "_view_count": null,
            "_view_module": "@jupyter-widgets/base",
            "_view_module_version": "1.2.0",
            "_view_name": "LayoutView",
            "align_content": null,
            "align_items": null,
            "align_self": null,
            "border": null,
            "bottom": null,
            "display": null,
            "flex": null,
            "flex_flow": null,
            "grid_area": null,
            "grid_auto_columns": null,
            "grid_auto_flow": null,
            "grid_auto_rows": null,
            "grid_column": null,
            "grid_gap": null,
            "grid_row": null,
            "grid_template_areas": null,
            "grid_template_columns": null,
            "grid_template_rows": null,
            "height": null,
            "justify_content": null,
            "justify_items": null,
            "left": null,
            "margin": null,
            "max_height": null,
            "max_width": null,
            "min_height": null,
            "min_width": null,
            "object_fit": null,
            "object_position": null,
            "order": null,
            "overflow": null,
            "overflow_x": null,
            "overflow_y": null,
            "padding": null,
            "right": null,
            "top": null,
            "visibility": null,
            "width": null
          }
        },
        "656416f819d849fa90a537177009ddbb": {
          "model_module": "@jupyter-widgets/controls",
          "model_name": "DescriptionStyleModel",
          "model_module_version": "1.5.0",
          "state": {
            "_model_module": "@jupyter-widgets/controls",
            "_model_module_version": "1.5.0",
            "_model_name": "DescriptionStyleModel",
            "_view_count": null,
            "_view_module": "@jupyter-widgets/base",
            "_view_module_version": "1.2.0",
            "_view_name": "StyleView",
            "description_width": ""
          }
        },
        "b796a8343abb4f0bbbd265424712b299": {
          "model_module": "@jupyter-widgets/controls",
          "model_name": "HBoxModel",
          "model_module_version": "1.5.0",
          "state": {
            "_dom_classes": [],
            "_model_module": "@jupyter-widgets/controls",
            "_model_module_version": "1.5.0",
            "_model_name": "HBoxModel",
            "_view_count": null,
            "_view_module": "@jupyter-widgets/controls",
            "_view_module_version": "1.5.0",
            "_view_name": "HBoxView",
            "box_style": "",
            "children": [
              "IPY_MODEL_66d874e3a8114d35a3f0b9d80153da2d",
              "IPY_MODEL_ea21bbc0477f45b2adba5574d445ad00",
              "IPY_MODEL_10a3ee559397486ba76873c27f057a05"
            ],
            "layout": "IPY_MODEL_d7f265d19198487f86b77a08284a2231"
          }
        },
        "66d874e3a8114d35a3f0b9d80153da2d": {
          "model_module": "@jupyter-widgets/controls",
          "model_name": "HTMLModel",
          "model_module_version": "1.5.0",
          "state": {
            "_dom_classes": [],
            "_model_module": "@jupyter-widgets/controls",
            "_model_module_version": "1.5.0",
            "_model_name": "HTMLModel",
            "_view_count": null,
            "_view_module": "@jupyter-widgets/controls",
            "_view_module_version": "1.5.0",
            "_view_name": "HTMLView",
            "description": "",
            "description_tooltip": null,
            "layout": "IPY_MODEL_4beedc12bdde424987d72aa9bf039e75",
            "placeholder": "​",
            "style": "IPY_MODEL_de43ce04156745568553216e45745638",
            "value": "pytorch_model.bin: 100%"
          }
        },
        "ea21bbc0477f45b2adba5574d445ad00": {
          "model_module": "@jupyter-widgets/controls",
          "model_name": "FloatProgressModel",
          "model_module_version": "1.5.0",
          "state": {
            "_dom_classes": [],
            "_model_module": "@jupyter-widgets/controls",
            "_model_module_version": "1.5.0",
            "_model_name": "FloatProgressModel",
            "_view_count": null,
            "_view_module": "@jupyter-widgets/controls",
            "_view_module_version": "1.5.0",
            "_view_name": "ProgressView",
            "bar_style": "success",
            "description": "",
            "description_tooltip": null,
            "layout": "IPY_MODEL_8a8e6f3c5491452d9707a5fb972e005e",
            "max": 501045531,
            "min": 0,
            "orientation": "horizontal",
            "style": "IPY_MODEL_8ae014a75b894a27b55fd5b354d55615",
            "value": 501045531
          }
        },
        "10a3ee559397486ba76873c27f057a05": {
          "model_module": "@jupyter-widgets/controls",
          "model_name": "HTMLModel",
          "model_module_version": "1.5.0",
          "state": {
            "_dom_classes": [],
            "_model_module": "@jupyter-widgets/controls",
            "_model_module_version": "1.5.0",
            "_model_name": "HTMLModel",
            "_view_count": null,
            "_view_module": "@jupyter-widgets/controls",
            "_view_module_version": "1.5.0",
            "_view_name": "HTMLView",
            "description": "",
            "description_tooltip": null,
            "layout": "IPY_MODEL_fd8cea3d0a014de8b18ef43635e80a2e",
            "placeholder": "​",
            "style": "IPY_MODEL_96abcec252014346a935ec137b6def8f",
            "value": " 501M/501M [00:07&lt;00:00, 20.4MB/s]"
          }
        },
        "d7f265d19198487f86b77a08284a2231": {
          "model_module": "@jupyter-widgets/base",
          "model_name": "LayoutModel",
          "model_module_version": "1.2.0",
          "state": {
            "_model_module": "@jupyter-widgets/base",
            "_model_module_version": "1.2.0",
            "_model_name": "LayoutModel",
            "_view_count": null,
            "_view_module": "@jupyter-widgets/base",
            "_view_module_version": "1.2.0",
            "_view_name": "LayoutView",
            "align_content": null,
            "align_items": null,
            "align_self": null,
            "border": null,
            "bottom": null,
            "display": null,
            "flex": null,
            "flex_flow": null,
            "grid_area": null,
            "grid_auto_columns": null,
            "grid_auto_flow": null,
            "grid_auto_rows": null,
            "grid_column": null,
            "grid_gap": null,
            "grid_row": null,
            "grid_template_areas": null,
            "grid_template_columns": null,
            "grid_template_rows": null,
            "height": null,
            "justify_content": null,
            "justify_items": null,
            "left": null,
            "margin": null,
            "max_height": null,
            "max_width": null,
            "min_height": null,
            "min_width": null,
            "object_fit": null,
            "object_position": null,
            "order": null,
            "overflow": null,
            "overflow_x": null,
            "overflow_y": null,
            "padding": null,
            "right": null,
            "top": null,
            "visibility": null,
            "width": null
          }
        },
        "4beedc12bdde424987d72aa9bf039e75": {
          "model_module": "@jupyter-widgets/base",
          "model_name": "LayoutModel",
          "model_module_version": "1.2.0",
          "state": {
            "_model_module": "@jupyter-widgets/base",
            "_model_module_version": "1.2.0",
            "_model_name": "LayoutModel",
            "_view_count": null,
            "_view_module": "@jupyter-widgets/base",
            "_view_module_version": "1.2.0",
            "_view_name": "LayoutView",
            "align_content": null,
            "align_items": null,
            "align_self": null,
            "border": null,
            "bottom": null,
            "display": null,
            "flex": null,
            "flex_flow": null,
            "grid_area": null,
            "grid_auto_columns": null,
            "grid_auto_flow": null,
            "grid_auto_rows": null,
            "grid_column": null,
            "grid_gap": null,
            "grid_row": null,
            "grid_template_areas": null,
            "grid_template_columns": null,
            "grid_template_rows": null,
            "height": null,
            "justify_content": null,
            "justify_items": null,
            "left": null,
            "margin": null,
            "max_height": null,
            "max_width": null,
            "min_height": null,
            "min_width": null,
            "object_fit": null,
            "object_position": null,
            "order": null,
            "overflow": null,
            "overflow_x": null,
            "overflow_y": null,
            "padding": null,
            "right": null,
            "top": null,
            "visibility": null,
            "width": null
          }
        },
        "de43ce04156745568553216e45745638": {
          "model_module": "@jupyter-widgets/controls",
          "model_name": "DescriptionStyleModel",
          "model_module_version": "1.5.0",
          "state": {
            "_model_module": "@jupyter-widgets/controls",
            "_model_module_version": "1.5.0",
            "_model_name": "DescriptionStyleModel",
            "_view_count": null,
            "_view_module": "@jupyter-widgets/base",
            "_view_module_version": "1.2.0",
            "_view_name": "StyleView",
            "description_width": ""
          }
        },
        "8a8e6f3c5491452d9707a5fb972e005e": {
          "model_module": "@jupyter-widgets/base",
          "model_name": "LayoutModel",
          "model_module_version": "1.2.0",
          "state": {
            "_model_module": "@jupyter-widgets/base",
            "_model_module_version": "1.2.0",
            "_model_name": "LayoutModel",
            "_view_count": null,
            "_view_module": "@jupyter-widgets/base",
            "_view_module_version": "1.2.0",
            "_view_name": "LayoutView",
            "align_content": null,
            "align_items": null,
            "align_self": null,
            "border": null,
            "bottom": null,
            "display": null,
            "flex": null,
            "flex_flow": null,
            "grid_area": null,
            "grid_auto_columns": null,
            "grid_auto_flow": null,
            "grid_auto_rows": null,
            "grid_column": null,
            "grid_gap": null,
            "grid_row": null,
            "grid_template_areas": null,
            "grid_template_columns": null,
            "grid_template_rows": null,
            "height": null,
            "justify_content": null,
            "justify_items": null,
            "left": null,
            "margin": null,
            "max_height": null,
            "max_width": null,
            "min_height": null,
            "min_width": null,
            "object_fit": null,
            "object_position": null,
            "order": null,
            "overflow": null,
            "overflow_x": null,
            "overflow_y": null,
            "padding": null,
            "right": null,
            "top": null,
            "visibility": null,
            "width": null
          }
        },
        "8ae014a75b894a27b55fd5b354d55615": {
          "model_module": "@jupyter-widgets/controls",
          "model_name": "ProgressStyleModel",
          "model_module_version": "1.5.0",
          "state": {
            "_model_module": "@jupyter-widgets/controls",
            "_model_module_version": "1.5.0",
            "_model_name": "ProgressStyleModel",
            "_view_count": null,
            "_view_module": "@jupyter-widgets/base",
            "_view_module_version": "1.2.0",
            "_view_name": "StyleView",
            "bar_color": null,
            "description_width": ""
          }
        },
        "fd8cea3d0a014de8b18ef43635e80a2e": {
          "model_module": "@jupyter-widgets/base",
          "model_name": "LayoutModel",
          "model_module_version": "1.2.0",
          "state": {
            "_model_module": "@jupyter-widgets/base",
            "_model_module_version": "1.2.0",
            "_model_name": "LayoutModel",
            "_view_count": null,
            "_view_module": "@jupyter-widgets/base",
            "_view_module_version": "1.2.0",
            "_view_name": "LayoutView",
            "align_content": null,
            "align_items": null,
            "align_self": null,
            "border": null,
            "bottom": null,
            "display": null,
            "flex": null,
            "flex_flow": null,
            "grid_area": null,
            "grid_auto_columns": null,
            "grid_auto_flow": null,
            "grid_auto_rows": null,
            "grid_column": null,
            "grid_gap": null,
            "grid_row": null,
            "grid_template_areas": null,
            "grid_template_columns": null,
            "grid_template_rows": null,
            "height": null,
            "justify_content": null,
            "justify_items": null,
            "left": null,
            "margin": null,
            "max_height": null,
            "max_width": null,
            "min_height": null,
            "min_width": null,
            "object_fit": null,
            "object_position": null,
            "order": null,
            "overflow": null,
            "overflow_x": null,
            "overflow_y": null,
            "padding": null,
            "right": null,
            "top": null,
            "visibility": null,
            "width": null
          }
        },
        "96abcec252014346a935ec137b6def8f": {
          "model_module": "@jupyter-widgets/controls",
          "model_name": "DescriptionStyleModel",
          "model_module_version": "1.5.0",
          "state": {
            "_model_module": "@jupyter-widgets/controls",
            "_model_module_version": "1.5.0",
            "_model_name": "DescriptionStyleModel",
            "_view_count": null,
            "_view_module": "@jupyter-widgets/base",
            "_view_module_version": "1.2.0",
            "_view_name": "StyleView",
            "description_width": ""
          }
        },
        "a3830a0f3fb94d75a0e92c601e6a0a33": {
          "model_module": "@jupyter-widgets/controls",
          "model_name": "HBoxModel",
          "model_module_version": "1.5.0",
          "state": {
            "_dom_classes": [],
            "_model_module": "@jupyter-widgets/controls",
            "_model_module_version": "1.5.0",
            "_model_name": "HBoxModel",
            "_view_count": null,
            "_view_module": "@jupyter-widgets/controls",
            "_view_module_version": "1.5.0",
            "_view_name": "HBoxView",
            "box_style": "",
            "children": [
              "IPY_MODEL_806e7558db6a4f269933470019bc3be4",
              "IPY_MODEL_1feffa6f586541518cdda954a474ac68",
              "IPY_MODEL_39e55b2abec849709bee8284e877e11e"
            ],
            "layout": "IPY_MODEL_6f33c17c50b142c2bcf5b8978a9bb988"
          }
        },
        "806e7558db6a4f269933470019bc3be4": {
          "model_module": "@jupyter-widgets/controls",
          "model_name": "HTMLModel",
          "model_module_version": "1.5.0",
          "state": {
            "_dom_classes": [],
            "_model_module": "@jupyter-widgets/controls",
            "_model_module_version": "1.5.0",
            "_model_name": "HTMLModel",
            "_view_count": null,
            "_view_module": "@jupyter-widgets/controls",
            "_view_module_version": "1.5.0",
            "_view_name": "HTMLView",
            "description": "",
            "description_tooltip": null,
            "layout": "IPY_MODEL_18229a9a7da84cbebd52bd7e04b941a2",
            "placeholder": "​",
            "style": "IPY_MODEL_9fda9b1cc32f452aa5d74f517d9b2b54",
            "value": "vocab.json: 100%"
          }
        },
        "1feffa6f586541518cdda954a474ac68": {
          "model_module": "@jupyter-widgets/controls",
          "model_name": "FloatProgressModel",
          "model_module_version": "1.5.0",
          "state": {
            "_dom_classes": [],
            "_model_module": "@jupyter-widgets/controls",
            "_model_module_version": "1.5.0",
            "_model_name": "FloatProgressModel",
            "_view_count": null,
            "_view_module": "@jupyter-widgets/controls",
            "_view_module_version": "1.5.0",
            "_view_name": "ProgressView",
            "bar_style": "success",
            "description": "",
            "description_tooltip": null,
            "layout": "IPY_MODEL_4fdd7d69757e4205b35cbad3626d4917",
            "max": 898822,
            "min": 0,
            "orientation": "horizontal",
            "style": "IPY_MODEL_2899e524cea2404eba5992122d0232eb",
            "value": 898822
          }
        },
        "39e55b2abec849709bee8284e877e11e": {
          "model_module": "@jupyter-widgets/controls",
          "model_name": "HTMLModel",
          "model_module_version": "1.5.0",
          "state": {
            "_dom_classes": [],
            "_model_module": "@jupyter-widgets/controls",
            "_model_module_version": "1.5.0",
            "_model_name": "HTMLModel",
            "_view_count": null,
            "_view_module": "@jupyter-widgets/controls",
            "_view_module_version": "1.5.0",
            "_view_name": "HTMLView",
            "description": "",
            "description_tooltip": null,
            "layout": "IPY_MODEL_153dc3373e154e62a30ee2200739a013",
            "placeholder": "​",
            "style": "IPY_MODEL_21f651b7c1f84b42937d37bd1b9d8663",
            "value": " 899k/899k [00:00&lt;00:00, 9.56MB/s]"
          }
        },
        "6f33c17c50b142c2bcf5b8978a9bb988": {
          "model_module": "@jupyter-widgets/base",
          "model_name": "LayoutModel",
          "model_module_version": "1.2.0",
          "state": {
            "_model_module": "@jupyter-widgets/base",
            "_model_module_version": "1.2.0",
            "_model_name": "LayoutModel",
            "_view_count": null,
            "_view_module": "@jupyter-widgets/base",
            "_view_module_version": "1.2.0",
            "_view_name": "LayoutView",
            "align_content": null,
            "align_items": null,
            "align_self": null,
            "border": null,
            "bottom": null,
            "display": null,
            "flex": null,
            "flex_flow": null,
            "grid_area": null,
            "grid_auto_columns": null,
            "grid_auto_flow": null,
            "grid_auto_rows": null,
            "grid_column": null,
            "grid_gap": null,
            "grid_row": null,
            "grid_template_areas": null,
            "grid_template_columns": null,
            "grid_template_rows": null,
            "height": null,
            "justify_content": null,
            "justify_items": null,
            "left": null,
            "margin": null,
            "max_height": null,
            "max_width": null,
            "min_height": null,
            "min_width": null,
            "object_fit": null,
            "object_position": null,
            "order": null,
            "overflow": null,
            "overflow_x": null,
            "overflow_y": null,
            "padding": null,
            "right": null,
            "top": null,
            "visibility": null,
            "width": null
          }
        },
        "18229a9a7da84cbebd52bd7e04b941a2": {
          "model_module": "@jupyter-widgets/base",
          "model_name": "LayoutModel",
          "model_module_version": "1.2.0",
          "state": {
            "_model_module": "@jupyter-widgets/base",
            "_model_module_version": "1.2.0",
            "_model_name": "LayoutModel",
            "_view_count": null,
            "_view_module": "@jupyter-widgets/base",
            "_view_module_version": "1.2.0",
            "_view_name": "LayoutView",
            "align_content": null,
            "align_items": null,
            "align_self": null,
            "border": null,
            "bottom": null,
            "display": null,
            "flex": null,
            "flex_flow": null,
            "grid_area": null,
            "grid_auto_columns": null,
            "grid_auto_flow": null,
            "grid_auto_rows": null,
            "grid_column": null,
            "grid_gap": null,
            "grid_row": null,
            "grid_template_areas": null,
            "grid_template_columns": null,
            "grid_template_rows": null,
            "height": null,
            "justify_content": null,
            "justify_items": null,
            "left": null,
            "margin": null,
            "max_height": null,
            "max_width": null,
            "min_height": null,
            "min_width": null,
            "object_fit": null,
            "object_position": null,
            "order": null,
            "overflow": null,
            "overflow_x": null,
            "overflow_y": null,
            "padding": null,
            "right": null,
            "top": null,
            "visibility": null,
            "width": null
          }
        },
        "9fda9b1cc32f452aa5d74f517d9b2b54": {
          "model_module": "@jupyter-widgets/controls",
          "model_name": "DescriptionStyleModel",
          "model_module_version": "1.5.0",
          "state": {
            "_model_module": "@jupyter-widgets/controls",
            "_model_module_version": "1.5.0",
            "_model_name": "DescriptionStyleModel",
            "_view_count": null,
            "_view_module": "@jupyter-widgets/base",
            "_view_module_version": "1.2.0",
            "_view_name": "StyleView",
            "description_width": ""
          }
        },
        "4fdd7d69757e4205b35cbad3626d4917": {
          "model_module": "@jupyter-widgets/base",
          "model_name": "LayoutModel",
          "model_module_version": "1.2.0",
          "state": {
            "_model_module": "@jupyter-widgets/base",
            "_model_module_version": "1.2.0",
            "_model_name": "LayoutModel",
            "_view_count": null,
            "_view_module": "@jupyter-widgets/base",
            "_view_module_version": "1.2.0",
            "_view_name": "LayoutView",
            "align_content": null,
            "align_items": null,
            "align_self": null,
            "border": null,
            "bottom": null,
            "display": null,
            "flex": null,
            "flex_flow": null,
            "grid_area": null,
            "grid_auto_columns": null,
            "grid_auto_flow": null,
            "grid_auto_rows": null,
            "grid_column": null,
            "grid_gap": null,
            "grid_row": null,
            "grid_template_areas": null,
            "grid_template_columns": null,
            "grid_template_rows": null,
            "height": null,
            "justify_content": null,
            "justify_items": null,
            "left": null,
            "margin": null,
            "max_height": null,
            "max_width": null,
            "min_height": null,
            "min_width": null,
            "object_fit": null,
            "object_position": null,
            "order": null,
            "overflow": null,
            "overflow_x": null,
            "overflow_y": null,
            "padding": null,
            "right": null,
            "top": null,
            "visibility": null,
            "width": null
          }
        },
        "2899e524cea2404eba5992122d0232eb": {
          "model_module": "@jupyter-widgets/controls",
          "model_name": "ProgressStyleModel",
          "model_module_version": "1.5.0",
          "state": {
            "_model_module": "@jupyter-widgets/controls",
            "_model_module_version": "1.5.0",
            "_model_name": "ProgressStyleModel",
            "_view_count": null,
            "_view_module": "@jupyter-widgets/base",
            "_view_module_version": "1.2.0",
            "_view_name": "StyleView",
            "bar_color": null,
            "description_width": ""
          }
        },
        "153dc3373e154e62a30ee2200739a013": {
          "model_module": "@jupyter-widgets/base",
          "model_name": "LayoutModel",
          "model_module_version": "1.2.0",
          "state": {
            "_model_module": "@jupyter-widgets/base",
            "_model_module_version": "1.2.0",
            "_model_name": "LayoutModel",
            "_view_count": null,
            "_view_module": "@jupyter-widgets/base",
            "_view_module_version": "1.2.0",
            "_view_name": "LayoutView",
            "align_content": null,
            "align_items": null,
            "align_self": null,
            "border": null,
            "bottom": null,
            "display": null,
            "flex": null,
            "flex_flow": null,
            "grid_area": null,
            "grid_auto_columns": null,
            "grid_auto_flow": null,
            "grid_auto_rows": null,
            "grid_column": null,
            "grid_gap": null,
            "grid_row": null,
            "grid_template_areas": null,
            "grid_template_columns": null,
            "grid_template_rows": null,
            "height": null,
            "justify_content": null,
            "justify_items": null,
            "left": null,
            "margin": null,
            "max_height": null,
            "max_width": null,
            "min_height": null,
            "min_width": null,
            "object_fit": null,
            "object_position": null,
            "order": null,
            "overflow": null,
            "overflow_x": null,
            "overflow_y": null,
            "padding": null,
            "right": null,
            "top": null,
            "visibility": null,
            "width": null
          }
        },
        "21f651b7c1f84b42937d37bd1b9d8663": {
          "model_module": "@jupyter-widgets/controls",
          "model_name": "DescriptionStyleModel",
          "model_module_version": "1.5.0",
          "state": {
            "_model_module": "@jupyter-widgets/controls",
            "_model_module_version": "1.5.0",
            "_model_name": "DescriptionStyleModel",
            "_view_count": null,
            "_view_module": "@jupyter-widgets/base",
            "_view_module_version": "1.2.0",
            "_view_name": "StyleView",
            "description_width": ""
          }
        },
        "3e690defa9ac468cbb25c043fffb8d2a": {
          "model_module": "@jupyter-widgets/controls",
          "model_name": "HBoxModel",
          "model_module_version": "1.5.0",
          "state": {
            "_dom_classes": [],
            "_model_module": "@jupyter-widgets/controls",
            "_model_module_version": "1.5.0",
            "_model_name": "HBoxModel",
            "_view_count": null,
            "_view_module": "@jupyter-widgets/controls",
            "_view_module_version": "1.5.0",
            "_view_name": "HBoxView",
            "box_style": "",
            "children": [
              "IPY_MODEL_99f1ef6ec9334c6fb43d4241ec939416",
              "IPY_MODEL_39b30606a79c448292897821a4ae8280",
              "IPY_MODEL_d8a339450b92490983df2bffa80f7de7"
            ],
            "layout": "IPY_MODEL_ddcd1ea561cb4cdb9af1ab415c1aa34b"
          }
        },
        "99f1ef6ec9334c6fb43d4241ec939416": {
          "model_module": "@jupyter-widgets/controls",
          "model_name": "HTMLModel",
          "model_module_version": "1.5.0",
          "state": {
            "_dom_classes": [],
            "_model_module": "@jupyter-widgets/controls",
            "_model_module_version": "1.5.0",
            "_model_name": "HTMLModel",
            "_view_count": null,
            "_view_module": "@jupyter-widgets/controls",
            "_view_module_version": "1.5.0",
            "_view_name": "HTMLView",
            "description": "",
            "description_tooltip": null,
            "layout": "IPY_MODEL_5c9d73b85eae45719c1c3fcc441b1c00",
            "placeholder": "​",
            "style": "IPY_MODEL_4fd7118dee6448f8a905fd411e11e133",
            "value": "merges.txt: 100%"
          }
        },
        "39b30606a79c448292897821a4ae8280": {
          "model_module": "@jupyter-widgets/controls",
          "model_name": "FloatProgressModel",
          "model_module_version": "1.5.0",
          "state": {
            "_dom_classes": [],
            "_model_module": "@jupyter-widgets/controls",
            "_model_module_version": "1.5.0",
            "_model_name": "FloatProgressModel",
            "_view_count": null,
            "_view_module": "@jupyter-widgets/controls",
            "_view_module_version": "1.5.0",
            "_view_name": "ProgressView",
            "bar_style": "success",
            "description": "",
            "description_tooltip": null,
            "layout": "IPY_MODEL_8cdc9672f1db40979bda7989e54d79ab",
            "max": 456318,
            "min": 0,
            "orientation": "horizontal",
            "style": "IPY_MODEL_41876d69c7c64850a9bce69a37871131",
            "value": 456318
          }
        },
        "d8a339450b92490983df2bffa80f7de7": {
          "model_module": "@jupyter-widgets/controls",
          "model_name": "HTMLModel",
          "model_module_version": "1.5.0",
          "state": {
            "_dom_classes": [],
            "_model_module": "@jupyter-widgets/controls",
            "_model_module_version": "1.5.0",
            "_model_name": "HTMLModel",
            "_view_count": null,
            "_view_module": "@jupyter-widgets/controls",
            "_view_module_version": "1.5.0",
            "_view_name": "HTMLView",
            "description": "",
            "description_tooltip": null,
            "layout": "IPY_MODEL_1568688aaf9f46b9bb8ad34d5d5bafeb",
            "placeholder": "​",
            "style": "IPY_MODEL_66e4fe94df2f4f4a965c65ee0450c794",
            "value": " 456k/456k [00:00&lt;00:00, 5.14MB/s]"
          }
        },
        "ddcd1ea561cb4cdb9af1ab415c1aa34b": {
          "model_module": "@jupyter-widgets/base",
          "model_name": "LayoutModel",
          "model_module_version": "1.2.0",
          "state": {
            "_model_module": "@jupyter-widgets/base",
            "_model_module_version": "1.2.0",
            "_model_name": "LayoutModel",
            "_view_count": null,
            "_view_module": "@jupyter-widgets/base",
            "_view_module_version": "1.2.0",
            "_view_name": "LayoutView",
            "align_content": null,
            "align_items": null,
            "align_self": null,
            "border": null,
            "bottom": null,
            "display": null,
            "flex": null,
            "flex_flow": null,
            "grid_area": null,
            "grid_auto_columns": null,
            "grid_auto_flow": null,
            "grid_auto_rows": null,
            "grid_column": null,
            "grid_gap": null,
            "grid_row": null,
            "grid_template_areas": null,
            "grid_template_columns": null,
            "grid_template_rows": null,
            "height": null,
            "justify_content": null,
            "justify_items": null,
            "left": null,
            "margin": null,
            "max_height": null,
            "max_width": null,
            "min_height": null,
            "min_width": null,
            "object_fit": null,
            "object_position": null,
            "order": null,
            "overflow": null,
            "overflow_x": null,
            "overflow_y": null,
            "padding": null,
            "right": null,
            "top": null,
            "visibility": null,
            "width": null
          }
        },
        "5c9d73b85eae45719c1c3fcc441b1c00": {
          "model_module": "@jupyter-widgets/base",
          "model_name": "LayoutModel",
          "model_module_version": "1.2.0",
          "state": {
            "_model_module": "@jupyter-widgets/base",
            "_model_module_version": "1.2.0",
            "_model_name": "LayoutModel",
            "_view_count": null,
            "_view_module": "@jupyter-widgets/base",
            "_view_module_version": "1.2.0",
            "_view_name": "LayoutView",
            "align_content": null,
            "align_items": null,
            "align_self": null,
            "border": null,
            "bottom": null,
            "display": null,
            "flex": null,
            "flex_flow": null,
            "grid_area": null,
            "grid_auto_columns": null,
            "grid_auto_flow": null,
            "grid_auto_rows": null,
            "grid_column": null,
            "grid_gap": null,
            "grid_row": null,
            "grid_template_areas": null,
            "grid_template_columns": null,
            "grid_template_rows": null,
            "height": null,
            "justify_content": null,
            "justify_items": null,
            "left": null,
            "margin": null,
            "max_height": null,
            "max_width": null,
            "min_height": null,
            "min_width": null,
            "object_fit": null,
            "object_position": null,
            "order": null,
            "overflow": null,
            "overflow_x": null,
            "overflow_y": null,
            "padding": null,
            "right": null,
            "top": null,
            "visibility": null,
            "width": null
          }
        },
        "4fd7118dee6448f8a905fd411e11e133": {
          "model_module": "@jupyter-widgets/controls",
          "model_name": "DescriptionStyleModel",
          "model_module_version": "1.5.0",
          "state": {
            "_model_module": "@jupyter-widgets/controls",
            "_model_module_version": "1.5.0",
            "_model_name": "DescriptionStyleModel",
            "_view_count": null,
            "_view_module": "@jupyter-widgets/base",
            "_view_module_version": "1.2.0",
            "_view_name": "StyleView",
            "description_width": ""
          }
        },
        "8cdc9672f1db40979bda7989e54d79ab": {
          "model_module": "@jupyter-widgets/base",
          "model_name": "LayoutModel",
          "model_module_version": "1.2.0",
          "state": {
            "_model_module": "@jupyter-widgets/base",
            "_model_module_version": "1.2.0",
            "_model_name": "LayoutModel",
            "_view_count": null,
            "_view_module": "@jupyter-widgets/base",
            "_view_module_version": "1.2.0",
            "_view_name": "LayoutView",
            "align_content": null,
            "align_items": null,
            "align_self": null,
            "border": null,
            "bottom": null,
            "display": null,
            "flex": null,
            "flex_flow": null,
            "grid_area": null,
            "grid_auto_columns": null,
            "grid_auto_flow": null,
            "grid_auto_rows": null,
            "grid_column": null,
            "grid_gap": null,
            "grid_row": null,
            "grid_template_areas": null,
            "grid_template_columns": null,
            "grid_template_rows": null,
            "height": null,
            "justify_content": null,
            "justify_items": null,
            "left": null,
            "margin": null,
            "max_height": null,
            "max_width": null,
            "min_height": null,
            "min_width": null,
            "object_fit": null,
            "object_position": null,
            "order": null,
            "overflow": null,
            "overflow_x": null,
            "overflow_y": null,
            "padding": null,
            "right": null,
            "top": null,
            "visibility": null,
            "width": null
          }
        },
        "41876d69c7c64850a9bce69a37871131": {
          "model_module": "@jupyter-widgets/controls",
          "model_name": "ProgressStyleModel",
          "model_module_version": "1.5.0",
          "state": {
            "_model_module": "@jupyter-widgets/controls",
            "_model_module_version": "1.5.0",
            "_model_name": "ProgressStyleModel",
            "_view_count": null,
            "_view_module": "@jupyter-widgets/base",
            "_view_module_version": "1.2.0",
            "_view_name": "StyleView",
            "bar_color": null,
            "description_width": ""
          }
        },
        "1568688aaf9f46b9bb8ad34d5d5bafeb": {
          "model_module": "@jupyter-widgets/base",
          "model_name": "LayoutModel",
          "model_module_version": "1.2.0",
          "state": {
            "_model_module": "@jupyter-widgets/base",
            "_model_module_version": "1.2.0",
            "_model_name": "LayoutModel",
            "_view_count": null,
            "_view_module": "@jupyter-widgets/base",
            "_view_module_version": "1.2.0",
            "_view_name": "LayoutView",
            "align_content": null,
            "align_items": null,
            "align_self": null,
            "border": null,
            "bottom": null,
            "display": null,
            "flex": null,
            "flex_flow": null,
            "grid_area": null,
            "grid_auto_columns": null,
            "grid_auto_flow": null,
            "grid_auto_rows": null,
            "grid_column": null,
            "grid_gap": null,
            "grid_row": null,
            "grid_template_areas": null,
            "grid_template_columns": null,
            "grid_template_rows": null,
            "height": null,
            "justify_content": null,
            "justify_items": null,
            "left": null,
            "margin": null,
            "max_height": null,
            "max_width": null,
            "min_height": null,
            "min_width": null,
            "object_fit": null,
            "object_position": null,
            "order": null,
            "overflow": null,
            "overflow_x": null,
            "overflow_y": null,
            "padding": null,
            "right": null,
            "top": null,
            "visibility": null,
            "width": null
          }
        },
        "66e4fe94df2f4f4a965c65ee0450c794": {
          "model_module": "@jupyter-widgets/controls",
          "model_name": "DescriptionStyleModel",
          "model_module_version": "1.5.0",
          "state": {
            "_model_module": "@jupyter-widgets/controls",
            "_model_module_version": "1.5.0",
            "_model_name": "DescriptionStyleModel",
            "_view_count": null,
            "_view_module": "@jupyter-widgets/base",
            "_view_module_version": "1.2.0",
            "_view_name": "StyleView",
            "description_width": ""
          }
        },
        "0b28f34f006e4285a1990c89e7c5b728": {
          "model_module": "@jupyter-widgets/controls",
          "model_name": "HBoxModel",
          "model_module_version": "1.5.0",
          "state": {
            "_dom_classes": [],
            "_model_module": "@jupyter-widgets/controls",
            "_model_module_version": "1.5.0",
            "_model_name": "HBoxModel",
            "_view_count": null,
            "_view_module": "@jupyter-widgets/controls",
            "_view_module_version": "1.5.0",
            "_view_name": "HBoxView",
            "box_style": "",
            "children": [
              "IPY_MODEL_ce463e184ea8483185e44b54cb38cfb7",
              "IPY_MODEL_2072298bafb741ca8e9dce42d16e0bc5",
              "IPY_MODEL_80973abd79b346fb88d7734b74dc6d55"
            ],
            "layout": "IPY_MODEL_b2e76c0d565747bd879c72f1aac42869"
          }
        },
        "ce463e184ea8483185e44b54cb38cfb7": {
          "model_module": "@jupyter-widgets/controls",
          "model_name": "HTMLModel",
          "model_module_version": "1.5.0",
          "state": {
            "_dom_classes": [],
            "_model_module": "@jupyter-widgets/controls",
            "_model_module_version": "1.5.0",
            "_model_name": "HTMLModel",
            "_view_count": null,
            "_view_module": "@jupyter-widgets/controls",
            "_view_module_version": "1.5.0",
            "_view_name": "HTMLView",
            "description": "",
            "description_tooltip": null,
            "layout": "IPY_MODEL_356e02e33da141779d243be05e36ee23",
            "placeholder": "​",
            "style": "IPY_MODEL_dc8d8a7007b244d78a0834a5cfb34a93",
            "value": "special_tokens_map.json: 100%"
          }
        },
        "2072298bafb741ca8e9dce42d16e0bc5": {
          "model_module": "@jupyter-widgets/controls",
          "model_name": "FloatProgressModel",
          "model_module_version": "1.5.0",
          "state": {
            "_dom_classes": [],
            "_model_module": "@jupyter-widgets/controls",
            "_model_module_version": "1.5.0",
            "_model_name": "FloatProgressModel",
            "_view_count": null,
            "_view_module": "@jupyter-widgets/controls",
            "_view_module_version": "1.5.0",
            "_view_name": "ProgressView",
            "bar_style": "success",
            "description": "",
            "description_tooltip": null,
            "layout": "IPY_MODEL_a573b976626a470daa9b11d1dd6f0697",
            "max": 239,
            "min": 0,
            "orientation": "horizontal",
            "style": "IPY_MODEL_7a24f4bba90f4ff3b60ff80e8010249b",
            "value": 239
          }
        },
        "80973abd79b346fb88d7734b74dc6d55": {
          "model_module": "@jupyter-widgets/controls",
          "model_name": "HTMLModel",
          "model_module_version": "1.5.0",
          "state": {
            "_dom_classes": [],
            "_model_module": "@jupyter-widgets/controls",
            "_model_module_version": "1.5.0",
            "_model_name": "HTMLModel",
            "_view_count": null,
            "_view_module": "@jupyter-widgets/controls",
            "_view_module_version": "1.5.0",
            "_view_name": "HTMLView",
            "description": "",
            "description_tooltip": null,
            "layout": "IPY_MODEL_e16ad717083941bab44003a5d77a9716",
            "placeholder": "​",
            "style": "IPY_MODEL_1f7788b3450846578882c737b52d8c06",
            "value": " 239/239 [00:00&lt;00:00, 16.5kB/s]"
          }
        },
        "b2e76c0d565747bd879c72f1aac42869": {
          "model_module": "@jupyter-widgets/base",
          "model_name": "LayoutModel",
          "model_module_version": "1.2.0",
          "state": {
            "_model_module": "@jupyter-widgets/base",
            "_model_module_version": "1.2.0",
            "_model_name": "LayoutModel",
            "_view_count": null,
            "_view_module": "@jupyter-widgets/base",
            "_view_module_version": "1.2.0",
            "_view_name": "LayoutView",
            "align_content": null,
            "align_items": null,
            "align_self": null,
            "border": null,
            "bottom": null,
            "display": null,
            "flex": null,
            "flex_flow": null,
            "grid_area": null,
            "grid_auto_columns": null,
            "grid_auto_flow": null,
            "grid_auto_rows": null,
            "grid_column": null,
            "grid_gap": null,
            "grid_row": null,
            "grid_template_areas": null,
            "grid_template_columns": null,
            "grid_template_rows": null,
            "height": null,
            "justify_content": null,
            "justify_items": null,
            "left": null,
            "margin": null,
            "max_height": null,
            "max_width": null,
            "min_height": null,
            "min_width": null,
            "object_fit": null,
            "object_position": null,
            "order": null,
            "overflow": null,
            "overflow_x": null,
            "overflow_y": null,
            "padding": null,
            "right": null,
            "top": null,
            "visibility": null,
            "width": null
          }
        },
        "356e02e33da141779d243be05e36ee23": {
          "model_module": "@jupyter-widgets/base",
          "model_name": "LayoutModel",
          "model_module_version": "1.2.0",
          "state": {
            "_model_module": "@jupyter-widgets/base",
            "_model_module_version": "1.2.0",
            "_model_name": "LayoutModel",
            "_view_count": null,
            "_view_module": "@jupyter-widgets/base",
            "_view_module_version": "1.2.0",
            "_view_name": "LayoutView",
            "align_content": null,
            "align_items": null,
            "align_self": null,
            "border": null,
            "bottom": null,
            "display": null,
            "flex": null,
            "flex_flow": null,
            "grid_area": null,
            "grid_auto_columns": null,
            "grid_auto_flow": null,
            "grid_auto_rows": null,
            "grid_column": null,
            "grid_gap": null,
            "grid_row": null,
            "grid_template_areas": null,
            "grid_template_columns": null,
            "grid_template_rows": null,
            "height": null,
            "justify_content": null,
            "justify_items": null,
            "left": null,
            "margin": null,
            "max_height": null,
            "max_width": null,
            "min_height": null,
            "min_width": null,
            "object_fit": null,
            "object_position": null,
            "order": null,
            "overflow": null,
            "overflow_x": null,
            "overflow_y": null,
            "padding": null,
            "right": null,
            "top": null,
            "visibility": null,
            "width": null
          }
        },
        "dc8d8a7007b244d78a0834a5cfb34a93": {
          "model_module": "@jupyter-widgets/controls",
          "model_name": "DescriptionStyleModel",
          "model_module_version": "1.5.0",
          "state": {
            "_model_module": "@jupyter-widgets/controls",
            "_model_module_version": "1.5.0",
            "_model_name": "DescriptionStyleModel",
            "_view_count": null,
            "_view_module": "@jupyter-widgets/base",
            "_view_module_version": "1.2.0",
            "_view_name": "StyleView",
            "description_width": ""
          }
        },
        "a573b976626a470daa9b11d1dd6f0697": {
          "model_module": "@jupyter-widgets/base",
          "model_name": "LayoutModel",
          "model_module_version": "1.2.0",
          "state": {
            "_model_module": "@jupyter-widgets/base",
            "_model_module_version": "1.2.0",
            "_model_name": "LayoutModel",
            "_view_count": null,
            "_view_module": "@jupyter-widgets/base",
            "_view_module_version": "1.2.0",
            "_view_name": "LayoutView",
            "align_content": null,
            "align_items": null,
            "align_self": null,
            "border": null,
            "bottom": null,
            "display": null,
            "flex": null,
            "flex_flow": null,
            "grid_area": null,
            "grid_auto_columns": null,
            "grid_auto_flow": null,
            "grid_auto_rows": null,
            "grid_column": null,
            "grid_gap": null,
            "grid_row": null,
            "grid_template_areas": null,
            "grid_template_columns": null,
            "grid_template_rows": null,
            "height": null,
            "justify_content": null,
            "justify_items": null,
            "left": null,
            "margin": null,
            "max_height": null,
            "max_width": null,
            "min_height": null,
            "min_width": null,
            "object_fit": null,
            "object_position": null,
            "order": null,
            "overflow": null,
            "overflow_x": null,
            "overflow_y": null,
            "padding": null,
            "right": null,
            "top": null,
            "visibility": null,
            "width": null
          }
        },
        "7a24f4bba90f4ff3b60ff80e8010249b": {
          "model_module": "@jupyter-widgets/controls",
          "model_name": "ProgressStyleModel",
          "model_module_version": "1.5.0",
          "state": {
            "_model_module": "@jupyter-widgets/controls",
            "_model_module_version": "1.5.0",
            "_model_name": "ProgressStyleModel",
            "_view_count": null,
            "_view_module": "@jupyter-widgets/base",
            "_view_module_version": "1.2.0",
            "_view_name": "StyleView",
            "bar_color": null,
            "description_width": ""
          }
        },
        "e16ad717083941bab44003a5d77a9716": {
          "model_module": "@jupyter-widgets/base",
          "model_name": "LayoutModel",
          "model_module_version": "1.2.0",
          "state": {
            "_model_module": "@jupyter-widgets/base",
            "_model_module_version": "1.2.0",
            "_model_name": "LayoutModel",
            "_view_count": null,
            "_view_module": "@jupyter-widgets/base",
            "_view_module_version": "1.2.0",
            "_view_name": "LayoutView",
            "align_content": null,
            "align_items": null,
            "align_self": null,
            "border": null,
            "bottom": null,
            "display": null,
            "flex": null,
            "flex_flow": null,
            "grid_area": null,
            "grid_auto_columns": null,
            "grid_auto_flow": null,
            "grid_auto_rows": null,
            "grid_column": null,
            "grid_gap": null,
            "grid_row": null,
            "grid_template_areas": null,
            "grid_template_columns": null,
            "grid_template_rows": null,
            "height": null,
            "justify_content": null,
            "justify_items": null,
            "left": null,
            "margin": null,
            "max_height": null,
            "max_width": null,
            "min_height": null,
            "min_width": null,
            "object_fit": null,
            "object_position": null,
            "order": null,
            "overflow": null,
            "overflow_x": null,
            "overflow_y": null,
            "padding": null,
            "right": null,
            "top": null,
            "visibility": null,
            "width": null
          }
        },
        "1f7788b3450846578882c737b52d8c06": {
          "model_module": "@jupyter-widgets/controls",
          "model_name": "DescriptionStyleModel",
          "model_module_version": "1.5.0",
          "state": {
            "_model_module": "@jupyter-widgets/controls",
            "_model_module_version": "1.5.0",
            "_model_name": "DescriptionStyleModel",
            "_view_count": null,
            "_view_module": "@jupyter-widgets/base",
            "_view_module_version": "1.2.0",
            "_view_name": "StyleView",
            "description_width": ""
          }
        },
        "d433f8fe85c44b44bd62fbd5f967788a": {
          "model_module": "@jupyter-widgets/controls",
          "model_name": "HBoxModel",
          "model_module_version": "1.5.0",
          "state": {
            "_dom_classes": [],
            "_model_module": "@jupyter-widgets/controls",
            "_model_module_version": "1.5.0",
            "_model_name": "HBoxModel",
            "_view_count": null,
            "_view_module": "@jupyter-widgets/controls",
            "_view_module_version": "1.5.0",
            "_view_name": "HBoxView",
            "box_style": "",
            "children": [
              "IPY_MODEL_7ffd3778d30549e9bfb6bbc77c6ba30f",
              "IPY_MODEL_93303ccdd06f4101b07baf92f6f85945",
              "IPY_MODEL_c3fb2f98724d4ab6bdd98521307b6089"
            ],
            "layout": "IPY_MODEL_dec6800458e1462b9fa85072fce32d79"
          }
        },
        "7ffd3778d30549e9bfb6bbc77c6ba30f": {
          "model_module": "@jupyter-widgets/controls",
          "model_name": "HTMLModel",
          "model_module_version": "1.5.0",
          "state": {
            "_dom_classes": [],
            "_model_module": "@jupyter-widgets/controls",
            "_model_module_version": "1.5.0",
            "_model_name": "HTMLModel",
            "_view_count": null,
            "_view_module": "@jupyter-widgets/controls",
            "_view_module_version": "1.5.0",
            "_view_name": "HTMLView",
            "description": "",
            "description_tooltip": null,
            "layout": "IPY_MODEL_e3513c26f87c438c9df0a2ebbc1424b7",
            "placeholder": "​",
            "style": "IPY_MODEL_579268df9b08495984058a856e57d440",
            "value": "config.json: 100%"
          }
        },
        "93303ccdd06f4101b07baf92f6f85945": {
          "model_module": "@jupyter-widgets/controls",
          "model_name": "FloatProgressModel",
          "model_module_version": "1.5.0",
          "state": {
            "_dom_classes": [],
            "_model_module": "@jupyter-widgets/controls",
            "_model_module_version": "1.5.0",
            "_model_name": "FloatProgressModel",
            "_view_count": null,
            "_view_module": "@jupyter-widgets/controls",
            "_view_module_version": "1.5.0",
            "_view_name": "ProgressView",
            "bar_style": "success",
            "description": "",
            "description_tooltip": null,
            "layout": "IPY_MODEL_7d458274d2df4f9e9a69321040abd0d2",
            "max": 1019,
            "min": 0,
            "orientation": "horizontal",
            "style": "IPY_MODEL_a412c79c3b6c4abe8773b93730597aba",
            "value": 1019
          }
        },
        "c3fb2f98724d4ab6bdd98521307b6089": {
          "model_module": "@jupyter-widgets/controls",
          "model_name": "HTMLModel",
          "model_module_version": "1.5.0",
          "state": {
            "_dom_classes": [],
            "_model_module": "@jupyter-widgets/controls",
            "_model_module_version": "1.5.0",
            "_model_name": "HTMLModel",
            "_view_count": null,
            "_view_module": "@jupyter-widgets/controls",
            "_view_module_version": "1.5.0",
            "_view_name": "HTMLView",
            "description": "",
            "description_tooltip": null,
            "layout": "IPY_MODEL_399190eb709948caad0cd775ffa2e315",
            "placeholder": "​",
            "style": "IPY_MODEL_7660bca7d0fe4d0b89efc2946fe50ce9",
            "value": " 1.02k/1.02k [00:00&lt;00:00, 46.7kB/s]"
          }
        },
        "dec6800458e1462b9fa85072fce32d79": {
          "model_module": "@jupyter-widgets/base",
          "model_name": "LayoutModel",
          "model_module_version": "1.2.0",
          "state": {
            "_model_module": "@jupyter-widgets/base",
            "_model_module_version": "1.2.0",
            "_model_name": "LayoutModel",
            "_view_count": null,
            "_view_module": "@jupyter-widgets/base",
            "_view_module_version": "1.2.0",
            "_view_name": "LayoutView",
            "align_content": null,
            "align_items": null,
            "align_self": null,
            "border": null,
            "bottom": null,
            "display": null,
            "flex": null,
            "flex_flow": null,
            "grid_area": null,
            "grid_auto_columns": null,
            "grid_auto_flow": null,
            "grid_auto_rows": null,
            "grid_column": null,
            "grid_gap": null,
            "grid_row": null,
            "grid_template_areas": null,
            "grid_template_columns": null,
            "grid_template_rows": null,
            "height": null,
            "justify_content": null,
            "justify_items": null,
            "left": null,
            "margin": null,
            "max_height": null,
            "max_width": null,
            "min_height": null,
            "min_width": null,
            "object_fit": null,
            "object_position": null,
            "order": null,
            "overflow": null,
            "overflow_x": null,
            "overflow_y": null,
            "padding": null,
            "right": null,
            "top": null,
            "visibility": null,
            "width": null
          }
        },
        "e3513c26f87c438c9df0a2ebbc1424b7": {
          "model_module": "@jupyter-widgets/base",
          "model_name": "LayoutModel",
          "model_module_version": "1.2.0",
          "state": {
            "_model_module": "@jupyter-widgets/base",
            "_model_module_version": "1.2.0",
            "_model_name": "LayoutModel",
            "_view_count": null,
            "_view_module": "@jupyter-widgets/base",
            "_view_module_version": "1.2.0",
            "_view_name": "LayoutView",
            "align_content": null,
            "align_items": null,
            "align_self": null,
            "border": null,
            "bottom": null,
            "display": null,
            "flex": null,
            "flex_flow": null,
            "grid_area": null,
            "grid_auto_columns": null,
            "grid_auto_flow": null,
            "grid_auto_rows": null,
            "grid_column": null,
            "grid_gap": null,
            "grid_row": null,
            "grid_template_areas": null,
            "grid_template_columns": null,
            "grid_template_rows": null,
            "height": null,
            "justify_content": null,
            "justify_items": null,
            "left": null,
            "margin": null,
            "max_height": null,
            "max_width": null,
            "min_height": null,
            "min_width": null,
            "object_fit": null,
            "object_position": null,
            "order": null,
            "overflow": null,
            "overflow_x": null,
            "overflow_y": null,
            "padding": null,
            "right": null,
            "top": null,
            "visibility": null,
            "width": null
          }
        },
        "579268df9b08495984058a856e57d440": {
          "model_module": "@jupyter-widgets/controls",
          "model_name": "DescriptionStyleModel",
          "model_module_version": "1.5.0",
          "state": {
            "_model_module": "@jupyter-widgets/controls",
            "_model_module_version": "1.5.0",
            "_model_name": "DescriptionStyleModel",
            "_view_count": null,
            "_view_module": "@jupyter-widgets/base",
            "_view_module_version": "1.2.0",
            "_view_name": "StyleView",
            "description_width": ""
          }
        },
        "7d458274d2df4f9e9a69321040abd0d2": {
          "model_module": "@jupyter-widgets/base",
          "model_name": "LayoutModel",
          "model_module_version": "1.2.0",
          "state": {
            "_model_module": "@jupyter-widgets/base",
            "_model_module_version": "1.2.0",
            "_model_name": "LayoutModel",
            "_view_count": null,
            "_view_module": "@jupyter-widgets/base",
            "_view_module_version": "1.2.0",
            "_view_name": "LayoutView",
            "align_content": null,
            "align_items": null,
            "align_self": null,
            "border": null,
            "bottom": null,
            "display": null,
            "flex": null,
            "flex_flow": null,
            "grid_area": null,
            "grid_auto_columns": null,
            "grid_auto_flow": null,
            "grid_auto_rows": null,
            "grid_column": null,
            "grid_gap": null,
            "grid_row": null,
            "grid_template_areas": null,
            "grid_template_columns": null,
            "grid_template_rows": null,
            "height": null,
            "justify_content": null,
            "justify_items": null,
            "left": null,
            "margin": null,
            "max_height": null,
            "max_width": null,
            "min_height": null,
            "min_width": null,
            "object_fit": null,
            "object_position": null,
            "order": null,
            "overflow": null,
            "overflow_x": null,
            "overflow_y": null,
            "padding": null,
            "right": null,
            "top": null,
            "visibility": null,
            "width": null
          }
        },
        "a412c79c3b6c4abe8773b93730597aba": {
          "model_module": "@jupyter-widgets/controls",
          "model_name": "ProgressStyleModel",
          "model_module_version": "1.5.0",
          "state": {
            "_model_module": "@jupyter-widgets/controls",
            "_model_module_version": "1.5.0",
            "_model_name": "ProgressStyleModel",
            "_view_count": null,
            "_view_module": "@jupyter-widgets/base",
            "_view_module_version": "1.2.0",
            "_view_name": "StyleView",
            "bar_color": null,
            "description_width": ""
          }
        },
        "399190eb709948caad0cd775ffa2e315": {
          "model_module": "@jupyter-widgets/base",
          "model_name": "LayoutModel",
          "model_module_version": "1.2.0",
          "state": {
            "_model_module": "@jupyter-widgets/base",
            "_model_module_version": "1.2.0",
            "_model_name": "LayoutModel",
            "_view_count": null,
            "_view_module": "@jupyter-widgets/base",
            "_view_module_version": "1.2.0",
            "_view_name": "LayoutView",
            "align_content": null,
            "align_items": null,
            "align_self": null,
            "border": null,
            "bottom": null,
            "display": null,
            "flex": null,
            "flex_flow": null,
            "grid_area": null,
            "grid_auto_columns": null,
            "grid_auto_flow": null,
            "grid_auto_rows": null,
            "grid_column": null,
            "grid_gap": null,
            "grid_row": null,
            "grid_template_areas": null,
            "grid_template_columns": null,
            "grid_template_rows": null,
            "height": null,
            "justify_content": null,
            "justify_items": null,
            "left": null,
            "margin": null,
            "max_height": null,
            "max_width": null,
            "min_height": null,
            "min_width": null,
            "object_fit": null,
            "object_position": null,
            "order": null,
            "overflow": null,
            "overflow_x": null,
            "overflow_y": null,
            "padding": null,
            "right": null,
            "top": null,
            "visibility": null,
            "width": null
          }
        },
        "7660bca7d0fe4d0b89efc2946fe50ce9": {
          "model_module": "@jupyter-widgets/controls",
          "model_name": "DescriptionStyleModel",
          "model_module_version": "1.5.0",
          "state": {
            "_model_module": "@jupyter-widgets/controls",
            "_model_module_version": "1.5.0",
            "_model_name": "DescriptionStyleModel",
            "_view_count": null,
            "_view_module": "@jupyter-widgets/base",
            "_view_module_version": "1.2.0",
            "_view_name": "StyleView",
            "description_width": ""
          }
        },
        "a6e37b47682f4b42a941dd022dfc9ed8": {
          "model_module": "@jupyter-widgets/controls",
          "model_name": "HBoxModel",
          "model_module_version": "1.5.0",
          "state": {
            "_dom_classes": [],
            "_model_module": "@jupyter-widgets/controls",
            "_model_module_version": "1.5.0",
            "_model_name": "HBoxModel",
            "_view_count": null,
            "_view_module": "@jupyter-widgets/controls",
            "_view_module_version": "1.5.0",
            "_view_name": "HBoxView",
            "box_style": "",
            "children": [
              "IPY_MODEL_d881a0fbf8534c338a23494da55b864d",
              "IPY_MODEL_45572f060a1d46f7940bc57bdde80786",
              "IPY_MODEL_b06bc2478d69402fa30962241bed28d4"
            ],
            "layout": "IPY_MODEL_43acb77f2c4142c7a3680046aed28a58"
          }
        },
        "d881a0fbf8534c338a23494da55b864d": {
          "model_module": "@jupyter-widgets/controls",
          "model_name": "HTMLModel",
          "model_module_version": "1.5.0",
          "state": {
            "_dom_classes": [],
            "_model_module": "@jupyter-widgets/controls",
            "_model_module_version": "1.5.0",
            "_model_name": "HTMLModel",
            "_view_count": null,
            "_view_module": "@jupyter-widgets/controls",
            "_view_module_version": "1.5.0",
            "_view_name": "HTMLView",
            "description": "",
            "description_tooltip": null,
            "layout": "IPY_MODEL_24b98e0e953946169965eb6d816f8364",
            "placeholder": "​",
            "style": "IPY_MODEL_d0058dea976b4712a99a05dde6fb5c5e",
            "value": "model.safetensors: 100%"
          }
        },
        "45572f060a1d46f7940bc57bdde80786": {
          "model_module": "@jupyter-widgets/controls",
          "model_name": "FloatProgressModel",
          "model_module_version": "1.5.0",
          "state": {
            "_dom_classes": [],
            "_model_module": "@jupyter-widgets/controls",
            "_model_module_version": "1.5.0",
            "_model_name": "FloatProgressModel",
            "_view_count": null,
            "_view_module": "@jupyter-widgets/controls",
            "_view_module_version": "1.5.0",
            "_view_name": "ProgressView",
            "bar_style": "success",
            "description": "",
            "description_tooltip": null,
            "layout": "IPY_MODEL_343dd357805d46cf940d95b4b5ea53da",
            "max": 870176356,
            "min": 0,
            "orientation": "horizontal",
            "style": "IPY_MODEL_77784074bfc74772b39c1aa5258eebc2",
            "value": 870176356
          }
        },
        "b06bc2478d69402fa30962241bed28d4": {
          "model_module": "@jupyter-widgets/controls",
          "model_name": "HTMLModel",
          "model_module_version": "1.5.0",
          "state": {
            "_dom_classes": [],
            "_model_module": "@jupyter-widgets/controls",
            "_model_module_version": "1.5.0",
            "_model_name": "HTMLModel",
            "_view_count": null,
            "_view_module": "@jupyter-widgets/controls",
            "_view_module_version": "1.5.0",
            "_view_name": "HTMLView",
            "description": "",
            "description_tooltip": null,
            "layout": "IPY_MODEL_27a2d1cb9a7a43baa116a8af0eab00c8",
            "placeholder": "​",
            "style": "IPY_MODEL_c11418bceebe46bda1504b5628df8e49",
            "value": " 870M/870M [00:20&lt;00:00, 42.6MB/s]"
          }
        },
        "43acb77f2c4142c7a3680046aed28a58": {
          "model_module": "@jupyter-widgets/base",
          "model_name": "LayoutModel",
          "model_module_version": "1.2.0",
          "state": {
            "_model_module": "@jupyter-widgets/base",
            "_model_module_version": "1.2.0",
            "_model_name": "LayoutModel",
            "_view_count": null,
            "_view_module": "@jupyter-widgets/base",
            "_view_module_version": "1.2.0",
            "_view_name": "LayoutView",
            "align_content": null,
            "align_items": null,
            "align_self": null,
            "border": null,
            "bottom": null,
            "display": null,
            "flex": null,
            "flex_flow": null,
            "grid_area": null,
            "grid_auto_columns": null,
            "grid_auto_flow": null,
            "grid_auto_rows": null,
            "grid_column": null,
            "grid_gap": null,
            "grid_row": null,
            "grid_template_areas": null,
            "grid_template_columns": null,
            "grid_template_rows": null,
            "height": null,
            "justify_content": null,
            "justify_items": null,
            "left": null,
            "margin": null,
            "max_height": null,
            "max_width": null,
            "min_height": null,
            "min_width": null,
            "object_fit": null,
            "object_position": null,
            "order": null,
            "overflow": null,
            "overflow_x": null,
            "overflow_y": null,
            "padding": null,
            "right": null,
            "top": null,
            "visibility": null,
            "width": null
          }
        },
        "24b98e0e953946169965eb6d816f8364": {
          "model_module": "@jupyter-widgets/base",
          "model_name": "LayoutModel",
          "model_module_version": "1.2.0",
          "state": {
            "_model_module": "@jupyter-widgets/base",
            "_model_module_version": "1.2.0",
            "_model_name": "LayoutModel",
            "_view_count": null,
            "_view_module": "@jupyter-widgets/base",
            "_view_module_version": "1.2.0",
            "_view_name": "LayoutView",
            "align_content": null,
            "align_items": null,
            "align_self": null,
            "border": null,
            "bottom": null,
            "display": null,
            "flex": null,
            "flex_flow": null,
            "grid_area": null,
            "grid_auto_columns": null,
            "grid_auto_flow": null,
            "grid_auto_rows": null,
            "grid_column": null,
            "grid_gap": null,
            "grid_row": null,
            "grid_template_areas": null,
            "grid_template_columns": null,
            "grid_template_rows": null,
            "height": null,
            "justify_content": null,
            "justify_items": null,
            "left": null,
            "margin": null,
            "max_height": null,
            "max_width": null,
            "min_height": null,
            "min_width": null,
            "object_fit": null,
            "object_position": null,
            "order": null,
            "overflow": null,
            "overflow_x": null,
            "overflow_y": null,
            "padding": null,
            "right": null,
            "top": null,
            "visibility": null,
            "width": null
          }
        },
        "d0058dea976b4712a99a05dde6fb5c5e": {
          "model_module": "@jupyter-widgets/controls",
          "model_name": "DescriptionStyleModel",
          "model_module_version": "1.5.0",
          "state": {
            "_model_module": "@jupyter-widgets/controls",
            "_model_module_version": "1.5.0",
            "_model_name": "DescriptionStyleModel",
            "_view_count": null,
            "_view_module": "@jupyter-widgets/base",
            "_view_module_version": "1.2.0",
            "_view_name": "StyleView",
            "description_width": ""
          }
        },
        "343dd357805d46cf940d95b4b5ea53da": {
          "model_module": "@jupyter-widgets/base",
          "model_name": "LayoutModel",
          "model_module_version": "1.2.0",
          "state": {
            "_model_module": "@jupyter-widgets/base",
            "_model_module_version": "1.2.0",
            "_model_name": "LayoutModel",
            "_view_count": null,
            "_view_module": "@jupyter-widgets/base",
            "_view_module_version": "1.2.0",
            "_view_name": "LayoutView",
            "align_content": null,
            "align_items": null,
            "align_self": null,
            "border": null,
            "bottom": null,
            "display": null,
            "flex": null,
            "flex_flow": null,
            "grid_area": null,
            "grid_auto_columns": null,
            "grid_auto_flow": null,
            "grid_auto_rows": null,
            "grid_column": null,
            "grid_gap": null,
            "grid_row": null,
            "grid_template_areas": null,
            "grid_template_columns": null,
            "grid_template_rows": null,
            "height": null,
            "justify_content": null,
            "justify_items": null,
            "left": null,
            "margin": null,
            "max_height": null,
            "max_width": null,
            "min_height": null,
            "min_width": null,
            "object_fit": null,
            "object_position": null,
            "order": null,
            "overflow": null,
            "overflow_x": null,
            "overflow_y": null,
            "padding": null,
            "right": null,
            "top": null,
            "visibility": null,
            "width": null
          }
        },
        "77784074bfc74772b39c1aa5258eebc2": {
          "model_module": "@jupyter-widgets/controls",
          "model_name": "ProgressStyleModel",
          "model_module_version": "1.5.0",
          "state": {
            "_model_module": "@jupyter-widgets/controls",
            "_model_module_version": "1.5.0",
            "_model_name": "ProgressStyleModel",
            "_view_count": null,
            "_view_module": "@jupyter-widgets/base",
            "_view_module_version": "1.2.0",
            "_view_name": "StyleView",
            "bar_color": null,
            "description_width": ""
          }
        },
        "27a2d1cb9a7a43baa116a8af0eab00c8": {
          "model_module": "@jupyter-widgets/base",
          "model_name": "LayoutModel",
          "model_module_version": "1.2.0",
          "state": {
            "_model_module": "@jupyter-widgets/base",
            "_model_module_version": "1.2.0",
            "_model_name": "LayoutModel",
            "_view_count": null,
            "_view_module": "@jupyter-widgets/base",
            "_view_module_version": "1.2.0",
            "_view_name": "LayoutView",
            "align_content": null,
            "align_items": null,
            "align_self": null,
            "border": null,
            "bottom": null,
            "display": null,
            "flex": null,
            "flex_flow": null,
            "grid_area": null,
            "grid_auto_columns": null,
            "grid_auto_flow": null,
            "grid_auto_rows": null,
            "grid_column": null,
            "grid_gap": null,
            "grid_row": null,
            "grid_template_areas": null,
            "grid_template_columns": null,
            "grid_template_rows": null,
            "height": null,
            "justify_content": null,
            "justify_items": null,
            "left": null,
            "margin": null,
            "max_height": null,
            "max_width": null,
            "min_height": null,
            "min_width": null,
            "object_fit": null,
            "object_position": null,
            "order": null,
            "overflow": null,
            "overflow_x": null,
            "overflow_y": null,
            "padding": null,
            "right": null,
            "top": null,
            "visibility": null,
            "width": null
          }
        },
        "c11418bceebe46bda1504b5628df8e49": {
          "model_module": "@jupyter-widgets/controls",
          "model_name": "DescriptionStyleModel",
          "model_module_version": "1.5.0",
          "state": {
            "_model_module": "@jupyter-widgets/controls",
            "_model_module_version": "1.5.0",
            "_model_name": "DescriptionStyleModel",
            "_view_count": null,
            "_view_module": "@jupyter-widgets/base",
            "_view_module_version": "1.2.0",
            "_view_name": "StyleView",
            "description_width": ""
          }
        },
        "c0a877ffab1840c6a5757742e8b316b8": {
          "model_module": "@jupyter-widgets/controls",
          "model_name": "HBoxModel",
          "model_module_version": "1.5.0",
          "state": {
            "_dom_classes": [],
            "_model_module": "@jupyter-widgets/controls",
            "_model_module_version": "1.5.0",
            "_model_name": "HBoxModel",
            "_view_count": null,
            "_view_module": "@jupyter-widgets/controls",
            "_view_module_version": "1.5.0",
            "_view_name": "HBoxView",
            "box_style": "",
            "children": [
              "IPY_MODEL_bc16ed1c08c746e29ec5606047d466dd",
              "IPY_MODEL_8b4020a77e0a42eda6a46fd9ade026d2",
              "IPY_MODEL_cb1efaa7a2da4d04b78e4eb9bc8d9b72"
            ],
            "layout": "IPY_MODEL_cb669358ff4a49c0b35df9a4299ce877"
          }
        },
        "bc16ed1c08c746e29ec5606047d466dd": {
          "model_module": "@jupyter-widgets/controls",
          "model_name": "HTMLModel",
          "model_module_version": "1.5.0",
          "state": {
            "_dom_classes": [],
            "_model_module": "@jupyter-widgets/controls",
            "_model_module_version": "1.5.0",
            "_model_name": "HTMLModel",
            "_view_count": null,
            "_view_module": "@jupyter-widgets/controls",
            "_view_module_version": "1.5.0",
            "_view_name": "HTMLView",
            "description": "",
            "description_tooltip": null,
            "layout": "IPY_MODEL_0d5ace7e574b466b8d04a31eb7b134f2",
            "placeholder": "​",
            "style": "IPY_MODEL_d8f58204f65244ccba5013adcb90114d",
            "value": "tokenizer_config.json: 100%"
          }
        },
        "8b4020a77e0a42eda6a46fd9ade026d2": {
          "model_module": "@jupyter-widgets/controls",
          "model_name": "FloatProgressModel",
          "model_module_version": "1.5.0",
          "state": {
            "_dom_classes": [],
            "_model_module": "@jupyter-widgets/controls",
            "_model_module_version": "1.5.0",
            "_model_name": "FloatProgressModel",
            "_view_count": null,
            "_view_module": "@jupyter-widgets/controls",
            "_view_module_version": "1.5.0",
            "_view_name": "ProgressView",
            "bar_style": "success",
            "description": "",
            "description_tooltip": null,
            "layout": "IPY_MODEL_75ee3b8d6945424493075e1af59dc330",
            "max": 1256,
            "min": 0,
            "orientation": "horizontal",
            "style": "IPY_MODEL_62adad745f9b4e5ca15d93f65bfc0cbe",
            "value": 1256
          }
        },
        "cb1efaa7a2da4d04b78e4eb9bc8d9b72": {
          "model_module": "@jupyter-widgets/controls",
          "model_name": "HTMLModel",
          "model_module_version": "1.5.0",
          "state": {
            "_dom_classes": [],
            "_model_module": "@jupyter-widgets/controls",
            "_model_module_version": "1.5.0",
            "_model_name": "HTMLModel",
            "_view_count": null,
            "_view_module": "@jupyter-widgets/controls",
            "_view_module_version": "1.5.0",
            "_view_name": "HTMLView",
            "description": "",
            "description_tooltip": null,
            "layout": "IPY_MODEL_4e97f9be8b8d4696944ba993806f06ee",
            "placeholder": "​",
            "style": "IPY_MODEL_815ad066cff742d086cfc644a6d96e4f",
            "value": " 1.26k/1.26k [00:00&lt;00:00, 23.8kB/s]"
          }
        },
        "cb669358ff4a49c0b35df9a4299ce877": {
          "model_module": "@jupyter-widgets/base",
          "model_name": "LayoutModel",
          "model_module_version": "1.2.0",
          "state": {
            "_model_module": "@jupyter-widgets/base",
            "_model_module_version": "1.2.0",
            "_model_name": "LayoutModel",
            "_view_count": null,
            "_view_module": "@jupyter-widgets/base",
            "_view_module_version": "1.2.0",
            "_view_name": "LayoutView",
            "align_content": null,
            "align_items": null,
            "align_self": null,
            "border": null,
            "bottom": null,
            "display": null,
            "flex": null,
            "flex_flow": null,
            "grid_area": null,
            "grid_auto_columns": null,
            "grid_auto_flow": null,
            "grid_auto_rows": null,
            "grid_column": null,
            "grid_gap": null,
            "grid_row": null,
            "grid_template_areas": null,
            "grid_template_columns": null,
            "grid_template_rows": null,
            "height": null,
            "justify_content": null,
            "justify_items": null,
            "left": null,
            "margin": null,
            "max_height": null,
            "max_width": null,
            "min_height": null,
            "min_width": null,
            "object_fit": null,
            "object_position": null,
            "order": null,
            "overflow": null,
            "overflow_x": null,
            "overflow_y": null,
            "padding": null,
            "right": null,
            "top": null,
            "visibility": null,
            "width": null
          }
        },
        "0d5ace7e574b466b8d04a31eb7b134f2": {
          "model_module": "@jupyter-widgets/base",
          "model_name": "LayoutModel",
          "model_module_version": "1.2.0",
          "state": {
            "_model_module": "@jupyter-widgets/base",
            "_model_module_version": "1.2.0",
            "_model_name": "LayoutModel",
            "_view_count": null,
            "_view_module": "@jupyter-widgets/base",
            "_view_module_version": "1.2.0",
            "_view_name": "LayoutView",
            "align_content": null,
            "align_items": null,
            "align_self": null,
            "border": null,
            "bottom": null,
            "display": null,
            "flex": null,
            "flex_flow": null,
            "grid_area": null,
            "grid_auto_columns": null,
            "grid_auto_flow": null,
            "grid_auto_rows": null,
            "grid_column": null,
            "grid_gap": null,
            "grid_row": null,
            "grid_template_areas": null,
            "grid_template_columns": null,
            "grid_template_rows": null,
            "height": null,
            "justify_content": null,
            "justify_items": null,
            "left": null,
            "margin": null,
            "max_height": null,
            "max_width": null,
            "min_height": null,
            "min_width": null,
            "object_fit": null,
            "object_position": null,
            "order": null,
            "overflow": null,
            "overflow_x": null,
            "overflow_y": null,
            "padding": null,
            "right": null,
            "top": null,
            "visibility": null,
            "width": null
          }
        },
        "d8f58204f65244ccba5013adcb90114d": {
          "model_module": "@jupyter-widgets/controls",
          "model_name": "DescriptionStyleModel",
          "model_module_version": "1.5.0",
          "state": {
            "_model_module": "@jupyter-widgets/controls",
            "_model_module_version": "1.5.0",
            "_model_name": "DescriptionStyleModel",
            "_view_count": null,
            "_view_module": "@jupyter-widgets/base",
            "_view_module_version": "1.2.0",
            "_view_name": "StyleView",
            "description_width": ""
          }
        },
        "75ee3b8d6945424493075e1af59dc330": {
          "model_module": "@jupyter-widgets/base",
          "model_name": "LayoutModel",
          "model_module_version": "1.2.0",
          "state": {
            "_model_module": "@jupyter-widgets/base",
            "_model_module_version": "1.2.0",
            "_model_name": "LayoutModel",
            "_view_count": null,
            "_view_module": "@jupyter-widgets/base",
            "_view_module_version": "1.2.0",
            "_view_name": "LayoutView",
            "align_content": null,
            "align_items": null,
            "align_self": null,
            "border": null,
            "bottom": null,
            "display": null,
            "flex": null,
            "flex_flow": null,
            "grid_area": null,
            "grid_auto_columns": null,
            "grid_auto_flow": null,
            "grid_auto_rows": null,
            "grid_column": null,
            "grid_gap": null,
            "grid_row": null,
            "grid_template_areas": null,
            "grid_template_columns": null,
            "grid_template_rows": null,
            "height": null,
            "justify_content": null,
            "justify_items": null,
            "left": null,
            "margin": null,
            "max_height": null,
            "max_width": null,
            "min_height": null,
            "min_width": null,
            "object_fit": null,
            "object_position": null,
            "order": null,
            "overflow": null,
            "overflow_x": null,
            "overflow_y": null,
            "padding": null,
            "right": null,
            "top": null,
            "visibility": null,
            "width": null
          }
        },
        "62adad745f9b4e5ca15d93f65bfc0cbe": {
          "model_module": "@jupyter-widgets/controls",
          "model_name": "ProgressStyleModel",
          "model_module_version": "1.5.0",
          "state": {
            "_model_module": "@jupyter-widgets/controls",
            "_model_module_version": "1.5.0",
            "_model_name": "ProgressStyleModel",
            "_view_count": null,
            "_view_module": "@jupyter-widgets/base",
            "_view_module_version": "1.2.0",
            "_view_name": "StyleView",
            "bar_color": null,
            "description_width": ""
          }
        },
        "4e97f9be8b8d4696944ba993806f06ee": {
          "model_module": "@jupyter-widgets/base",
          "model_name": "LayoutModel",
          "model_module_version": "1.2.0",
          "state": {
            "_model_module": "@jupyter-widgets/base",
            "_model_module_version": "1.2.0",
            "_model_name": "LayoutModel",
            "_view_count": null,
            "_view_module": "@jupyter-widgets/base",
            "_view_module_version": "1.2.0",
            "_view_name": "LayoutView",
            "align_content": null,
            "align_items": null,
            "align_self": null,
            "border": null,
            "bottom": null,
            "display": null,
            "flex": null,
            "flex_flow": null,
            "grid_area": null,
            "grid_auto_columns": null,
            "grid_auto_flow": null,
            "grid_auto_rows": null,
            "grid_column": null,
            "grid_gap": null,
            "grid_row": null,
            "grid_template_areas": null,
            "grid_template_columns": null,
            "grid_template_rows": null,
            "height": null,
            "justify_content": null,
            "justify_items": null,
            "left": null,
            "margin": null,
            "max_height": null,
            "max_width": null,
            "min_height": null,
            "min_width": null,
            "object_fit": null,
            "object_position": null,
            "order": null,
            "overflow": null,
            "overflow_x": null,
            "overflow_y": null,
            "padding": null,
            "right": null,
            "top": null,
            "visibility": null,
            "width": null
          }
        },
        "815ad066cff742d086cfc644a6d96e4f": {
          "model_module": "@jupyter-widgets/controls",
          "model_name": "DescriptionStyleModel",
          "model_module_version": "1.5.0",
          "state": {
            "_model_module": "@jupyter-widgets/controls",
            "_model_module_version": "1.5.0",
            "_model_name": "DescriptionStyleModel",
            "_view_count": null,
            "_view_module": "@jupyter-widgets/base",
            "_view_module_version": "1.2.0",
            "_view_name": "StyleView",
            "description_width": ""
          }
        },
        "cc0a7b3983e34380b664a5c60e61a5e4": {
          "model_module": "@jupyter-widgets/controls",
          "model_name": "HBoxModel",
          "model_module_version": "1.5.0",
          "state": {
            "_dom_classes": [],
            "_model_module": "@jupyter-widgets/controls",
            "_model_module_version": "1.5.0",
            "_model_name": "HBoxModel",
            "_view_count": null,
            "_view_module": "@jupyter-widgets/controls",
            "_view_module_version": "1.5.0",
            "_view_name": "HBoxView",
            "box_style": "",
            "children": [
              "IPY_MODEL_91c4f0b31ae84e8c9e68e8c4cf16f911",
              "IPY_MODEL_0e35b93dd5764c68aec2244c5b368f96",
              "IPY_MODEL_d4b3a01c6c8a4b33a8e4e82b24c9f3fe"
            ],
            "layout": "IPY_MODEL_420ec988a2bb4ee59e546794731624af"
          }
        },
        "91c4f0b31ae84e8c9e68e8c4cf16f911": {
          "model_module": "@jupyter-widgets/controls",
          "model_name": "HTMLModel",
          "model_module_version": "1.5.0",
          "state": {
            "_dom_classes": [],
            "_model_module": "@jupyter-widgets/controls",
            "_model_module_version": "1.5.0",
            "_model_name": "HTMLModel",
            "_view_count": null,
            "_view_module": "@jupyter-widgets/controls",
            "_view_module_version": "1.5.0",
            "_view_name": "HTMLView",
            "description": "",
            "description_tooltip": null,
            "layout": "IPY_MODEL_ecd69692495d42e7ba260ac623b0bab8",
            "placeholder": "​",
            "style": "IPY_MODEL_e2f8a540bc624acaa00aeb12a8de0d30",
            "value": "spm.model: 100%"
          }
        },
        "0e35b93dd5764c68aec2244c5b368f96": {
          "model_module": "@jupyter-widgets/controls",
          "model_name": "FloatProgressModel",
          "model_module_version": "1.5.0",
          "state": {
            "_dom_classes": [],
            "_model_module": "@jupyter-widgets/controls",
            "_model_module_version": "1.5.0",
            "_model_name": "FloatProgressModel",
            "_view_count": null,
            "_view_module": "@jupyter-widgets/controls",
            "_view_module_version": "1.5.0",
            "_view_name": "ProgressView",
            "bar_style": "success",
            "description": "",
            "description_tooltip": null,
            "layout": "IPY_MODEL_a485690f69f94a338aa1cc56c93aaaf2",
            "max": 2464616,
            "min": 0,
            "orientation": "horizontal",
            "style": "IPY_MODEL_569ac5d8dc6b4445a1ccc7e3622db92d",
            "value": 2464616
          }
        },
        "d4b3a01c6c8a4b33a8e4e82b24c9f3fe": {
          "model_module": "@jupyter-widgets/controls",
          "model_name": "HTMLModel",
          "model_module_version": "1.5.0",
          "state": {
            "_dom_classes": [],
            "_model_module": "@jupyter-widgets/controls",
            "_model_module_version": "1.5.0",
            "_model_name": "HTMLModel",
            "_view_count": null,
            "_view_module": "@jupyter-widgets/controls",
            "_view_module_version": "1.5.0",
            "_view_name": "HTMLView",
            "description": "",
            "description_tooltip": null,
            "layout": "IPY_MODEL_a3acfe8f0c5340e586166c7fb47f9bb2",
            "placeholder": "​",
            "style": "IPY_MODEL_61811208bc5746dc93d91119f5f0943b",
            "value": " 2.46M/2.46M [00:00&lt;00:00, 9.71MB/s]"
          }
        },
        "420ec988a2bb4ee59e546794731624af": {
          "model_module": "@jupyter-widgets/base",
          "model_name": "LayoutModel",
          "model_module_version": "1.2.0",
          "state": {
            "_model_module": "@jupyter-widgets/base",
            "_model_module_version": "1.2.0",
            "_model_name": "LayoutModel",
            "_view_count": null,
            "_view_module": "@jupyter-widgets/base",
            "_view_module_version": "1.2.0",
            "_view_name": "LayoutView",
            "align_content": null,
            "align_items": null,
            "align_self": null,
            "border": null,
            "bottom": null,
            "display": null,
            "flex": null,
            "flex_flow": null,
            "grid_area": null,
            "grid_auto_columns": null,
            "grid_auto_flow": null,
            "grid_auto_rows": null,
            "grid_column": null,
            "grid_gap": null,
            "grid_row": null,
            "grid_template_areas": null,
            "grid_template_columns": null,
            "grid_template_rows": null,
            "height": null,
            "justify_content": null,
            "justify_items": null,
            "left": null,
            "margin": null,
            "max_height": null,
            "max_width": null,
            "min_height": null,
            "min_width": null,
            "object_fit": null,
            "object_position": null,
            "order": null,
            "overflow": null,
            "overflow_x": null,
            "overflow_y": null,
            "padding": null,
            "right": null,
            "top": null,
            "visibility": null,
            "width": null
          }
        },
        "ecd69692495d42e7ba260ac623b0bab8": {
          "model_module": "@jupyter-widgets/base",
          "model_name": "LayoutModel",
          "model_module_version": "1.2.0",
          "state": {
            "_model_module": "@jupyter-widgets/base",
            "_model_module_version": "1.2.0",
            "_model_name": "LayoutModel",
            "_view_count": null,
            "_view_module": "@jupyter-widgets/base",
            "_view_module_version": "1.2.0",
            "_view_name": "LayoutView",
            "align_content": null,
            "align_items": null,
            "align_self": null,
            "border": null,
            "bottom": null,
            "display": null,
            "flex": null,
            "flex_flow": null,
            "grid_area": null,
            "grid_auto_columns": null,
            "grid_auto_flow": null,
            "grid_auto_rows": null,
            "grid_column": null,
            "grid_gap": null,
            "grid_row": null,
            "grid_template_areas": null,
            "grid_template_columns": null,
            "grid_template_rows": null,
            "height": null,
            "justify_content": null,
            "justify_items": null,
            "left": null,
            "margin": null,
            "max_height": null,
            "max_width": null,
            "min_height": null,
            "min_width": null,
            "object_fit": null,
            "object_position": null,
            "order": null,
            "overflow": null,
            "overflow_x": null,
            "overflow_y": null,
            "padding": null,
            "right": null,
            "top": null,
            "visibility": null,
            "width": null
          }
        },
        "e2f8a540bc624acaa00aeb12a8de0d30": {
          "model_module": "@jupyter-widgets/controls",
          "model_name": "DescriptionStyleModel",
          "model_module_version": "1.5.0",
          "state": {
            "_model_module": "@jupyter-widgets/controls",
            "_model_module_version": "1.5.0",
            "_model_name": "DescriptionStyleModel",
            "_view_count": null,
            "_view_module": "@jupyter-widgets/base",
            "_view_module_version": "1.2.0",
            "_view_name": "StyleView",
            "description_width": ""
          }
        },
        "a485690f69f94a338aa1cc56c93aaaf2": {
          "model_module": "@jupyter-widgets/base",
          "model_name": "LayoutModel",
          "model_module_version": "1.2.0",
          "state": {
            "_model_module": "@jupyter-widgets/base",
            "_model_module_version": "1.2.0",
            "_model_name": "LayoutModel",
            "_view_count": null,
            "_view_module": "@jupyter-widgets/base",
            "_view_module_version": "1.2.0",
            "_view_name": "LayoutView",
            "align_content": null,
            "align_items": null,
            "align_self": null,
            "border": null,
            "bottom": null,
            "display": null,
            "flex": null,
            "flex_flow": null,
            "grid_area": null,
            "grid_auto_columns": null,
            "grid_auto_flow": null,
            "grid_auto_rows": null,
            "grid_column": null,
            "grid_gap": null,
            "grid_row": null,
            "grid_template_areas": null,
            "grid_template_columns": null,
            "grid_template_rows": null,
            "height": null,
            "justify_content": null,
            "justify_items": null,
            "left": null,
            "margin": null,
            "max_height": null,
            "max_width": null,
            "min_height": null,
            "min_width": null,
            "object_fit": null,
            "object_position": null,
            "order": null,
            "overflow": null,
            "overflow_x": null,
            "overflow_y": null,
            "padding": null,
            "right": null,
            "top": null,
            "visibility": null,
            "width": null
          }
        },
        "569ac5d8dc6b4445a1ccc7e3622db92d": {
          "model_module": "@jupyter-widgets/controls",
          "model_name": "ProgressStyleModel",
          "model_module_version": "1.5.0",
          "state": {
            "_model_module": "@jupyter-widgets/controls",
            "_model_module_version": "1.5.0",
            "_model_name": "ProgressStyleModel",
            "_view_count": null,
            "_view_module": "@jupyter-widgets/base",
            "_view_module_version": "1.2.0",
            "_view_name": "StyleView",
            "bar_color": null,
            "description_width": ""
          }
        },
        "a3acfe8f0c5340e586166c7fb47f9bb2": {
          "model_module": "@jupyter-widgets/base",
          "model_name": "LayoutModel",
          "model_module_version": "1.2.0",
          "state": {
            "_model_module": "@jupyter-widgets/base",
            "_model_module_version": "1.2.0",
            "_model_name": "LayoutModel",
            "_view_count": null,
            "_view_module": "@jupyter-widgets/base",
            "_view_module_version": "1.2.0",
            "_view_name": "LayoutView",
            "align_content": null,
            "align_items": null,
            "align_self": null,
            "border": null,
            "bottom": null,
            "display": null,
            "flex": null,
            "flex_flow": null,
            "grid_area": null,
            "grid_auto_columns": null,
            "grid_auto_flow": null,
            "grid_auto_rows": null,
            "grid_column": null,
            "grid_gap": null,
            "grid_row": null,
            "grid_template_areas": null,
            "grid_template_columns": null,
            "grid_template_rows": null,
            "height": null,
            "justify_content": null,
            "justify_items": null,
            "left": null,
            "margin": null,
            "max_height": null,
            "max_width": null,
            "min_height": null,
            "min_width": null,
            "object_fit": null,
            "object_position": null,
            "order": null,
            "overflow": null,
            "overflow_x": null,
            "overflow_y": null,
            "padding": null,
            "right": null,
            "top": null,
            "visibility": null,
            "width": null
          }
        },
        "61811208bc5746dc93d91119f5f0943b": {
          "model_module": "@jupyter-widgets/controls",
          "model_name": "DescriptionStyleModel",
          "model_module_version": "1.5.0",
          "state": {
            "_model_module": "@jupyter-widgets/controls",
            "_model_module_version": "1.5.0",
            "_model_name": "DescriptionStyleModel",
            "_view_count": null,
            "_view_module": "@jupyter-widgets/base",
            "_view_module_version": "1.2.0",
            "_view_name": "StyleView",
            "description_width": ""
          }
        },
        "4bc63135425c4257b26b55a56b17e474": {
          "model_module": "@jupyter-widgets/controls",
          "model_name": "HBoxModel",
          "model_module_version": "1.5.0",
          "state": {
            "_dom_classes": [],
            "_model_module": "@jupyter-widgets/controls",
            "_model_module_version": "1.5.0",
            "_model_name": "HBoxModel",
            "_view_count": null,
            "_view_module": "@jupyter-widgets/controls",
            "_view_module_version": "1.5.0",
            "_view_name": "HBoxView",
            "box_style": "",
            "children": [
              "IPY_MODEL_6a3bfbdd371a47f484d511a728ba73bd",
              "IPY_MODEL_94bc577478ca4d218547dd050916d079",
              "IPY_MODEL_c0d4b6760c574e7f9df88bbbd80d1cdb"
            ],
            "layout": "IPY_MODEL_e52188a95d0a46af8c939713d28c4b07"
          }
        },
        "6a3bfbdd371a47f484d511a728ba73bd": {
          "model_module": "@jupyter-widgets/controls",
          "model_name": "HTMLModel",
          "model_module_version": "1.5.0",
          "state": {
            "_dom_classes": [],
            "_model_module": "@jupyter-widgets/controls",
            "_model_module_version": "1.5.0",
            "_model_name": "HTMLModel",
            "_view_count": null,
            "_view_module": "@jupyter-widgets/controls",
            "_view_module_version": "1.5.0",
            "_view_name": "HTMLView",
            "description": "",
            "description_tooltip": null,
            "layout": "IPY_MODEL_df46d3ab89b14d849d079b73ecb92bed",
            "placeholder": "​",
            "style": "IPY_MODEL_45b132e4c5aa4b72b1cf958cf09b25d0",
            "value": "tokenizer.json: 100%"
          }
        },
        "94bc577478ca4d218547dd050916d079": {
          "model_module": "@jupyter-widgets/controls",
          "model_name": "FloatProgressModel",
          "model_module_version": "1.5.0",
          "state": {
            "_dom_classes": [],
            "_model_module": "@jupyter-widgets/controls",
            "_model_module_version": "1.5.0",
            "_model_name": "FloatProgressModel",
            "_view_count": null,
            "_view_module": "@jupyter-widgets/controls",
            "_view_module_version": "1.5.0",
            "_view_name": "ProgressView",
            "bar_style": "success",
            "description": "",
            "description_tooltip": null,
            "layout": "IPY_MODEL_3335337daf494bb48aa6e751bd69a5d3",
            "max": 8656646,
            "min": 0,
            "orientation": "horizontal",
            "style": "IPY_MODEL_9e7f0ef8939b41569f127f17c8fcb0fd",
            "value": 8656646
          }
        },
        "c0d4b6760c574e7f9df88bbbd80d1cdb": {
          "model_module": "@jupyter-widgets/controls",
          "model_name": "HTMLModel",
          "model_module_version": "1.5.0",
          "state": {
            "_dom_classes": [],
            "_model_module": "@jupyter-widgets/controls",
            "_model_module_version": "1.5.0",
            "_model_name": "HTMLModel",
            "_view_count": null,
            "_view_module": "@jupyter-widgets/controls",
            "_view_module_version": "1.5.0",
            "_view_name": "HTMLView",
            "description": "",
            "description_tooltip": null,
            "layout": "IPY_MODEL_edf36eb4bb8943b3a12f74d2f3a9e79c",
            "placeholder": "​",
            "style": "IPY_MODEL_ad4d71cc5d6a4d878066e19070f945cd",
            "value": " 8.66M/8.66M [00:00&lt;00:00, 37.6MB/s]"
          }
        },
        "e52188a95d0a46af8c939713d28c4b07": {
          "model_module": "@jupyter-widgets/base",
          "model_name": "LayoutModel",
          "model_module_version": "1.2.0",
          "state": {
            "_model_module": "@jupyter-widgets/base",
            "_model_module_version": "1.2.0",
            "_model_name": "LayoutModel",
            "_view_count": null,
            "_view_module": "@jupyter-widgets/base",
            "_view_module_version": "1.2.0",
            "_view_name": "LayoutView",
            "align_content": null,
            "align_items": null,
            "align_self": null,
            "border": null,
            "bottom": null,
            "display": null,
            "flex": null,
            "flex_flow": null,
            "grid_area": null,
            "grid_auto_columns": null,
            "grid_auto_flow": null,
            "grid_auto_rows": null,
            "grid_column": null,
            "grid_gap": null,
            "grid_row": null,
            "grid_template_areas": null,
            "grid_template_columns": null,
            "grid_template_rows": null,
            "height": null,
            "justify_content": null,
            "justify_items": null,
            "left": null,
            "margin": null,
            "max_height": null,
            "max_width": null,
            "min_height": null,
            "min_width": null,
            "object_fit": null,
            "object_position": null,
            "order": null,
            "overflow": null,
            "overflow_x": null,
            "overflow_y": null,
            "padding": null,
            "right": null,
            "top": null,
            "visibility": null,
            "width": null
          }
        },
        "df46d3ab89b14d849d079b73ecb92bed": {
          "model_module": "@jupyter-widgets/base",
          "model_name": "LayoutModel",
          "model_module_version": "1.2.0",
          "state": {
            "_model_module": "@jupyter-widgets/base",
            "_model_module_version": "1.2.0",
            "_model_name": "LayoutModel",
            "_view_count": null,
            "_view_module": "@jupyter-widgets/base",
            "_view_module_version": "1.2.0",
            "_view_name": "LayoutView",
            "align_content": null,
            "align_items": null,
            "align_self": null,
            "border": null,
            "bottom": null,
            "display": null,
            "flex": null,
            "flex_flow": null,
            "grid_area": null,
            "grid_auto_columns": null,
            "grid_auto_flow": null,
            "grid_auto_rows": null,
            "grid_column": null,
            "grid_gap": null,
            "grid_row": null,
            "grid_template_areas": null,
            "grid_template_columns": null,
            "grid_template_rows": null,
            "height": null,
            "justify_content": null,
            "justify_items": null,
            "left": null,
            "margin": null,
            "max_height": null,
            "max_width": null,
            "min_height": null,
            "min_width": null,
            "object_fit": null,
            "object_position": null,
            "order": null,
            "overflow": null,
            "overflow_x": null,
            "overflow_y": null,
            "padding": null,
            "right": null,
            "top": null,
            "visibility": null,
            "width": null
          }
        },
        "45b132e4c5aa4b72b1cf958cf09b25d0": {
          "model_module": "@jupyter-widgets/controls",
          "model_name": "DescriptionStyleModel",
          "model_module_version": "1.5.0",
          "state": {
            "_model_module": "@jupyter-widgets/controls",
            "_model_module_version": "1.5.0",
            "_model_name": "DescriptionStyleModel",
            "_view_count": null,
            "_view_module": "@jupyter-widgets/base",
            "_view_module_version": "1.2.0",
            "_view_name": "StyleView",
            "description_width": ""
          }
        },
        "3335337daf494bb48aa6e751bd69a5d3": {
          "model_module": "@jupyter-widgets/base",
          "model_name": "LayoutModel",
          "model_module_version": "1.2.0",
          "state": {
            "_model_module": "@jupyter-widgets/base",
            "_model_module_version": "1.2.0",
            "_model_name": "LayoutModel",
            "_view_count": null,
            "_view_module": "@jupyter-widgets/base",
            "_view_module_version": "1.2.0",
            "_view_name": "LayoutView",
            "align_content": null,
            "align_items": null,
            "align_self": null,
            "border": null,
            "bottom": null,
            "display": null,
            "flex": null,
            "flex_flow": null,
            "grid_area": null,
            "grid_auto_columns": null,
            "grid_auto_flow": null,
            "grid_auto_rows": null,
            "grid_column": null,
            "grid_gap": null,
            "grid_row": null,
            "grid_template_areas": null,
            "grid_template_columns": null,
            "grid_template_rows": null,
            "height": null,
            "justify_content": null,
            "justify_items": null,
            "left": null,
            "margin": null,
            "max_height": null,
            "max_width": null,
            "min_height": null,
            "min_width": null,
            "object_fit": null,
            "object_position": null,
            "order": null,
            "overflow": null,
            "overflow_x": null,
            "overflow_y": null,
            "padding": null,
            "right": null,
            "top": null,
            "visibility": null,
            "width": null
          }
        },
        "9e7f0ef8939b41569f127f17c8fcb0fd": {
          "model_module": "@jupyter-widgets/controls",
          "model_name": "ProgressStyleModel",
          "model_module_version": "1.5.0",
          "state": {
            "_model_module": "@jupyter-widgets/controls",
            "_model_module_version": "1.5.0",
            "_model_name": "ProgressStyleModel",
            "_view_count": null,
            "_view_module": "@jupyter-widgets/base",
            "_view_module_version": "1.2.0",
            "_view_name": "StyleView",
            "bar_color": null,
            "description_width": ""
          }
        },
        "edf36eb4bb8943b3a12f74d2f3a9e79c": {
          "model_module": "@jupyter-widgets/base",
          "model_name": "LayoutModel",
          "model_module_version": "1.2.0",
          "state": {
            "_model_module": "@jupyter-widgets/base",
            "_model_module_version": "1.2.0",
            "_model_name": "LayoutModel",
            "_view_count": null,
            "_view_module": "@jupyter-widgets/base",
            "_view_module_version": "1.2.0",
            "_view_name": "LayoutView",
            "align_content": null,
            "align_items": null,
            "align_self": null,
            "border": null,
            "bottom": null,
            "display": null,
            "flex": null,
            "flex_flow": null,
            "grid_area": null,
            "grid_auto_columns": null,
            "grid_auto_flow": null,
            "grid_auto_rows": null,
            "grid_column": null,
            "grid_gap": null,
            "grid_row": null,
            "grid_template_areas": null,
            "grid_template_columns": null,
            "grid_template_rows": null,
            "height": null,
            "justify_content": null,
            "justify_items": null,
            "left": null,
            "margin": null,
            "max_height": null,
            "max_width": null,
            "min_height": null,
            "min_width": null,
            "object_fit": null,
            "object_position": null,
            "order": null,
            "overflow": null,
            "overflow_x": null,
            "overflow_y": null,
            "padding": null,
            "right": null,
            "top": null,
            "visibility": null,
            "width": null
          }
        },
        "ad4d71cc5d6a4d878066e19070f945cd": {
          "model_module": "@jupyter-widgets/controls",
          "model_name": "DescriptionStyleModel",
          "model_module_version": "1.5.0",
          "state": {
            "_model_module": "@jupyter-widgets/controls",
            "_model_module_version": "1.5.0",
            "_model_name": "DescriptionStyleModel",
            "_view_count": null,
            "_view_module": "@jupyter-widgets/base",
            "_view_module_version": "1.2.0",
            "_view_name": "StyleView",
            "description_width": ""
          }
        },
        "4d156c0b03f746409dc3eb7730725b6f": {
          "model_module": "@jupyter-widgets/controls",
          "model_name": "HBoxModel",
          "model_module_version": "1.5.0",
          "state": {
            "_dom_classes": [],
            "_model_module": "@jupyter-widgets/controls",
            "_model_module_version": "1.5.0",
            "_model_name": "HBoxModel",
            "_view_count": null,
            "_view_module": "@jupyter-widgets/controls",
            "_view_module_version": "1.5.0",
            "_view_name": "HBoxView",
            "box_style": "",
            "children": [
              "IPY_MODEL_07004135a7854aeb8324c42d2ab9d534",
              "IPY_MODEL_3d136e9f3ace423f8224467e082fcadc",
              "IPY_MODEL_98c16528e0fd45199eabb2c35312e223"
            ],
            "layout": "IPY_MODEL_ac9322f929194d62bc20dc1c6b445b57"
          }
        },
        "07004135a7854aeb8324c42d2ab9d534": {
          "model_module": "@jupyter-widgets/controls",
          "model_name": "HTMLModel",
          "model_module_version": "1.5.0",
          "state": {
            "_dom_classes": [],
            "_model_module": "@jupyter-widgets/controls",
            "_model_module_version": "1.5.0",
            "_model_name": "HTMLModel",
            "_view_count": null,
            "_view_module": "@jupyter-widgets/controls",
            "_view_module_version": "1.5.0",
            "_view_name": "HTMLView",
            "description": "",
            "description_tooltip": null,
            "layout": "IPY_MODEL_d79a6f63ea6c4c90a1c80c06311a4be6",
            "placeholder": "​",
            "style": "IPY_MODEL_59fc23d8c12e4bc981dfdba58facfb74",
            "value": "added_tokens.json: 100%"
          }
        },
        "3d136e9f3ace423f8224467e082fcadc": {
          "model_module": "@jupyter-widgets/controls",
          "model_name": "FloatProgressModel",
          "model_module_version": "1.5.0",
          "state": {
            "_dom_classes": [],
            "_model_module": "@jupyter-widgets/controls",
            "_model_module_version": "1.5.0",
            "_model_name": "FloatProgressModel",
            "_view_count": null,
            "_view_module": "@jupyter-widgets/controls",
            "_view_module_version": "1.5.0",
            "_view_name": "ProgressView",
            "bar_style": "success",
            "description": "",
            "description_tooltip": null,
            "layout": "IPY_MODEL_04cbeb3dbb24445ab4c3aa6b3e78beb4",
            "max": 23,
            "min": 0,
            "orientation": "horizontal",
            "style": "IPY_MODEL_285025f107a643ab9ae505bb003d3b33",
            "value": 23
          }
        },
        "98c16528e0fd45199eabb2c35312e223": {
          "model_module": "@jupyter-widgets/controls",
          "model_name": "HTMLModel",
          "model_module_version": "1.5.0",
          "state": {
            "_dom_classes": [],
            "_model_module": "@jupyter-widgets/controls",
            "_model_module_version": "1.5.0",
            "_model_name": "HTMLModel",
            "_view_count": null,
            "_view_module": "@jupyter-widgets/controls",
            "_view_module_version": "1.5.0",
            "_view_name": "HTMLView",
            "description": "",
            "description_tooltip": null,
            "layout": "IPY_MODEL_a3b9fd88789d447890e98dd0e5ecf312",
            "placeholder": "​",
            "style": "IPY_MODEL_88c6e36453d345b6b95b6948acb1bc97",
            "value": " 23.0/23.0 [00:00&lt;00:00, 416B/s]"
          }
        },
        "ac9322f929194d62bc20dc1c6b445b57": {
          "model_module": "@jupyter-widgets/base",
          "model_name": "LayoutModel",
          "model_module_version": "1.2.0",
          "state": {
            "_model_module": "@jupyter-widgets/base",
            "_model_module_version": "1.2.0",
            "_model_name": "LayoutModel",
            "_view_count": null,
            "_view_module": "@jupyter-widgets/base",
            "_view_module_version": "1.2.0",
            "_view_name": "LayoutView",
            "align_content": null,
            "align_items": null,
            "align_self": null,
            "border": null,
            "bottom": null,
            "display": null,
            "flex": null,
            "flex_flow": null,
            "grid_area": null,
            "grid_auto_columns": null,
            "grid_auto_flow": null,
            "grid_auto_rows": null,
            "grid_column": null,
            "grid_gap": null,
            "grid_row": null,
            "grid_template_areas": null,
            "grid_template_columns": null,
            "grid_template_rows": null,
            "height": null,
            "justify_content": null,
            "justify_items": null,
            "left": null,
            "margin": null,
            "max_height": null,
            "max_width": null,
            "min_height": null,
            "min_width": null,
            "object_fit": null,
            "object_position": null,
            "order": null,
            "overflow": null,
            "overflow_x": null,
            "overflow_y": null,
            "padding": null,
            "right": null,
            "top": null,
            "visibility": null,
            "width": null
          }
        },
        "d79a6f63ea6c4c90a1c80c06311a4be6": {
          "model_module": "@jupyter-widgets/base",
          "model_name": "LayoutModel",
          "model_module_version": "1.2.0",
          "state": {
            "_model_module": "@jupyter-widgets/base",
            "_model_module_version": "1.2.0",
            "_model_name": "LayoutModel",
            "_view_count": null,
            "_view_module": "@jupyter-widgets/base",
            "_view_module_version": "1.2.0",
            "_view_name": "LayoutView",
            "align_content": null,
            "align_items": null,
            "align_self": null,
            "border": null,
            "bottom": null,
            "display": null,
            "flex": null,
            "flex_flow": null,
            "grid_area": null,
            "grid_auto_columns": null,
            "grid_auto_flow": null,
            "grid_auto_rows": null,
            "grid_column": null,
            "grid_gap": null,
            "grid_row": null,
            "grid_template_areas": null,
            "grid_template_columns": null,
            "grid_template_rows": null,
            "height": null,
            "justify_content": null,
            "justify_items": null,
            "left": null,
            "margin": null,
            "max_height": null,
            "max_width": null,
            "min_height": null,
            "min_width": null,
            "object_fit": null,
            "object_position": null,
            "order": null,
            "overflow": null,
            "overflow_x": null,
            "overflow_y": null,
            "padding": null,
            "right": null,
            "top": null,
            "visibility": null,
            "width": null
          }
        },
        "59fc23d8c12e4bc981dfdba58facfb74": {
          "model_module": "@jupyter-widgets/controls",
          "model_name": "DescriptionStyleModel",
          "model_module_version": "1.5.0",
          "state": {
            "_model_module": "@jupyter-widgets/controls",
            "_model_module_version": "1.5.0",
            "_model_name": "DescriptionStyleModel",
            "_view_count": null,
            "_view_module": "@jupyter-widgets/base",
            "_view_module_version": "1.2.0",
            "_view_name": "StyleView",
            "description_width": ""
          }
        },
        "04cbeb3dbb24445ab4c3aa6b3e78beb4": {
          "model_module": "@jupyter-widgets/base",
          "model_name": "LayoutModel",
          "model_module_version": "1.2.0",
          "state": {
            "_model_module": "@jupyter-widgets/base",
            "_model_module_version": "1.2.0",
            "_model_name": "LayoutModel",
            "_view_count": null,
            "_view_module": "@jupyter-widgets/base",
            "_view_module_version": "1.2.0",
            "_view_name": "LayoutView",
            "align_content": null,
            "align_items": null,
            "align_self": null,
            "border": null,
            "bottom": null,
            "display": null,
            "flex": null,
            "flex_flow": null,
            "grid_area": null,
            "grid_auto_columns": null,
            "grid_auto_flow": null,
            "grid_auto_rows": null,
            "grid_column": null,
            "grid_gap": null,
            "grid_row": null,
            "grid_template_areas": null,
            "grid_template_columns": null,
            "grid_template_rows": null,
            "height": null,
            "justify_content": null,
            "justify_items": null,
            "left": null,
            "margin": null,
            "max_height": null,
            "max_width": null,
            "min_height": null,
            "min_width": null,
            "object_fit": null,
            "object_position": null,
            "order": null,
            "overflow": null,
            "overflow_x": null,
            "overflow_y": null,
            "padding": null,
            "right": null,
            "top": null,
            "visibility": null,
            "width": null
          }
        },
        "285025f107a643ab9ae505bb003d3b33": {
          "model_module": "@jupyter-widgets/controls",
          "model_name": "ProgressStyleModel",
          "model_module_version": "1.5.0",
          "state": {
            "_model_module": "@jupyter-widgets/controls",
            "_model_module_version": "1.5.0",
            "_model_name": "ProgressStyleModel",
            "_view_count": null,
            "_view_module": "@jupyter-widgets/base",
            "_view_module_version": "1.2.0",
            "_view_name": "StyleView",
            "bar_color": null,
            "description_width": ""
          }
        },
        "a3b9fd88789d447890e98dd0e5ecf312": {
          "model_module": "@jupyter-widgets/base",
          "model_name": "LayoutModel",
          "model_module_version": "1.2.0",
          "state": {
            "_model_module": "@jupyter-widgets/base",
            "_model_module_version": "1.2.0",
            "_model_name": "LayoutModel",
            "_view_count": null,
            "_view_module": "@jupyter-widgets/base",
            "_view_module_version": "1.2.0",
            "_view_name": "LayoutView",
            "align_content": null,
            "align_items": null,
            "align_self": null,
            "border": null,
            "bottom": null,
            "display": null,
            "flex": null,
            "flex_flow": null,
            "grid_area": null,
            "grid_auto_columns": null,
            "grid_auto_flow": null,
            "grid_auto_rows": null,
            "grid_column": null,
            "grid_gap": null,
            "grid_row": null,
            "grid_template_areas": null,
            "grid_template_columns": null,
            "grid_template_rows": null,
            "height": null,
            "justify_content": null,
            "justify_items": null,
            "left": null,
            "margin": null,
            "max_height": null,
            "max_width": null,
            "min_height": null,
            "min_width": null,
            "object_fit": null,
            "object_position": null,
            "order": null,
            "overflow": null,
            "overflow_x": null,
            "overflow_y": null,
            "padding": null,
            "right": null,
            "top": null,
            "visibility": null,
            "width": null
          }
        },
        "88c6e36453d345b6b95b6948acb1bc97": {
          "model_module": "@jupyter-widgets/controls",
          "model_name": "DescriptionStyleModel",
          "model_module_version": "1.5.0",
          "state": {
            "_model_module": "@jupyter-widgets/controls",
            "_model_module_version": "1.5.0",
            "_model_name": "DescriptionStyleModel",
            "_view_count": null,
            "_view_module": "@jupyter-widgets/base",
            "_view_module_version": "1.2.0",
            "_view_name": "StyleView",
            "description_width": ""
          }
        },
        "074e3d0447ae4b8f839930a213c242fd": {
          "model_module": "@jupyter-widgets/controls",
          "model_name": "HBoxModel",
          "model_module_version": "1.5.0",
          "state": {
            "_dom_classes": [],
            "_model_module": "@jupyter-widgets/controls",
            "_model_module_version": "1.5.0",
            "_model_name": "HBoxModel",
            "_view_count": null,
            "_view_module": "@jupyter-widgets/controls",
            "_view_module_version": "1.5.0",
            "_view_name": "HBoxView",
            "box_style": "",
            "children": [
              "IPY_MODEL_0b127ab9aa0a484bbd2e7b85e36fe088",
              "IPY_MODEL_9b2971ec78b24d9ca36cc4dd93c1dd13",
              "IPY_MODEL_337c12ae8f734d09a0fda70bf80f23fb"
            ],
            "layout": "IPY_MODEL_b33ccf218f7e48d684dda6f7dd8b9f0b"
          }
        },
        "0b127ab9aa0a484bbd2e7b85e36fe088": {
          "model_module": "@jupyter-widgets/controls",
          "model_name": "HTMLModel",
          "model_module_version": "1.5.0",
          "state": {
            "_dom_classes": [],
            "_model_module": "@jupyter-widgets/controls",
            "_model_module_version": "1.5.0",
            "_model_name": "HTMLModel",
            "_view_count": null,
            "_view_module": "@jupyter-widgets/controls",
            "_view_module_version": "1.5.0",
            "_view_name": "HTMLView",
            "description": "",
            "description_tooltip": null,
            "layout": "IPY_MODEL_0b62f8c361934d1c9bdad5ccf63fe4ba",
            "placeholder": "​",
            "style": "IPY_MODEL_bc932a5ddb414725b7155c571d89736b",
            "value": "special_tokens_map.json: 100%"
          }
        },
        "9b2971ec78b24d9ca36cc4dd93c1dd13": {
          "model_module": "@jupyter-widgets/controls",
          "model_name": "FloatProgressModel",
          "model_module_version": "1.5.0",
          "state": {
            "_dom_classes": [],
            "_model_module": "@jupyter-widgets/controls",
            "_model_module_version": "1.5.0",
            "_model_name": "FloatProgressModel",
            "_view_count": null,
            "_view_module": "@jupyter-widgets/controls",
            "_view_module_version": "1.5.0",
            "_view_name": "ProgressView",
            "bar_style": "success",
            "description": "",
            "description_tooltip": null,
            "layout": "IPY_MODEL_649c11e858c04a1bbc74b7d20ec7c609",
            "max": 970,
            "min": 0,
            "orientation": "horizontal",
            "style": "IPY_MODEL_1cbe88ff404041d6be2d875f7d792f89",
            "value": 970
          }
        },
        "337c12ae8f734d09a0fda70bf80f23fb": {
          "model_module": "@jupyter-widgets/controls",
          "model_name": "HTMLModel",
          "model_module_version": "1.5.0",
          "state": {
            "_dom_classes": [],
            "_model_module": "@jupyter-widgets/controls",
            "_model_module_version": "1.5.0",
            "_model_name": "HTMLModel",
            "_view_count": null,
            "_view_module": "@jupyter-widgets/controls",
            "_view_module_version": "1.5.0",
            "_view_name": "HTMLView",
            "description": "",
            "description_tooltip": null,
            "layout": "IPY_MODEL_107f34fb9084438ebb9265e7ae022bc6",
            "placeholder": "​",
            "style": "IPY_MODEL_15f3e9ab1dfc49628334165f317e1a2a",
            "value": " 970/970 [00:00&lt;00:00, 18.6kB/s]"
          }
        },
        "b33ccf218f7e48d684dda6f7dd8b9f0b": {
          "model_module": "@jupyter-widgets/base",
          "model_name": "LayoutModel",
          "model_module_version": "1.2.0",
          "state": {
            "_model_module": "@jupyter-widgets/base",
            "_model_module_version": "1.2.0",
            "_model_name": "LayoutModel",
            "_view_count": null,
            "_view_module": "@jupyter-widgets/base",
            "_view_module_version": "1.2.0",
            "_view_name": "LayoutView",
            "align_content": null,
            "align_items": null,
            "align_self": null,
            "border": null,
            "bottom": null,
            "display": null,
            "flex": null,
            "flex_flow": null,
            "grid_area": null,
            "grid_auto_columns": null,
            "grid_auto_flow": null,
            "grid_auto_rows": null,
            "grid_column": null,
            "grid_gap": null,
            "grid_row": null,
            "grid_template_areas": null,
            "grid_template_columns": null,
            "grid_template_rows": null,
            "height": null,
            "justify_content": null,
            "justify_items": null,
            "left": null,
            "margin": null,
            "max_height": null,
            "max_width": null,
            "min_height": null,
            "min_width": null,
            "object_fit": null,
            "object_position": null,
            "order": null,
            "overflow": null,
            "overflow_x": null,
            "overflow_y": null,
            "padding": null,
            "right": null,
            "top": null,
            "visibility": null,
            "width": null
          }
        },
        "0b62f8c361934d1c9bdad5ccf63fe4ba": {
          "model_module": "@jupyter-widgets/base",
          "model_name": "LayoutModel",
          "model_module_version": "1.2.0",
          "state": {
            "_model_module": "@jupyter-widgets/base",
            "_model_module_version": "1.2.0",
            "_model_name": "LayoutModel",
            "_view_count": null,
            "_view_module": "@jupyter-widgets/base",
            "_view_module_version": "1.2.0",
            "_view_name": "LayoutView",
            "align_content": null,
            "align_items": null,
            "align_self": null,
            "border": null,
            "bottom": null,
            "display": null,
            "flex": null,
            "flex_flow": null,
            "grid_area": null,
            "grid_auto_columns": null,
            "grid_auto_flow": null,
            "grid_auto_rows": null,
            "grid_column": null,
            "grid_gap": null,
            "grid_row": null,
            "grid_template_areas": null,
            "grid_template_columns": null,
            "grid_template_rows": null,
            "height": null,
            "justify_content": null,
            "justify_items": null,
            "left": null,
            "margin": null,
            "max_height": null,
            "max_width": null,
            "min_height": null,
            "min_width": null,
            "object_fit": null,
            "object_position": null,
            "order": null,
            "overflow": null,
            "overflow_x": null,
            "overflow_y": null,
            "padding": null,
            "right": null,
            "top": null,
            "visibility": null,
            "width": null
          }
        },
        "bc932a5ddb414725b7155c571d89736b": {
          "model_module": "@jupyter-widgets/controls",
          "model_name": "DescriptionStyleModel",
          "model_module_version": "1.5.0",
          "state": {
            "_model_module": "@jupyter-widgets/controls",
            "_model_module_version": "1.5.0",
            "_model_name": "DescriptionStyleModel",
            "_view_count": null,
            "_view_module": "@jupyter-widgets/base",
            "_view_module_version": "1.2.0",
            "_view_name": "StyleView",
            "description_width": ""
          }
        },
        "649c11e858c04a1bbc74b7d20ec7c609": {
          "model_module": "@jupyter-widgets/base",
          "model_name": "LayoutModel",
          "model_module_version": "1.2.0",
          "state": {
            "_model_module": "@jupyter-widgets/base",
            "_model_module_version": "1.2.0",
            "_model_name": "LayoutModel",
            "_view_count": null,
            "_view_module": "@jupyter-widgets/base",
            "_view_module_version": "1.2.0",
            "_view_name": "LayoutView",
            "align_content": null,
            "align_items": null,
            "align_self": null,
            "border": null,
            "bottom": null,
            "display": null,
            "flex": null,
            "flex_flow": null,
            "grid_area": null,
            "grid_auto_columns": null,
            "grid_auto_flow": null,
            "grid_auto_rows": null,
            "grid_column": null,
            "grid_gap": null,
            "grid_row": null,
            "grid_template_areas": null,
            "grid_template_columns": null,
            "grid_template_rows": null,
            "height": null,
            "justify_content": null,
            "justify_items": null,
            "left": null,
            "margin": null,
            "max_height": null,
            "max_width": null,
            "min_height": null,
            "min_width": null,
            "object_fit": null,
            "object_position": null,
            "order": null,
            "overflow": null,
            "overflow_x": null,
            "overflow_y": null,
            "padding": null,
            "right": null,
            "top": null,
            "visibility": null,
            "width": null
          }
        },
        "1cbe88ff404041d6be2d875f7d792f89": {
          "model_module": "@jupyter-widgets/controls",
          "model_name": "ProgressStyleModel",
          "model_module_version": "1.5.0",
          "state": {
            "_model_module": "@jupyter-widgets/controls",
            "_model_module_version": "1.5.0",
            "_model_name": "ProgressStyleModel",
            "_view_count": null,
            "_view_module": "@jupyter-widgets/base",
            "_view_module_version": "1.2.0",
            "_view_name": "StyleView",
            "bar_color": null,
            "description_width": ""
          }
        },
        "107f34fb9084438ebb9265e7ae022bc6": {
          "model_module": "@jupyter-widgets/base",
          "model_name": "LayoutModel",
          "model_module_version": "1.2.0",
          "state": {
            "_model_module": "@jupyter-widgets/base",
            "_model_module_version": "1.2.0",
            "_model_name": "LayoutModel",
            "_view_count": null,
            "_view_module": "@jupyter-widgets/base",
            "_view_module_version": "1.2.0",
            "_view_name": "LayoutView",
            "align_content": null,
            "align_items": null,
            "align_self": null,
            "border": null,
            "bottom": null,
            "display": null,
            "flex": null,
            "flex_flow": null,
            "grid_area": null,
            "grid_auto_columns": null,
            "grid_auto_flow": null,
            "grid_auto_rows": null,
            "grid_column": null,
            "grid_gap": null,
            "grid_row": null,
            "grid_template_areas": null,
            "grid_template_columns": null,
            "grid_template_rows": null,
            "height": null,
            "justify_content": null,
            "justify_items": null,
            "left": null,
            "margin": null,
            "max_height": null,
            "max_width": null,
            "min_height": null,
            "min_width": null,
            "object_fit": null,
            "object_position": null,
            "order": null,
            "overflow": null,
            "overflow_x": null,
            "overflow_y": null,
            "padding": null,
            "right": null,
            "top": null,
            "visibility": null,
            "width": null
          }
        },
        "15f3e9ab1dfc49628334165f317e1a2a": {
          "model_module": "@jupyter-widgets/controls",
          "model_name": "DescriptionStyleModel",
          "model_module_version": "1.5.0",
          "state": {
            "_model_module": "@jupyter-widgets/controls",
            "_model_module_version": "1.5.0",
            "_model_name": "DescriptionStyleModel",
            "_view_count": null,
            "_view_module": "@jupyter-widgets/base",
            "_view_module_version": "1.2.0",
            "_view_name": "StyleView",
            "description_width": ""
          }
        },
        "58af2ca1acc045f89fbb82de8c9a11e0": {
          "model_module": "@jupyter-widgets/controls",
          "model_name": "HBoxModel",
          "model_module_version": "1.5.0",
          "state": {
            "_dom_classes": [],
            "_model_module": "@jupyter-widgets/controls",
            "_model_module_version": "1.5.0",
            "_model_name": "HBoxModel",
            "_view_count": null,
            "_view_module": "@jupyter-widgets/controls",
            "_view_module_version": "1.5.0",
            "_view_name": "HBoxView",
            "box_style": "",
            "children": [
              "IPY_MODEL_26922fd09f464b29aa839f6f384d1ad1",
              "IPY_MODEL_ded4ab5a740d4ed5b4ef348f75aa938b",
              "IPY_MODEL_f3d33188ac15401497e3c6e769b09d6f"
            ],
            "layout": "IPY_MODEL_7860e677a96d4e77a7d867558e3b303f"
          }
        },
        "26922fd09f464b29aa839f6f384d1ad1": {
          "model_module": "@jupyter-widgets/controls",
          "model_name": "HTMLModel",
          "model_module_version": "1.5.0",
          "state": {
            "_dom_classes": [],
            "_model_module": "@jupyter-widgets/controls",
            "_model_module_version": "1.5.0",
            "_model_name": "HTMLModel",
            "_view_count": null,
            "_view_module": "@jupyter-widgets/controls",
            "_view_module_version": "1.5.0",
            "_view_name": "HTMLView",
            "description": "",
            "description_tooltip": null,
            "layout": "IPY_MODEL_9904d073a0ae47f5b4320b2e1817d260",
            "placeholder": "​",
            "style": "IPY_MODEL_09ff3e298cf142afa30c076e845a15f0",
            "value": "config.json: 100%"
          }
        },
        "ded4ab5a740d4ed5b4ef348f75aa938b": {
          "model_module": "@jupyter-widgets/controls",
          "model_name": "FloatProgressModel",
          "model_module_version": "1.5.0",
          "state": {
            "_dom_classes": [],
            "_model_module": "@jupyter-widgets/controls",
            "_model_module_version": "1.5.0",
            "_model_name": "FloatProgressModel",
            "_view_count": null,
            "_view_module": "@jupyter-widgets/controls",
            "_view_module_version": "1.5.0",
            "_view_name": "ProgressView",
            "bar_style": "success",
            "description": "",
            "description_tooltip": null,
            "layout": "IPY_MODEL_bbe673fb1dd443298d295e0ac086748a",
            "max": 69665,
            "min": 0,
            "orientation": "horizontal",
            "style": "IPY_MODEL_ef90e6e6e804410f971ea5177fc30dd7",
            "value": 69665
          }
        },
        "f3d33188ac15401497e3c6e769b09d6f": {
          "model_module": "@jupyter-widgets/controls",
          "model_name": "HTMLModel",
          "model_module_version": "1.5.0",
          "state": {
            "_dom_classes": [],
            "_model_module": "@jupyter-widgets/controls",
            "_model_module_version": "1.5.0",
            "_model_name": "HTMLModel",
            "_view_count": null,
            "_view_module": "@jupyter-widgets/controls",
            "_view_module_version": "1.5.0",
            "_view_name": "HTMLView",
            "description": "",
            "description_tooltip": null,
            "layout": "IPY_MODEL_369226f3f2984817bf4cc475c0555796",
            "placeholder": "​",
            "style": "IPY_MODEL_108c21fde0644893b3390c58de9b4a91",
            "value": " 69.7k/69.7k [00:00&lt;00:00, 1.47MB/s]"
          }
        },
        "7860e677a96d4e77a7d867558e3b303f": {
          "model_module": "@jupyter-widgets/base",
          "model_name": "LayoutModel",
          "model_module_version": "1.2.0",
          "state": {
            "_model_module": "@jupyter-widgets/base",
            "_model_module_version": "1.2.0",
            "_model_name": "LayoutModel",
            "_view_count": null,
            "_view_module": "@jupyter-widgets/base",
            "_view_module_version": "1.2.0",
            "_view_name": "LayoutView",
            "align_content": null,
            "align_items": null,
            "align_self": null,
            "border": null,
            "bottom": null,
            "display": null,
            "flex": null,
            "flex_flow": null,
            "grid_area": null,
            "grid_auto_columns": null,
            "grid_auto_flow": null,
            "grid_auto_rows": null,
            "grid_column": null,
            "grid_gap": null,
            "grid_row": null,
            "grid_template_areas": null,
            "grid_template_columns": null,
            "grid_template_rows": null,
            "height": null,
            "justify_content": null,
            "justify_items": null,
            "left": null,
            "margin": null,
            "max_height": null,
            "max_width": null,
            "min_height": null,
            "min_width": null,
            "object_fit": null,
            "object_position": null,
            "order": null,
            "overflow": null,
            "overflow_x": null,
            "overflow_y": null,
            "padding": null,
            "right": null,
            "top": null,
            "visibility": null,
            "width": null
          }
        },
        "9904d073a0ae47f5b4320b2e1817d260": {
          "model_module": "@jupyter-widgets/base",
          "model_name": "LayoutModel",
          "model_module_version": "1.2.0",
          "state": {
            "_model_module": "@jupyter-widgets/base",
            "_model_module_version": "1.2.0",
            "_model_name": "LayoutModel",
            "_view_count": null,
            "_view_module": "@jupyter-widgets/base",
            "_view_module_version": "1.2.0",
            "_view_name": "LayoutView",
            "align_content": null,
            "align_items": null,
            "align_self": null,
            "border": null,
            "bottom": null,
            "display": null,
            "flex": null,
            "flex_flow": null,
            "grid_area": null,
            "grid_auto_columns": null,
            "grid_auto_flow": null,
            "grid_auto_rows": null,
            "grid_column": null,
            "grid_gap": null,
            "grid_row": null,
            "grid_template_areas": null,
            "grid_template_columns": null,
            "grid_template_rows": null,
            "height": null,
            "justify_content": null,
            "justify_items": null,
            "left": null,
            "margin": null,
            "max_height": null,
            "max_width": null,
            "min_height": null,
            "min_width": null,
            "object_fit": null,
            "object_position": null,
            "order": null,
            "overflow": null,
            "overflow_x": null,
            "overflow_y": null,
            "padding": null,
            "right": null,
            "top": null,
            "visibility": null,
            "width": null
          }
        },
        "09ff3e298cf142afa30c076e845a15f0": {
          "model_module": "@jupyter-widgets/controls",
          "model_name": "DescriptionStyleModel",
          "model_module_version": "1.5.0",
          "state": {
            "_model_module": "@jupyter-widgets/controls",
            "_model_module_version": "1.5.0",
            "_model_name": "DescriptionStyleModel",
            "_view_count": null,
            "_view_module": "@jupyter-widgets/base",
            "_view_module_version": "1.2.0",
            "_view_name": "StyleView",
            "description_width": ""
          }
        },
        "bbe673fb1dd443298d295e0ac086748a": {
          "model_module": "@jupyter-widgets/base",
          "model_name": "LayoutModel",
          "model_module_version": "1.2.0",
          "state": {
            "_model_module": "@jupyter-widgets/base",
            "_model_module_version": "1.2.0",
            "_model_name": "LayoutModel",
            "_view_count": null,
            "_view_module": "@jupyter-widgets/base",
            "_view_module_version": "1.2.0",
            "_view_name": "LayoutView",
            "align_content": null,
            "align_items": null,
            "align_self": null,
            "border": null,
            "bottom": null,
            "display": null,
            "flex": null,
            "flex_flow": null,
            "grid_area": null,
            "grid_auto_columns": null,
            "grid_auto_flow": null,
            "grid_auto_rows": null,
            "grid_column": null,
            "grid_gap": null,
            "grid_row": null,
            "grid_template_areas": null,
            "grid_template_columns": null,
            "grid_template_rows": null,
            "height": null,
            "justify_content": null,
            "justify_items": null,
            "left": null,
            "margin": null,
            "max_height": null,
            "max_width": null,
            "min_height": null,
            "min_width": null,
            "object_fit": null,
            "object_position": null,
            "order": null,
            "overflow": null,
            "overflow_x": null,
            "overflow_y": null,
            "padding": null,
            "right": null,
            "top": null,
            "visibility": null,
            "width": null
          }
        },
        "ef90e6e6e804410f971ea5177fc30dd7": {
          "model_module": "@jupyter-widgets/controls",
          "model_name": "ProgressStyleModel",
          "model_module_version": "1.5.0",
          "state": {
            "_model_module": "@jupyter-widgets/controls",
            "_model_module_version": "1.5.0",
            "_model_name": "ProgressStyleModel",
            "_view_count": null,
            "_view_module": "@jupyter-widgets/base",
            "_view_module_version": "1.2.0",
            "_view_name": "StyleView",
            "bar_color": null,
            "description_width": ""
          }
        },
        "369226f3f2984817bf4cc475c0555796": {
          "model_module": "@jupyter-widgets/base",
          "model_name": "LayoutModel",
          "model_module_version": "1.2.0",
          "state": {
            "_model_module": "@jupyter-widgets/base",
            "_model_module_version": "1.2.0",
            "_model_name": "LayoutModel",
            "_view_count": null,
            "_view_module": "@jupyter-widgets/base",
            "_view_module_version": "1.2.0",
            "_view_name": "LayoutView",
            "align_content": null,
            "align_items": null,
            "align_self": null,
            "border": null,
            "bottom": null,
            "display": null,
            "flex": null,
            "flex_flow": null,
            "grid_area": null,
            "grid_auto_columns": null,
            "grid_auto_flow": null,
            "grid_auto_rows": null,
            "grid_column": null,
            "grid_gap": null,
            "grid_row": null,
            "grid_template_areas": null,
            "grid_template_columns": null,
            "grid_template_rows": null,
            "height": null,
            "justify_content": null,
            "justify_items": null,
            "left": null,
            "margin": null,
            "max_height": null,
            "max_width": null,
            "min_height": null,
            "min_width": null,
            "object_fit": null,
            "object_position": null,
            "order": null,
            "overflow": null,
            "overflow_x": null,
            "overflow_y": null,
            "padding": null,
            "right": null,
            "top": null,
            "visibility": null,
            "width": null
          }
        },
        "108c21fde0644893b3390c58de9b4a91": {
          "model_module": "@jupyter-widgets/controls",
          "model_name": "DescriptionStyleModel",
          "model_module_version": "1.5.0",
          "state": {
            "_model_module": "@jupyter-widgets/controls",
            "_model_module_version": "1.5.0",
            "_model_name": "DescriptionStyleModel",
            "_view_count": null,
            "_view_module": "@jupyter-widgets/base",
            "_view_module_version": "1.2.0",
            "_view_name": "StyleView",
            "description_width": ""
          }
        },
        "0e1f2c99b5ef434ba5a11a94ad8d048e": {
          "model_module": "@jupyter-widgets/controls",
          "model_name": "HBoxModel",
          "model_module_version": "1.5.0",
          "state": {
            "_dom_classes": [],
            "_model_module": "@jupyter-widgets/controls",
            "_model_module_version": "1.5.0",
            "_model_name": "HBoxModel",
            "_view_count": null,
            "_view_module": "@jupyter-widgets/controls",
            "_view_module_version": "1.5.0",
            "_view_name": "HBoxView",
            "box_style": "",
            "children": [
              "IPY_MODEL_17a8ab92459a4a76be5deb192c38d4ce",
              "IPY_MODEL_9b1db66562a944538be798782ffc1c02",
              "IPY_MODEL_b5a3cf28a16342438047f908e2efd7a2"
            ],
            "layout": "IPY_MODEL_898d553eb7ee434da5418f30971a3090"
          }
        },
        "17a8ab92459a4a76be5deb192c38d4ce": {
          "model_module": "@jupyter-widgets/controls",
          "model_name": "HTMLModel",
          "model_module_version": "1.5.0",
          "state": {
            "_dom_classes": [],
            "_model_module": "@jupyter-widgets/controls",
            "_model_module_version": "1.5.0",
            "_model_name": "HTMLModel",
            "_view_count": null,
            "_view_module": "@jupyter-widgets/controls",
            "_view_module_version": "1.5.0",
            "_view_name": "HTMLView",
            "description": "",
            "description_tooltip": null,
            "layout": "IPY_MODEL_a1dc5c1aa6f74a7ca86afd8ba489e4a1",
            "placeholder": "​",
            "style": "IPY_MODEL_a6eccfa802824edf910ab89ee206d014",
            "value": "model.safetensors: 100%"
          }
        },
        "9b1db66562a944538be798782ffc1c02": {
          "model_module": "@jupyter-widgets/controls",
          "model_name": "FloatProgressModel",
          "model_module_version": "1.5.0",
          "state": {
            "_dom_classes": [],
            "_model_module": "@jupyter-widgets/controls",
            "_model_module_version": "1.5.0",
            "_model_name": "FloatProgressModel",
            "_view_count": null,
            "_view_module": "@jupyter-widgets/controls",
            "_view_module_version": "1.5.0",
            "_view_name": "ProgressView",
            "bar_style": "success",
            "description": "",
            "description_tooltip": null,
            "layout": "IPY_MODEL_c02ad80e0bd444c5a98a377ebf09369f",
            "max": 346293852,
            "min": 0,
            "orientation": "horizontal",
            "style": "IPY_MODEL_4d705e387839416ba94e6785584601dc",
            "value": 346293852
          }
        },
        "b5a3cf28a16342438047f908e2efd7a2": {
          "model_module": "@jupyter-widgets/controls",
          "model_name": "HTMLModel",
          "model_module_version": "1.5.0",
          "state": {
            "_dom_classes": [],
            "_model_module": "@jupyter-widgets/controls",
            "_model_module_version": "1.5.0",
            "_model_name": "HTMLModel",
            "_view_count": null,
            "_view_module": "@jupyter-widgets/controls",
            "_view_module_version": "1.5.0",
            "_view_name": "HTMLView",
            "description": "",
            "description_tooltip": null,
            "layout": "IPY_MODEL_2f555e91d8aa430c9dde3d0feebc0755",
            "placeholder": "​",
            "style": "IPY_MODEL_068bb25fa0914f9790e97248a810b0bd",
            "value": " 346M/346M [00:04&lt;00:00, 108MB/s]"
          }
        },
        "898d553eb7ee434da5418f30971a3090": {
          "model_module": "@jupyter-widgets/base",
          "model_name": "LayoutModel",
          "model_module_version": "1.2.0",
          "state": {
            "_model_module": "@jupyter-widgets/base",
            "_model_module_version": "1.2.0",
            "_model_name": "LayoutModel",
            "_view_count": null,
            "_view_module": "@jupyter-widgets/base",
            "_view_module_version": "1.2.0",
            "_view_name": "LayoutView",
            "align_content": null,
            "align_items": null,
            "align_self": null,
            "border": null,
            "bottom": null,
            "display": null,
            "flex": null,
            "flex_flow": null,
            "grid_area": null,
            "grid_auto_columns": null,
            "grid_auto_flow": null,
            "grid_auto_rows": null,
            "grid_column": null,
            "grid_gap": null,
            "grid_row": null,
            "grid_template_areas": null,
            "grid_template_columns": null,
            "grid_template_rows": null,
            "height": null,
            "justify_content": null,
            "justify_items": null,
            "left": null,
            "margin": null,
            "max_height": null,
            "max_width": null,
            "min_height": null,
            "min_width": null,
            "object_fit": null,
            "object_position": null,
            "order": null,
            "overflow": null,
            "overflow_x": null,
            "overflow_y": null,
            "padding": null,
            "right": null,
            "top": null,
            "visibility": null,
            "width": null
          }
        },
        "a1dc5c1aa6f74a7ca86afd8ba489e4a1": {
          "model_module": "@jupyter-widgets/base",
          "model_name": "LayoutModel",
          "model_module_version": "1.2.0",
          "state": {
            "_model_module": "@jupyter-widgets/base",
            "_model_module_version": "1.2.0",
            "_model_name": "LayoutModel",
            "_view_count": null,
            "_view_module": "@jupyter-widgets/base",
            "_view_module_version": "1.2.0",
            "_view_name": "LayoutView",
            "align_content": null,
            "align_items": null,
            "align_self": null,
            "border": null,
            "bottom": null,
            "display": null,
            "flex": null,
            "flex_flow": null,
            "grid_area": null,
            "grid_auto_columns": null,
            "grid_auto_flow": null,
            "grid_auto_rows": null,
            "grid_column": null,
            "grid_gap": null,
            "grid_row": null,
            "grid_template_areas": null,
            "grid_template_columns": null,
            "grid_template_rows": null,
            "height": null,
            "justify_content": null,
            "justify_items": null,
            "left": null,
            "margin": null,
            "max_height": null,
            "max_width": null,
            "min_height": null,
            "min_width": null,
            "object_fit": null,
            "object_position": null,
            "order": null,
            "overflow": null,
            "overflow_x": null,
            "overflow_y": null,
            "padding": null,
            "right": null,
            "top": null,
            "visibility": null,
            "width": null
          }
        },
        "a6eccfa802824edf910ab89ee206d014": {
          "model_module": "@jupyter-widgets/controls",
          "model_name": "DescriptionStyleModel",
          "model_module_version": "1.5.0",
          "state": {
            "_model_module": "@jupyter-widgets/controls",
            "_model_module_version": "1.5.0",
            "_model_name": "DescriptionStyleModel",
            "_view_count": null,
            "_view_module": "@jupyter-widgets/base",
            "_view_module_version": "1.2.0",
            "_view_name": "StyleView",
            "description_width": ""
          }
        },
        "c02ad80e0bd444c5a98a377ebf09369f": {
          "model_module": "@jupyter-widgets/base",
          "model_name": "LayoutModel",
          "model_module_version": "1.2.0",
          "state": {
            "_model_module": "@jupyter-widgets/base",
            "_model_module_version": "1.2.0",
            "_model_name": "LayoutModel",
            "_view_count": null,
            "_view_module": "@jupyter-widgets/base",
            "_view_module_version": "1.2.0",
            "_view_name": "LayoutView",
            "align_content": null,
            "align_items": null,
            "align_self": null,
            "border": null,
            "bottom": null,
            "display": null,
            "flex": null,
            "flex_flow": null,
            "grid_area": null,
            "grid_auto_columns": null,
            "grid_auto_flow": null,
            "grid_auto_rows": null,
            "grid_column": null,
            "grid_gap": null,
            "grid_row": null,
            "grid_template_areas": null,
            "grid_template_columns": null,
            "grid_template_rows": null,
            "height": null,
            "justify_content": null,
            "justify_items": null,
            "left": null,
            "margin": null,
            "max_height": null,
            "max_width": null,
            "min_height": null,
            "min_width": null,
            "object_fit": null,
            "object_position": null,
            "order": null,
            "overflow": null,
            "overflow_x": null,
            "overflow_y": null,
            "padding": null,
            "right": null,
            "top": null,
            "visibility": null,
            "width": null
          }
        },
        "4d705e387839416ba94e6785584601dc": {
          "model_module": "@jupyter-widgets/controls",
          "model_name": "ProgressStyleModel",
          "model_module_version": "1.5.0",
          "state": {
            "_model_module": "@jupyter-widgets/controls",
            "_model_module_version": "1.5.0",
            "_model_name": "ProgressStyleModel",
            "_view_count": null,
            "_view_module": "@jupyter-widgets/base",
            "_view_module_version": "1.2.0",
            "_view_name": "StyleView",
            "bar_color": null,
            "description_width": ""
          }
        },
        "2f555e91d8aa430c9dde3d0feebc0755": {
          "model_module": "@jupyter-widgets/base",
          "model_name": "LayoutModel",
          "model_module_version": "1.2.0",
          "state": {
            "_model_module": "@jupyter-widgets/base",
            "_model_module_version": "1.2.0",
            "_model_name": "LayoutModel",
            "_view_count": null,
            "_view_module": "@jupyter-widgets/base",
            "_view_module_version": "1.2.0",
            "_view_name": "LayoutView",
            "align_content": null,
            "align_items": null,
            "align_self": null,
            "border": null,
            "bottom": null,
            "display": null,
            "flex": null,
            "flex_flow": null,
            "grid_area": null,
            "grid_auto_columns": null,
            "grid_auto_flow": null,
            "grid_auto_rows": null,
            "grid_column": null,
            "grid_gap": null,
            "grid_row": null,
            "grid_template_areas": null,
            "grid_template_columns": null,
            "grid_template_rows": null,
            "height": null,
            "justify_content": null,
            "justify_items": null,
            "left": null,
            "margin": null,
            "max_height": null,
            "max_width": null,
            "min_height": null,
            "min_width": null,
            "object_fit": null,
            "object_position": null,
            "order": null,
            "overflow": null,
            "overflow_x": null,
            "overflow_y": null,
            "padding": null,
            "right": null,
            "top": null,
            "visibility": null,
            "width": null
          }
        },
        "068bb25fa0914f9790e97248a810b0bd": {
          "model_module": "@jupyter-widgets/controls",
          "model_name": "DescriptionStyleModel",
          "model_module_version": "1.5.0",
          "state": {
            "_model_module": "@jupyter-widgets/controls",
            "_model_module_version": "1.5.0",
            "_model_name": "DescriptionStyleModel",
            "_view_count": null,
            "_view_module": "@jupyter-widgets/base",
            "_view_module_version": "1.2.0",
            "_view_name": "StyleView",
            "description_width": ""
          }
        },
        "5925c2c4bf564544bda1f2d01716f945": {
          "model_module": "@jupyter-widgets/controls",
          "model_name": "HBoxModel",
          "model_module_version": "1.5.0",
          "state": {
            "_dom_classes": [],
            "_model_module": "@jupyter-widgets/controls",
            "_model_module_version": "1.5.0",
            "_model_name": "HBoxModel",
            "_view_count": null,
            "_view_module": "@jupyter-widgets/controls",
            "_view_module_version": "1.5.0",
            "_view_name": "HBoxView",
            "box_style": "",
            "children": [
              "IPY_MODEL_db9695977ab94ec5811ad6c81a77b85e",
              "IPY_MODEL_02099a9496e5423aa289fa9f4c8403a2",
              "IPY_MODEL_231da15f58104179af77cedf3da1b5f7"
            ],
            "layout": "IPY_MODEL_8a7773f261c04c40978817c2afc66d5b"
          }
        },
        "db9695977ab94ec5811ad6c81a77b85e": {
          "model_module": "@jupyter-widgets/controls",
          "model_name": "HTMLModel",
          "model_module_version": "1.5.0",
          "state": {
            "_dom_classes": [],
            "_model_module": "@jupyter-widgets/controls",
            "_model_module_version": "1.5.0",
            "_model_name": "HTMLModel",
            "_view_count": null,
            "_view_module": "@jupyter-widgets/controls",
            "_view_module_version": "1.5.0",
            "_view_name": "HTMLView",
            "description": "",
            "description_tooltip": null,
            "layout": "IPY_MODEL_d75a497ebed54d9d9cdba02ab828d2e5",
            "placeholder": "​",
            "style": "IPY_MODEL_12d78c03ac7d47d6800f05d9113c2016",
            "value": "preprocessor_config.json: 100%"
          }
        },
        "02099a9496e5423aa289fa9f4c8403a2": {
          "model_module": "@jupyter-widgets/controls",
          "model_name": "FloatProgressModel",
          "model_module_version": "1.5.0",
          "state": {
            "_dom_classes": [],
            "_model_module": "@jupyter-widgets/controls",
            "_model_module_version": "1.5.0",
            "_model_name": "FloatProgressModel",
            "_view_count": null,
            "_view_module": "@jupyter-widgets/controls",
            "_view_module_version": "1.5.0",
            "_view_name": "ProgressView",
            "bar_style": "success",
            "description": "",
            "description_tooltip": null,
            "layout": "IPY_MODEL_90d0a7c4bf934a9babebdb1139ab702d",
            "max": 160,
            "min": 0,
            "orientation": "horizontal",
            "style": "IPY_MODEL_5efc9dc8cf5043b19807ef4fce17209a",
            "value": 160
          }
        },
        "231da15f58104179af77cedf3da1b5f7": {
          "model_module": "@jupyter-widgets/controls",
          "model_name": "HTMLModel",
          "model_module_version": "1.5.0",
          "state": {
            "_dom_classes": [],
            "_model_module": "@jupyter-widgets/controls",
            "_model_module_version": "1.5.0",
            "_model_name": "HTMLModel",
            "_view_count": null,
            "_view_module": "@jupyter-widgets/controls",
            "_view_module_version": "1.5.0",
            "_view_name": "HTMLView",
            "description": "",
            "description_tooltip": null,
            "layout": "IPY_MODEL_21d7b800a46f4adfb0dae3c67c078300",
            "placeholder": "​",
            "style": "IPY_MODEL_c1cb730f20d74b638df03e6e0a2dafe2",
            "value": " 160/160 [00:00&lt;00:00, 5.26kB/s]"
          }
        },
        "8a7773f261c04c40978817c2afc66d5b": {
          "model_module": "@jupyter-widgets/base",
          "model_name": "LayoutModel",
          "model_module_version": "1.2.0",
          "state": {
            "_model_module": "@jupyter-widgets/base",
            "_model_module_version": "1.2.0",
            "_model_name": "LayoutModel",
            "_view_count": null,
            "_view_module": "@jupyter-widgets/base",
            "_view_module_version": "1.2.0",
            "_view_name": "LayoutView",
            "align_content": null,
            "align_items": null,
            "align_self": null,
            "border": null,
            "bottom": null,
            "display": null,
            "flex": null,
            "flex_flow": null,
            "grid_area": null,
            "grid_auto_columns": null,
            "grid_auto_flow": null,
            "grid_auto_rows": null,
            "grid_column": null,
            "grid_gap": null,
            "grid_row": null,
            "grid_template_areas": null,
            "grid_template_columns": null,
            "grid_template_rows": null,
            "height": null,
            "justify_content": null,
            "justify_items": null,
            "left": null,
            "margin": null,
            "max_height": null,
            "max_width": null,
            "min_height": null,
            "min_width": null,
            "object_fit": null,
            "object_position": null,
            "order": null,
            "overflow": null,
            "overflow_x": null,
            "overflow_y": null,
            "padding": null,
            "right": null,
            "top": null,
            "visibility": null,
            "width": null
          }
        },
        "d75a497ebed54d9d9cdba02ab828d2e5": {
          "model_module": "@jupyter-widgets/base",
          "model_name": "LayoutModel",
          "model_module_version": "1.2.0",
          "state": {
            "_model_module": "@jupyter-widgets/base",
            "_model_module_version": "1.2.0",
            "_model_name": "LayoutModel",
            "_view_count": null,
            "_view_module": "@jupyter-widgets/base",
            "_view_module_version": "1.2.0",
            "_view_name": "LayoutView",
            "align_content": null,
            "align_items": null,
            "align_self": null,
            "border": null,
            "bottom": null,
            "display": null,
            "flex": null,
            "flex_flow": null,
            "grid_area": null,
            "grid_auto_columns": null,
            "grid_auto_flow": null,
            "grid_auto_rows": null,
            "grid_column": null,
            "grid_gap": null,
            "grid_row": null,
            "grid_template_areas": null,
            "grid_template_columns": null,
            "grid_template_rows": null,
            "height": null,
            "justify_content": null,
            "justify_items": null,
            "left": null,
            "margin": null,
            "max_height": null,
            "max_width": null,
            "min_height": null,
            "min_width": null,
            "object_fit": null,
            "object_position": null,
            "order": null,
            "overflow": null,
            "overflow_x": null,
            "overflow_y": null,
            "padding": null,
            "right": null,
            "top": null,
            "visibility": null,
            "width": null
          }
        },
        "12d78c03ac7d47d6800f05d9113c2016": {
          "model_module": "@jupyter-widgets/controls",
          "model_name": "DescriptionStyleModel",
          "model_module_version": "1.5.0",
          "state": {
            "_model_module": "@jupyter-widgets/controls",
            "_model_module_version": "1.5.0",
            "_model_name": "DescriptionStyleModel",
            "_view_count": null,
            "_view_module": "@jupyter-widgets/base",
            "_view_module_version": "1.2.0",
            "_view_name": "StyleView",
            "description_width": ""
          }
        },
        "90d0a7c4bf934a9babebdb1139ab702d": {
          "model_module": "@jupyter-widgets/base",
          "model_name": "LayoutModel",
          "model_module_version": "1.2.0",
          "state": {
            "_model_module": "@jupyter-widgets/base",
            "_model_module_version": "1.2.0",
            "_model_name": "LayoutModel",
            "_view_count": null,
            "_view_module": "@jupyter-widgets/base",
            "_view_module_version": "1.2.0",
            "_view_name": "LayoutView",
            "align_content": null,
            "align_items": null,
            "align_self": null,
            "border": null,
            "bottom": null,
            "display": null,
            "flex": null,
            "flex_flow": null,
            "grid_area": null,
            "grid_auto_columns": null,
            "grid_auto_flow": null,
            "grid_auto_rows": null,
            "grid_column": null,
            "grid_gap": null,
            "grid_row": null,
            "grid_template_areas": null,
            "grid_template_columns": null,
            "grid_template_rows": null,
            "height": null,
            "justify_content": null,
            "justify_items": null,
            "left": null,
            "margin": null,
            "max_height": null,
            "max_width": null,
            "min_height": null,
            "min_width": null,
            "object_fit": null,
            "object_position": null,
            "order": null,
            "overflow": null,
            "overflow_x": null,
            "overflow_y": null,
            "padding": null,
            "right": null,
            "top": null,
            "visibility": null,
            "width": null
          }
        },
        "5efc9dc8cf5043b19807ef4fce17209a": {
          "model_module": "@jupyter-widgets/controls",
          "model_name": "ProgressStyleModel",
          "model_module_version": "1.5.0",
          "state": {
            "_model_module": "@jupyter-widgets/controls",
            "_model_module_version": "1.5.0",
            "_model_name": "ProgressStyleModel",
            "_view_count": null,
            "_view_module": "@jupyter-widgets/base",
            "_view_module_version": "1.2.0",
            "_view_name": "StyleView",
            "bar_color": null,
            "description_width": ""
          }
        },
        "21d7b800a46f4adfb0dae3c67c078300": {
          "model_module": "@jupyter-widgets/base",
          "model_name": "LayoutModel",
          "model_module_version": "1.2.0",
          "state": {
            "_model_module": "@jupyter-widgets/base",
            "_model_module_version": "1.2.0",
            "_model_name": "LayoutModel",
            "_view_count": null,
            "_view_module": "@jupyter-widgets/base",
            "_view_module_version": "1.2.0",
            "_view_name": "LayoutView",
            "align_content": null,
            "align_items": null,
            "align_self": null,
            "border": null,
            "bottom": null,
            "display": null,
            "flex": null,
            "flex_flow": null,
            "grid_area": null,
            "grid_auto_columns": null,
            "grid_auto_flow": null,
            "grid_auto_rows": null,
            "grid_column": null,
            "grid_gap": null,
            "grid_row": null,
            "grid_template_areas": null,
            "grid_template_columns": null,
            "grid_template_rows": null,
            "height": null,
            "justify_content": null,
            "justify_items": null,
            "left": null,
            "margin": null,
            "max_height": null,
            "max_width": null,
            "min_height": null,
            "min_width": null,
            "object_fit": null,
            "object_position": null,
            "order": null,
            "overflow": null,
            "overflow_x": null,
            "overflow_y": null,
            "padding": null,
            "right": null,
            "top": null,
            "visibility": null,
            "width": null
          }
        },
        "c1cb730f20d74b638df03e6e0a2dafe2": {
          "model_module": "@jupyter-widgets/controls",
          "model_name": "DescriptionStyleModel",
          "model_module_version": "1.5.0",
          "state": {
            "_model_module": "@jupyter-widgets/controls",
            "_model_module_version": "1.5.0",
            "_model_name": "DescriptionStyleModel",
            "_view_count": null,
            "_view_module": "@jupyter-widgets/base",
            "_view_module_version": "1.2.0",
            "_view_name": "StyleView",
            "description_width": ""
          }
        }
      }
    }
  },
  "nbformat": 4,
  "nbformat_minor": 0
}